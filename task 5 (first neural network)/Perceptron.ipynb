{
 "cells": [
  {
   "cell_type": "markdown",
   "id": "a2f14fa2-f212-4e25-97c0-0de39fc45d80",
   "metadata": {},
   "source": [
    "# 1. Простейший перцептрон"
   ]
  },
  {
   "cell_type": "code",
   "execution_count": 398,
   "id": "c4bf179d-828e-41cb-9182-12ecf7ec5f50",
   "metadata": {},
   "outputs": [],
   "source": [
    "import numpy as np\n",
    "import pandas as pd\n",
    "import seaborn as sns\n",
    "import warnings\n",
    "import torch\n",
    "import plotly.express as px\n",
    "import matplotlib.pyplot as plt\n",
    "from tqdm import tqdm\n",
    "\n",
    "from sklearn.decomposition import PCA\n",
    "from sklearn import datasets\n",
    "from sklearn.svm import SVC\n",
    "from sklearn.linear_model import LogisticRegression\n",
    "from sklearn.model_selection import GridSearchCV\n",
    "from sklearn.metrics import confusion_matrix, accuracy_score, classification_report, ConfusionMatrixDisplay\n",
    "from sklearn.model_selection import train_test_split"
   ]
  },
  {
   "cell_type": "code",
   "execution_count": 327,
   "id": "413f3fc0-f031-4d6a-98f0-72b3ac93a884",
   "metadata": {},
   "outputs": [],
   "source": [
    "def print_metrics(y_test, y_pred, model, target_names):\n",
    "    print(\"Accuracy: %f\" % accuracy_score(y_test, y_pred))\n",
    "    print(classification_report(y_test, y_pred, target_names=target_names))\n",
    "    \n",
    "    \n",
    "    M = confusion_matrix(y_test, y_pred, labels=model.classes_)\n",
    "    M_normalized = M.astype('float') / M.sum(axis=1)[:, np.newaxis]\n",
    "    \n",
    "    \n",
    "    disp = ConfusionMatrixDisplay(confusion_matrix=M,\n",
    "                                  display_labels=target_names)\n",
    "    disp.plot(cmap='Greens')\n",
    "    plt.xticks(ticks = range(len(target_names)), labels = target_names, rotation=90)\n",
    "    plt.yticks(ticks = range(len(target_names)), labels = target_names)\n",
    "    \n",
    "    plt.ylabel('True digit')\n",
    "    plt.xlabel('Predicted digit')\n",
    "    plt.title('Confusion matrix')\n",
    "    \n",
    "    plt.show()"
   ]
  },
  {
   "cell_type": "markdown",
   "id": "2a43232b-24f5-42bd-88e0-5b1c13d339c5",
   "metadata": {},
   "source": [
    "## Загружаем датасет ирисов"
   ]
  },
  {
   "cell_type": "code",
   "execution_count": 328,
   "id": "84c22bb8-847f-4a0b-af12-996a1bee0989",
   "metadata": {},
   "outputs": [
    {
     "name": "stdout",
     "output_type": "stream",
     "text": [
      ".. _iris_dataset:\n",
      "\n",
      "Iris plants dataset\n",
      "--------------------\n",
      "\n",
      "**Data Set Characteristics:**\n",
      "\n",
      ":Number of Instances: 150 (50 in each of three classes)\n",
      ":Number of Attributes: 4 numeric, predictive attributes and the class\n",
      ":Attribute Information:\n",
      "    - sepal length in cm\n",
      "    - sepal width in cm\n",
      "    - petal length in cm\n",
      "    - petal width in cm\n",
      "    - class:\n",
      "            - Iris-Setosa\n",
      "            - Iris-Versicolour\n",
      "            - Iris-Virginica\n",
      "\n",
      ":Summary Statistics:\n",
      "\n",
      "============== ==== ==== ======= ===== ====================\n",
      "                Min  Max   Mean    SD   Class Correlation\n",
      "============== ==== ==== ======= ===== ====================\n",
      "sepal length:   4.3  7.9   5.84   0.83    0.7826\n",
      "sepal width:    2.0  4.4   3.05   0.43   -0.4194\n",
      "petal length:   1.0  6.9   3.76   1.76    0.9490  (high!)\n",
      "petal width:    0.1  2.5   1.20   0.76    0.9565  (high!)\n",
      "============== ==== ==== ======= ===== ====================\n",
      "\n",
      ":Missing Attribute Values: None\n",
      ":Class Distribution: 33.3% for each of 3 classes.\n",
      ":Creator: R.A. Fisher\n",
      ":Donor: Michael Marshall (MARSHALL%PLU@io.arc.nasa.gov)\n",
      ":Date: July, 1988\n",
      "\n",
      "The famous Iris database, first used by Sir R.A. Fisher. The dataset is taken\n",
      "from Fisher's paper. Note that it's the same as in R, but not as in the UCI\n",
      "Machine Learning Repository, which has two wrong data points.\n",
      "\n",
      "This is perhaps the best known database to be found in the\n",
      "pattern recognition literature.  Fisher's paper is a classic in the field and\n",
      "is referenced frequently to this day.  (See Duda & Hart, for example.)  The\n",
      "data set contains 3 classes of 50 instances each, where each class refers to a\n",
      "type of iris plant.  One class is linearly separable from the other 2; the\n",
      "latter are NOT linearly separable from each other.\n",
      "\n",
      "|details-start|\n",
      "**References**\n",
      "|details-split|\n",
      "\n",
      "- Fisher, R.A. \"The use of multiple measurements in taxonomic problems\"\n",
      "  Annual Eugenics, 7, Part II, 179-188 (1936); also in \"Contributions to\n",
      "  Mathematical Statistics\" (John Wiley, NY, 1950).\n",
      "- Duda, R.O., & Hart, P.E. (1973) Pattern Classification and Scene Analysis.\n",
      "  (Q327.D83) John Wiley & Sons.  ISBN 0-471-22361-1.  See page 218.\n",
      "- Dasarathy, B.V. (1980) \"Nosing Around the Neighborhood: A New System\n",
      "  Structure and Classification Rule for Recognition in Partially Exposed\n",
      "  Environments\".  IEEE Transactions on Pattern Analysis and Machine\n",
      "  Intelligence, Vol. PAMI-2, No. 1, 67-71.\n",
      "- Gates, G.W. (1972) \"The Reduced Nearest Neighbor Rule\".  IEEE Transactions\n",
      "  on Information Theory, May 1972, 431-433.\n",
      "- See also: 1988 MLC Proceedings, 54-64.  Cheeseman et al\"s AUTOCLASS II\n",
      "  conceptual clustering system finds 3 classes in the data.\n",
      "- Many, many more ...\n",
      "\n",
      "|details-end|\n",
      "\n"
     ]
    }
   ],
   "source": [
    "dataset = datasets.load_iris()\n",
    "\n",
    "print(dataset.DESCR)"
   ]
  },
  {
   "cell_type": "code",
   "execution_count": 329,
   "id": "7ed1eafd-cb5e-4b3f-be17-c4d75320069d",
   "metadata": {},
   "outputs": [
    {
     "data": {
      "text/plain": [
       "((150, 4), (150,))"
      ]
     },
     "execution_count": 329,
     "metadata": {},
     "output_type": "execute_result"
    }
   ],
   "source": [
    "features = dataset.data\n",
    "target = dataset.target\n",
    "\n",
    "features.shape, target.shape"
   ]
  },
  {
   "cell_type": "code",
   "execution_count": 330,
   "id": "7ba44a49-53a2-4103-b197-71f13f6b67da",
   "metadata": {},
   "outputs": [],
   "source": [
    "X = pd.DataFrame(features, columns=dataset['feature_names'])\n",
    "y = target\n",
    "df = X.copy()\n",
    "df['target'] = y"
   ]
  },
  {
   "cell_type": "code",
   "execution_count": 331,
   "id": "7353e01e-ecd8-4abd-8fb0-1bee7640f31d",
   "metadata": {},
   "outputs": [
    {
     "data": {
      "text/html": [
       "<div>\n",
       "<style scoped>\n",
       "    .dataframe tbody tr th:only-of-type {\n",
       "        vertical-align: middle;\n",
       "    }\n",
       "\n",
       "    .dataframe tbody tr th {\n",
       "        vertical-align: top;\n",
       "    }\n",
       "\n",
       "    .dataframe thead th {\n",
       "        text-align: right;\n",
       "    }\n",
       "</style>\n",
       "<table border=\"1\" class=\"dataframe\">\n",
       "  <thead>\n",
       "    <tr style=\"text-align: right;\">\n",
       "      <th></th>\n",
       "      <th>sepal length (cm)</th>\n",
       "      <th>sepal width (cm)</th>\n",
       "      <th>petal length (cm)</th>\n",
       "      <th>petal width (cm)</th>\n",
       "      <th>target</th>\n",
       "    </tr>\n",
       "  </thead>\n",
       "  <tbody>\n",
       "    <tr>\n",
       "      <th>0</th>\n",
       "      <td>5.1</td>\n",
       "      <td>3.5</td>\n",
       "      <td>1.4</td>\n",
       "      <td>0.2</td>\n",
       "      <td>0</td>\n",
       "    </tr>\n",
       "    <tr>\n",
       "      <th>1</th>\n",
       "      <td>4.9</td>\n",
       "      <td>3.0</td>\n",
       "      <td>1.4</td>\n",
       "      <td>0.2</td>\n",
       "      <td>0</td>\n",
       "    </tr>\n",
       "    <tr>\n",
       "      <th>2</th>\n",
       "      <td>4.7</td>\n",
       "      <td>3.2</td>\n",
       "      <td>1.3</td>\n",
       "      <td>0.2</td>\n",
       "      <td>0</td>\n",
       "    </tr>\n",
       "    <tr>\n",
       "      <th>3</th>\n",
       "      <td>4.6</td>\n",
       "      <td>3.1</td>\n",
       "      <td>1.5</td>\n",
       "      <td>0.2</td>\n",
       "      <td>0</td>\n",
       "    </tr>\n",
       "    <tr>\n",
       "      <th>4</th>\n",
       "      <td>5.0</td>\n",
       "      <td>3.6</td>\n",
       "      <td>1.4</td>\n",
       "      <td>0.2</td>\n",
       "      <td>0</td>\n",
       "    </tr>\n",
       "  </tbody>\n",
       "</table>\n",
       "</div>"
      ],
      "text/plain": [
       "   sepal length (cm)  sepal width (cm)  petal length (cm)  petal width (cm)  \\\n",
       "0                5.1               3.5                1.4               0.2   \n",
       "1                4.9               3.0                1.4               0.2   \n",
       "2                4.7               3.2                1.3               0.2   \n",
       "3                4.6               3.1                1.5               0.2   \n",
       "4                5.0               3.6                1.4               0.2   \n",
       "\n",
       "   target  \n",
       "0       0  \n",
       "1       0  \n",
       "2       0  \n",
       "3       0  \n",
       "4       0  "
      ]
     },
     "execution_count": 331,
     "metadata": {},
     "output_type": "execute_result"
    }
   ],
   "source": [
    "df.head()"
   ]
  },
  {
   "cell_type": "code",
   "execution_count": 332,
   "id": "def50707-0069-462f-83bc-79d3b8c4b04c",
   "metadata": {},
   "outputs": [
    {
     "data": {
      "text/plain": [
       "sepal length (cm)    0\n",
       "sepal width (cm)     0\n",
       "petal length (cm)    0\n",
       "petal width (cm)     0\n",
       "target               0\n",
       "dtype: int64"
      ]
     },
     "execution_count": 332,
     "metadata": {},
     "output_type": "execute_result"
    }
   ],
   "source": [
    "df.isnull().sum()"
   ]
  },
  {
   "cell_type": "markdown",
   "id": "6ef0d5a4-e854-44d2-9f74-a3bc6b3b8cc4",
   "metadata": {},
   "source": [
    "## Визуализация данных"
   ]
  },
  {
   "cell_type": "code",
   "execution_count": 333,
   "id": "824af5d1-3219-44e9-b474-fd4b13a00d66",
   "metadata": {},
   "outputs": [
    {
     "data": {
      "image/png": "[encoded data removed]",
      "text/plain": [
       "<Figure size 640x480 with 1 Axes>"
      ]
     },
     "metadata": {},
     "output_type": "display_data"
    }
   ],
   "source": [
    "# посмотрим на распределение меток\n",
    "sns.histplot(x='target', data=df, bins=50, kde=True)\n",
    "plt.xlabel('target')\n",
    "plt.grid()\n",
    "plt.show()"
   ]
  },
  {
   "cell_type": "code",
   "execution_count": 334,
   "id": "5c2677a6-fe03-45fa-8fad-078bd652ac01",
   "metadata": {},
   "outputs": [
    {
     "data": {
      "application/vnd.plotly.v1+json": {
       "config": {
        "plotlyServerURL": "https://plot.ly"
       },
       "data": [
        {
         "customdata": [
          [
           1.4
          ],
          [
           1.4
          ],
          [
           1.3
          ],
          [
           1.5
          ],
          [
           1.4
          ],
          [
           1.7
          ],
          [
           1.4
          ],
          [
           1.5
          ],
          [
           1.4
          ],
          [
           1.5
          ],
          [
           1.5
          ],
          [
           1.6
          ],
          [
           1.4
          ],
          [
           1.1
          ],
          [
           1.2
          ],
          [
           1.5
          ],
          [
           1.3
          ],
          [
           1.4
          ],
          [
           1.7
          ],
          [
           1.5
          ],
          [
           1.7
          ],
          [
           1.5
          ],
          [
           1
          ],
          [
           1.7
          ],
          [
           1.9
          ],
          [
           1.6
          ],
          [
           1.6
          ],
          [
           1.5
          ],
          [
           1.4
          ],
          [
           1.6
          ],
          [
           1.6
          ],
          [
           1.5
          ],
          [
           1.5
          ],
          [
           1.4
          ],
          [
           1.5
          ],
          [
           1.2
          ],
          [
           1.3
          ],
          [
           1.4
          ],
          [
           1.3
          ],
          [
           1.5
          ],
          [
           1.3
          ],
          [
           1.3
          ],
          [
           1.3
          ],
          [
           1.6
          ],
          [
           1.9
          ],
          [
           1.4
          ],
          [
           1.6
          ],
          [
           1.4
          ],
          [
           1.5
          ],
          [
           1.4
          ]
         ],
         "hovertemplate": "target=%{marker.color}<br>sepal width (cm)=%{x}<br>sepal length (cm)=%{y}<br>petal width (cm)=%{marker.size}<br>petal length (cm)=%{customdata[0]}<extra></extra>",
         "legendgroup": "",
         "marker": {
          "color": [
           0,
           0,
           0,
           0,
           0,
           0,
           0,
           0,
           0,
           0,
           0,
           0,
           0,
           0,
           0,
           0,
           0,
           0,
           0,
           0,
           0,
           0,
           0,
           0,
           0,
           0,
           0,
           0,
           0,
           0,
           0,
           0,
           0,
           0,
           0,
           0,
           0,
           0,
           0,
           0,
           0,
           0,
           0,
           0,
           0,
           0,
           0,
           0,
           0,
           0
          ],
          "coloraxis": "coloraxis",
          "size": [
           0.2,
           0.2,
           0.2,
           0.2,
           0.2,
           0.4,
           0.3,
           0.2,
           0.2,
           0.1,
           0.2,
           0.2,
           0.1,
           0.1,
           0.2,
           0.4,
           0.4,
           0.3,
           0.3,
           0.3,
           0.2,
           0.4,
           0.2,
           0.5,
           0.2,
           0.2,
           0.4,
           0.2,
           0.2,
           0.2,
           0.2,
           0.4,
           0.1,
           0.2,
           0.2,
           0.2,
           0.2,
           0.1,
           0.2,
           0.2,
           0.3,
           0.3,
           0.2,
           0.6,
           0.4,
           0.3,
           0.2,
           0.2,
           0.2,
           0.2
          ],
          "sizemode": "area",
          "sizeref": 0.00625,
          "symbol": "circle"
         },
         "mode": "markers",
         "name": "",
         "orientation": "v",
         "showlegend": false,
         "type": "scatter",
         "x": [
          3.5,
          3,
          3.2,
          3.1,
          3.6,
          3.9,
          3.4,
          3.4,
          2.9,
          3.1,
          3.7,
          3.4,
          3,
          3,
          4,
          4.4,
          3.9,
          3.5,
          3.8,
          3.8,
          3.4,
          3.7,
          3.6,
          3.3,
          3.4,
          3,
          3.4,
          3.5,
          3.4,
          3.2,
          3.1,
          3.4,
          4.1,
          4.2,
          3.1,
          3.2,
          3.5,
          3.6,
          3,
          3.4,
          3.5,
          2.3,
          3.2,
          3.5,
          3.8,
          3,
          3.8,
          3.2,
          3.7,
          3.3
         ],
         "xaxis": "x",
         "y": [
          5.1,
          4.9,
          4.7,
          4.6,
          5,
          5.4,
          4.6,
          5,
          4.4,
          4.9,
          5.4,
          4.8,
          4.8,
          4.3,
          5.8,
          5.7,
          5.4,
          5.1,
          5.7,
          5.1,
          5.4,
          5.1,
          4.6,
          5.1,
          4.8,
          5,
          5,
          5.2,
          5.2,
          4.7,
          4.8,
          5.4,
          5.2,
          5.5,
          4.9,
          5,
          5.5,
          4.9,
          4.4,
          5.1,
          5,
          4.5,
          4.4,
          5,
          5.1,
          4.8,
          5.1,
          4.6,
          5.3,
          5
         ],
         "yaxis": "y"
        },
        {
         "customdata": [
          [
           4.7
          ],
          [
           4.5
          ],
          [
           4.9
          ],
          [
           4
          ],
          [
           4.6
          ],
          [
           4.5
          ],
          [
           4.7
          ],
          [
           3.3
          ],
          [
           4.6
          ],
          [
           3.9
          ],
          [
           3.5
          ],
          [
           4.2
          ],
          [
           4
          ],
          [
           4.7
          ],
          [
           3.6
          ],
          [
           4.4
          ],
          [
           4.5
          ],
          [
           4.1
          ],
          [
           4.5
          ],
          [
           3.9
          ],
          [
           4.8
          ],
          [
           4
          ],
          [
           4.9
          ],
          [
           4.7
          ],
          [
           4.3
          ],
          [
           4.4
          ],
          [
           4.8
          ],
          [
           5
          ],
          [
           4.5
          ],
          [
           3.5
          ],
          [
           3.8
          ],
          [
           3.7
          ],
          [
           3.9
          ],
          [
           5.1
          ],
          [
           4.5
          ],
          [
           4.5
          ],
          [
           4.7
          ],
          [
           4.4
          ],
          [
           4.1
          ],
          [
           4
          ],
          [
           4.4
          ],
          [
           4.6
          ],
          [
           4
          ],
          [
           3.3
          ],
          [
           4.2
          ],
          [
           4.2
          ],
          [
           4.2
          ],
          [
           4.3
          ],
          [
           3
          ],
          [
           4.1
          ]
         ],
         "hovertemplate": "target=%{marker.color}<br>sepal width (cm)=%{x}<br>sepal length (cm)=%{y}<br>petal width (cm)=%{marker.size}<br>petal length (cm)=%{customdata[0]}<extra></extra>",
         "legendgroup": "",
         "marker": {
          "color": [
           1,
           1,
           1,
           1,
           1,
           1,
           1,
           1,
           1,
           1,
           1,
           1,
           1,
           1,
           1,
           1,
           1,
           1,
           1,
           1,
           1,
           1,
           1,
           1,
           1,
           1,
           1,
           1,
           1,
           1,
           1,
           1,
           1,
           1,
           1,
           1,
           1,
           1,
           1,
           1,
           1,
           1,
           1,
           1,
           1,
           1,
           1,
           1,
           1,
           1
          ],
          "coloraxis": "coloraxis",
          "size": [
           1.4,
           1.5,
           1.5,
           1.3,
           1.5,
           1.3,
           1.6,
           1,
           1.3,
           1.4,
           1,
           1.5,
           1,
           1.4,
           1.3,
           1.4,
           1.5,
           1,
           1.5,
           1.1,
           1.8,
           1.3,
           1.5,
           1.2,
           1.3,
           1.4,
           1.4,
           1.7,
           1.5,
           1,
           1.1,
           1,
           1.2,
           1.6,
           1.5,
           1.6,
           1.5,
           1.3,
           1.3,
           1.3,
           1.2,
           1.4,
           1.2,
           1,
           1.3,
           1.2,
           1.3,
           1.3,
           1.1,
           1.3
          ],
          "sizemode": "area",
          "sizeref": 0.00625,
          "symbol": "circle"
         },
         "mode": "markers",
         "name": "",
         "orientation": "v",
         "showlegend": false,
         "type": "scatter",
         "x": [
          3.2,
          3.2,
          3.1,
          2.3,
          2.8,
          2.8,
          3.3,
          2.4,
          2.9,
          2.7,
          2,
          3,
          2.2,
          2.9,
          2.9,
          3.1,
          3,
          2.7,
          2.2,
          2.5,
          3.2,
          2.8,
          2.5,
          2.8,
          2.9,
          3,
          2.8,
          3,
          2.9,
          2.6,
          2.4,
          2.4,
          2.7,
          2.7,
          3,
          3.4,
          3.1,
          2.3,
          3,
          2.5,
          2.6,
          3,
          2.6,
          2.3,
          2.7,
          3,
          2.9,
          2.9,
          2.5,
          2.8
         ],
         "xaxis": "x2",
         "y": [
          7,
          6.4,
          6.9,
          5.5,
          6.5,
          5.7,
          6.3,
          4.9,
          6.6,
          5.2,
          5,
          5.9,
          6,
          6.1,
          5.6,
          6.7,
          5.6,
          5.8,
          6.2,
          5.6,
          5.9,
          6.1,
          6.3,
          6.1,
          6.4,
          6.6,
          6.8,
          6.7,
          6,
          5.7,
          5.5,
          5.5,
          5.8,
          6,
          5.4,
          6,
          6.7,
          6.3,
          5.6,
          5.5,
          5.5,
          6.1,
          5.8,
          5,
          5.6,
          5.7,
          5.7,
          6.2,
          5.1,
          5.7
         ],
         "yaxis": "y2"
        },
        {
         "customdata": [
          [
           6
          ],
          [
           5.1
          ],
          [
           5.9
          ],
          [
           5.6
          ],
          [
           5.8
          ],
          [
           6.6
          ],
          [
           4.5
          ],
          [
           6.3
          ],
          [
           5.8
          ],
          [
           6.1
          ],
          [
           5.1
          ],
          [
           5.3
          ],
          [
           5.5
          ],
          [
           5
          ],
          [
           5.1
          ],
          [
           5.3
          ],
          [
           5.5
          ],
          [
           6.7
          ],
          [
           6.9
          ],
          [
           5
          ],
          [
           5.7
          ],
          [
           4.9
          ],
          [
           6.7
          ],
          [
           4.9
          ],
          [
           5.7
          ],
          [
           6
          ],
          [
           4.8
          ],
          [
           4.9
          ],
          [
           5.6
          ],
          [
           5.8
          ],
          [
           6.1
          ],
          [
           6.4
          ],
          [
           5.6
          ],
          [
           5.1
          ],
          [
           5.6
          ],
          [
           6.1
          ],
          [
           5.6
          ],
          [
           5.5
          ],
          [
           4.8
          ],
          [
           5.4
          ],
          [
           5.6
          ],
          [
           5.1
          ],
          [
           5.1
          ],
          [
           5.9
          ],
          [
           5.7
          ],
          [
           5.2
          ],
          [
           5
          ],
          [
           5.2
          ],
          [
           5.4
          ],
          [
           5.1
          ]
         ],
         "hovertemplate": "target=%{marker.color}<br>sepal width (cm)=%{x}<br>sepal length (cm)=%{y}<br>petal width (cm)=%{marker.size}<br>petal length (cm)=%{customdata[0]}<extra></extra>",
         "legendgroup": "",
         "marker": {
          "color": [
           2,
           2,
           2,
           2,
           2,
           2,
           2,
           2,
           2,
           2,
           2,
           2,
           2,
           2,
           2,
           2,
           2,
           2,
           2,
           2,
           2,
           2,
           2,
           2,
           2,
           2,
           2,
           2,
           2,
           2,
           2,
           2,
           2,
           2,
           2,
           2,
           2,
           2,
           2,
           2,
           2,
           2,
           2,
           2,
           2,
           2,
           2,
           2,
           2,
           2
          ],
          "coloraxis": "coloraxis",
          "size": [
           2.5,
           1.9,
           2.1,
           1.8,
           2.2,
           2.1,
           1.7,
           1.8,
           1.8,
           2.5,
           2,
           1.9,
           2.1,
           2,
           2.4,
           2.3,
           1.8,
           2.2,
           2.3,
           1.5,
           2.3,
           2,
           2,
           1.8,
           2.1,
           1.8,
           1.8,
           1.8,
           2.1,
           1.6,
           1.9,
           2,
           2.2,
           1.5,
           1.4,
           2.3,
           2.4,
           1.8,
           1.8,
           2.1,
           2.4,
           2.3,
           1.9,
           2.3,
           2.5,
           2.3,
           1.9,
           2,
           2.3,
           1.8
          ],
          "sizemode": "area",
          "sizeref": 0.00625,
          "symbol": "circle"
         },
         "mode": "markers",
         "name": "",
         "orientation": "v",
         "showlegend": false,
         "type": "scatter",
         "x": [
          3.3,
          2.7,
          3,
          2.9,
          3,
          3,
          2.5,
          2.9,
          2.5,
          3.6,
          3.2,
          2.7,
          3,
          2.5,
          2.8,
          3.2,
          3,
          3.8,
          2.6,
          2.2,
          3.2,
          2.8,
          2.8,
          2.7,
          3.3,
          3.2,
          2.8,
          3,
          2.8,
          3,
          2.8,
          3.8,
          2.8,
          2.8,
          2.6,
          3,
          3.4,
          3.1,
          3,
          3.1,
          3.1,
          3.1,
          2.7,
          3.2,
          3.3,
          3,
          2.5,
          3,
          3.4,
          3
         ],
         "xaxis": "x3",
         "y": [
          6.3,
          5.8,
          7.1,
          6.3,
          6.5,
          7.6,
          4.9,
          7.3,
          6.7,
          7.2,
          6.5,
          6.4,
          6.8,
          5.7,
          5.8,
          6.4,
          6.5,
          7.7,
          7.7,
          6,
          6.9,
          5.6,
          7.7,
          6.3,
          6.7,
          7.2,
          6.2,
          6.1,
          6.4,
          7.2,
          7.4,
          7.9,
          6.4,
          6.3,
          6.1,
          7.7,
          6.3,
          6.4,
          6,
          6.9,
          6.7,
          6.9,
          5.8,
          6.8,
          6.7,
          6.7,
          6.3,
          6.5,
          6.2,
          5.9
         ],
         "yaxis": "y3"
        }
       ],
       "layout": {
        "annotations": [
         {
          "font": {},
          "showarrow": false,
          "text": "target=0",
          "x": 0.15999999999999998,
          "xanchor": "center",
          "xref": "paper",
          "y": 1,
          "yanchor": "bottom",
          "yref": "paper"
         },
         {
          "font": {},
          "showarrow": false,
          "text": "target=1",
          "x": 0.49999999999999994,
          "xanchor": "center",
          "xref": "paper",
          "y": 1,
          "yanchor": "bottom",
          "yref": "paper"
         },
         {
          "font": {},
          "showarrow": false,
          "text": "target=2",
          "x": 0.8399999999999999,
          "xanchor": "center",
          "xref": "paper",
          "y": 1,
          "yanchor": "bottom",
          "yref": "paper"
         }
        ],
        "autosize": true,
        "coloraxis": {
         "colorbar": {
          "title": {
           "text": "target"
          }
         },
         "colorscale": [
          [
           0,
           "#0d0887"
          ],
          [
           0.1111111111111111,
           "#46039f"
          ],
          [
           0.2222222222222222,
           "#7201a8"
          ],
          [
           0.3333333333333333,
           "#9c179e"
          ],
          [
           0.4444444444444444,
           "#bd3786"
          ],
          [
           0.5555555555555556,
           "#d8576b"
          ],
          [
           0.6666666666666666,
           "#ed7953"
          ],
          [
           0.7777777777777778,
           "#fb9f3a"
          ],
          [
           0.8888888888888888,
           "#fdca26"
          ],
          [
           1,
           "#f0f921"
          ]
         ]
        },
        "legend": {
         "itemsizing": "constant",
         "tracegroupgap": 0
        },
        "margin": {
         "t": 60
        },
        "template": {
         "data": {
          "bar": [
           {
            "error_x": {
             "color": "#2a3f5f"
            },
            "error_y": {
             "color": "#2a3f5f"
            },
            "marker": {
             "line": {
              "color": "#E5ECF6",
              "width": 0.5
             },
             "pattern": {
              "fillmode": "overlay",
              "size": 10,
              "solidity": 0.2
             }
            },
            "type": "bar"
           }
          ],
          "barpolar": [
           {
            "marker": {
             "line": {
              "color": "#E5ECF6",
              "width": 0.5
             },
             "pattern": {
              "fillmode": "overlay",
              "size": 10,
              "solidity": 0.2
             }
            },
            "type": "barpolar"
           }
          ],
          "carpet": [
           {
            "aaxis": {
             "endlinecolor": "#2a3f5f",
             "gridcolor": "white",
             "linecolor": "white",
             "minorgridcolor": "white",
             "startlinecolor": "#2a3f5f"
            },
            "baxis": {
             "endlinecolor": "#2a3f5f",
             "gridcolor": "white",
             "linecolor": "white",
             "minorgridcolor": "white",
             "startlinecolor": "#2a3f5f"
            },
            "type": "carpet"
           }
          ],
          "choropleth": [
           {
            "colorbar": {
             "outlinewidth": 0,
             "ticks": ""
            },
            "type": "choropleth"
           }
          ],
          "contour": [
           {
            "colorbar": {
             "outlinewidth": 0,
             "ticks": ""
            },
            "colorscale": [
             [
              0,
              "#0d0887"
             ],
             [
              0.1111111111111111,
              "#46039f"
             ],
             [
              0.2222222222222222,
              "#7201a8"
             ],
             [
              0.3333333333333333,
              "#9c179e"
             ],
             [
              0.4444444444444444,
              "#bd3786"
             ],
             [
              0.5555555555555556,
              "#d8576b"
             ],
             [
              0.6666666666666666,
              "#ed7953"
             ],
             [
              0.7777777777777778,
              "#fb9f3a"
             ],
             [
              0.8888888888888888,
              "#fdca26"
             ],
             [
              1,
              "#f0f921"
             ]
            ],
            "type": "contour"
           }
          ],
          "contourcarpet": [
           {
            "colorbar": {
             "outlinewidth": 0,
             "ticks": ""
            },
            "type": "contourcarpet"
           }
          ],
          "heatmap": [
           {
            "colorbar": {
             "outlinewidth": 0,
             "ticks": ""
            },
            "colorscale": [
             [
              0,
              "#0d0887"
             ],
             [
              0.1111111111111111,
              "#46039f"
             ],
             [
              0.2222222222222222,
              "#7201a8"
             ],
             [
              0.3333333333333333,
              "#9c179e"
             ],
             [
              0.4444444444444444,
              "#bd3786"
             ],
             [
              0.5555555555555556,
              "#d8576b"
             ],
             [
              0.6666666666666666,
              "#ed7953"
             ],
             [
              0.7777777777777778,
              "#fb9f3a"
             ],
             [
              0.8888888888888888,
              "#fdca26"
             ],
             [
              1,
              "#f0f921"
             ]
            ],
            "type": "heatmap"
           }
          ],
          "heatmapgl": [
           {
            "colorbar": {
             "outlinewidth": 0,
             "ticks": ""
            },
            "colorscale": [
             [
              0,
              "#0d0887"
             ],
             [
              0.1111111111111111,
              "#46039f"
             ],
             [
              0.2222222222222222,
              "#7201a8"
             ],
             [
              0.3333333333333333,
              "#9c179e"
             ],
             [
              0.4444444444444444,
              "#bd3786"
             ],
             [
              0.5555555555555556,
              "#d8576b"
             ],
             [
              0.6666666666666666,
              "#ed7953"
             ],
             [
              0.7777777777777778,
              "#fb9f3a"
             ],
             [
              0.8888888888888888,
              "#fdca26"
             ],
             [
              1,
              "#f0f921"
             ]
            ],
            "type": "heatmapgl"
           }
          ],
          "histogram": [
           {
            "marker": {
             "pattern": {
              "fillmode": "overlay",
              "size": 10,
              "solidity": 0.2
             }
            },
            "type": "histogram"
           }
          ],
          "histogram2d": [
           {
            "colorbar": {
             "outlinewidth": 0,
             "ticks": ""
            },
            "colorscale": [
             [
              0,
              "#0d0887"
             ],
             [
              0.1111111111111111,
              "#46039f"
             ],
             [
              0.2222222222222222,
              "#7201a8"
             ],
             [
              0.3333333333333333,
              "#9c179e"
             ],
             [
              0.4444444444444444,
              "#bd3786"
             ],
             [
              0.5555555555555556,
              "#d8576b"
             ],
             [
              0.6666666666666666,
              "#ed7953"
             ],
             [
              0.7777777777777778,
              "#fb9f3a"
             ],
             [
              0.8888888888888888,
              "#fdca26"
             ],
             [
              1,
              "#f0f921"
             ]
            ],
            "type": "histogram2d"
           }
          ],
          "histogram2dcontour": [
           {
            "colorbar": {
             "outlinewidth": 0,
             "ticks": ""
            },
            "colorscale": [
             [
              0,
              "#0d0887"
             ],
             [
              0.1111111111111111,
              "#46039f"
             ],
             [
              0.2222222222222222,
              "#7201a8"
             ],
             [
              0.3333333333333333,
              "#9c179e"
             ],
             [
              0.4444444444444444,
              "#bd3786"
             ],
             [
              0.5555555555555556,
              "#d8576b"
             ],
             [
              0.6666666666666666,
              "#ed7953"
             ],
             [
              0.7777777777777778,
              "#fb9f3a"
             ],
             [
              0.8888888888888888,
              "#fdca26"
             ],
             [
              1,
              "#f0f921"
             ]
            ],
            "type": "histogram2dcontour"
           }
          ],
          "mesh3d": [
           {
            "colorbar": {
             "outlinewidth": 0,
             "ticks": ""
            },
            "type": "mesh3d"
           }
          ],
          "parcoords": [
           {
            "line": {
             "colorbar": {
              "outlinewidth": 0,
              "ticks": ""
             }
            },
            "type": "parcoords"
           }
          ],
          "pie": [
           {
            "automargin": true,
            "type": "pie"
           }
          ],
          "scatter": [
           {
            "fillpattern": {
             "fillmode": "overlay",
             "size": 10,
             "solidity": 0.2
            },
            "type": "scatter"
           }
          ],
          "scatter3d": [
           {
            "line": {
             "colorbar": {
              "outlinewidth": 0,
              "ticks": ""
             }
            },
            "marker": {
             "colorbar": {
              "outlinewidth": 0,
              "ticks": ""
             }
            },
            "type": "scatter3d"
           }
          ],
          "scattercarpet": [
           {
            "marker": {
             "colorbar": {
              "outlinewidth": 0,
              "ticks": ""
             }
            },
            "type": "scattercarpet"
           }
          ],
          "scattergeo": [
           {
            "marker": {
             "colorbar": {
              "outlinewidth": 0,
              "ticks": ""
             }
            },
            "type": "scattergeo"
           }
          ],
          "scattergl": [
           {
            "marker": {
             "colorbar": {
              "outlinewidth": 0,
              "ticks": ""
             }
            },
            "type": "scattergl"
           }
          ],
          "scattermapbox": [
           {
            "marker": {
             "colorbar": {
              "outlinewidth": 0,
              "ticks": ""
             }
            },
            "type": "scattermapbox"
           }
          ],
          "scatterpolar": [
           {
            "marker": {
             "colorbar": {
              "outlinewidth": 0,
              "ticks": ""
             }
            },
            "type": "scatterpolar"
           }
          ],
          "scatterpolargl": [
           {
            "marker": {
             "colorbar": {
              "outlinewidth": 0,
              "ticks": ""
             }
            },
            "type": "scatterpolargl"
           }
          ],
          "scatterternary": [
           {
            "marker": {
             "colorbar": {
              "outlinewidth": 0,
              "ticks": ""
             }
            },
            "type": "scatterternary"
           }
          ],
          "surface": [
           {
            "colorbar": {
             "outlinewidth": 0,
             "ticks": ""
            },
            "colorscale": [
             [
              0,
              "#0d0887"
             ],
             [
              0.1111111111111111,
              "#46039f"
             ],
             [
              0.2222222222222222,
              "#7201a8"
             ],
             [
              0.3333333333333333,
              "#9c179e"
             ],
             [
              0.4444444444444444,
              "#bd3786"
             ],
             [
              0.5555555555555556,
              "#d8576b"
             ],
             [
              0.6666666666666666,
              "#ed7953"
             ],
             [
              0.7777777777777778,
              "#fb9f3a"
             ],
             [
              0.8888888888888888,
              "#fdca26"
             ],
             [
              1,
              "#f0f921"
             ]
            ],
            "type": "surface"
           }
          ],
          "table": [
           {
            "cells": {
             "fill": {
              "color": "#EBF0F8"
             },
             "line": {
              "color": "white"
             }
            },
            "header": {
             "fill": {
              "color": "#C8D4E3"
             },
             "line": {
              "color": "white"
             }
            },
            "type": "table"
           }
          ]
         },
         "layout": {
          "annotationdefaults": {
           "arrowcolor": "#2a3f5f",
           "arrowhead": 0,
           "arrowwidth": 1
          },
          "autotypenumbers": "strict",
          "coloraxis": {
           "colorbar": {
            "outlinewidth": 0,
            "ticks": ""
           }
          },
          "colorscale": {
           "diverging": [
            [
             0,
             "#8e0152"
            ],
            [
             0.1,
             "#c51b7d"
            ],
            [
             0.2,
             "#de77ae"
            ],
            [
             0.3,
             "#f1b6da"
            ],
            [
             0.4,
             "#fde0ef"
            ],
            [
             0.5,
             "#f7f7f7"
            ],
            [
             0.6,
             "#e6f5d0"
            ],
            [
             0.7,
             "#b8e186"
            ],
            [
             0.8,
             "#7fbc41"
            ],
            [
             0.9,
             "#4d9221"
            ],
            [
             1,
             "#276419"
            ]
           ],
           "sequential": [
            [
             0,
             "#0d0887"
            ],
            [
             0.1111111111111111,
             "#46039f"
            ],
            [
             0.2222222222222222,
             "#7201a8"
            ],
            [
             0.3333333333333333,
             "#9c179e"
            ],
            [
             0.4444444444444444,
             "#bd3786"
            ],
            [
             0.5555555555555556,
             "#d8576b"
            ],
            [
             0.6666666666666666,
             "#ed7953"
            ],
            [
             0.7777777777777778,
             "#fb9f3a"
            ],
            [
             0.8888888888888888,
             "#fdca26"
            ],
            [
             1,
             "#f0f921"
            ]
           ],
           "sequentialminus": [
            [
             0,
             "#0d0887"
            ],
            [
             0.1111111111111111,
             "#46039f"
            ],
            [
             0.2222222222222222,
             "#7201a8"
            ],
            [
             0.3333333333333333,
             "#9c179e"
            ],
            [
             0.4444444444444444,
             "#bd3786"
            ],
            [
             0.5555555555555556,
             "#d8576b"
            ],
            [
             0.6666666666666666,
             "#ed7953"
            ],
            [
             0.7777777777777778,
             "#fb9f3a"
            ],
            [
             0.8888888888888888,
             "#fdca26"
            ],
            [
             1,
             "#f0f921"
            ]
           ]
          },
          "colorway": [
           "#636efa",
           "#EF553B",
           "#00cc96",
           "#ab63fa",
           "#FFA15A",
           "#19d3f3",
           "#FF6692",
           "#B6E880",
           "#FF97FF",
           "#FECB52"
          ],
          "font": {
           "color": "#2a3f5f"
          },
          "geo": {
           "bgcolor": "white",
           "lakecolor": "white",
           "landcolor": "#E5ECF6",
           "showlakes": true,
           "showland": true,
           "subunitcolor": "white"
          },
          "hoverlabel": {
           "align": "left"
          },
          "hovermode": "closest",
          "mapbox": {
           "style": "light"
          },
          "paper_bgcolor": "white",
          "plot_bgcolor": "#E5ECF6",
          "polar": {
           "angularaxis": {
            "gridcolor": "white",
            "linecolor": "white",
            "ticks": ""
           },
           "bgcolor": "#E5ECF6",
           "radialaxis": {
            "gridcolor": "white",
            "linecolor": "white",
            "ticks": ""
           }
          },
          "scene": {
           "xaxis": {
            "backgroundcolor": "#E5ECF6",
            "gridcolor": "white",
            "gridwidth": 2,
            "linecolor": "white",
            "showbackground": true,
            "ticks": "",
            "zerolinecolor": "white"
           },
           "yaxis": {
            "backgroundcolor": "#E5ECF6",
            "gridcolor": "white",
            "gridwidth": 2,
            "linecolor": "white",
            "showbackground": true,
            "ticks": "",
            "zerolinecolor": "white"
           },
           "zaxis": {
            "backgroundcolor": "#E5ECF6",
            "gridcolor": "white",
            "gridwidth": 2,
            "linecolor": "white",
            "showbackground": true,
            "ticks": "",
            "zerolinecolor": "white"
           }
          },
          "shapedefaults": {
           "line": {
            "color": "#2a3f5f"
           }
          },
          "ternary": {
           "aaxis": {
            "gridcolor": "white",
            "linecolor": "white",
            "ticks": ""
           },
           "baxis": {
            "gridcolor": "white",
            "linecolor": "white",
            "ticks": ""
           },
           "bgcolor": "#E5ECF6",
           "caxis": {
            "gridcolor": "white",
            "linecolor": "white",
            "ticks": ""
           }
          },
          "title": {
           "x": 0.05
          },
          "xaxis": {
           "automargin": true,
           "gridcolor": "white",
           "linecolor": "white",
           "ticks": "",
           "title": {
            "standoff": 15
           },
           "zerolinecolor": "white",
           "zerolinewidth": 2
          },
          "yaxis": {
           "automargin": true,
           "gridcolor": "white",
           "linecolor": "white",
           "ticks": "",
           "title": {
            "standoff": 15
           },
           "zerolinecolor": "white",
           "zerolinewidth": 2
          }
         }
        },
        "xaxis": {
         "anchor": "y",
         "autorange": true,
         "domain": [
          0,
          0.31999999999999995
         ],
         "range": [
          1.7591437583081295,
          4.604622867752362
         ],
         "title": {
          "text": "sepal width (cm)"
         },
         "type": "linear"
        },
        "xaxis2": {
         "anchor": "y2",
         "autorange": true,
         "domain": [
          0.33999999999999997,
          0.6599999999999999
         ],
         "matches": "x",
         "range": [
          1.7591437583081295,
          4.604622867752362
         ],
         "title": {
          "text": "sepal width (cm)"
         },
         "type": "linear"
        },
        "xaxis3": {
         "anchor": "y3",
         "autorange": true,
         "domain": [
          0.6799999999999999,
          0.9999999999999999
         ],
         "matches": "x",
         "range": [
          1.7591437583081295,
          4.604622867752362
         ],
         "title": {
          "text": "sepal width (cm)"
         },
         "type": "linear"
        },
        "yaxis": {
         "anchor": "x",
         "autorange": true,
         "domain": [
          0,
          1
         ],
         "range": [
          4.0178447990724315,
          8.400907022082608
         ],
         "title": {
          "text": "sepal length (cm)"
         },
         "type": "linear"
        },
        "yaxis2": {
         "anchor": "x2",
         "autorange": true,
         "domain": [
          0,
          1
         ],
         "matches": "y",
         "range": [
          4.0178447990724315,
          8.400907022082608
         ],
         "showticklabels": false,
         "type": "linear"
        },
        "yaxis3": {
         "anchor": "x3",
         "autorange": true,
         "domain": [
          0,
          1
         ],
         "matches": "y",
         "range": [
          4.0178447990724315,
          8.400907022082608
         ],
         "showticklabels": false,
         "type": "linear"
        }
       }
      },
      "image/png": "[encoded data removed]",
      "text/html": [
       "<div>                            <div id=\"802eda28-10af-4df2-9bdb-15f880c9cd33\" class=\"plotly-graph-div\" style=\"height:525px; width:100%;\"></div>            <script type=\"text/javascript\">                require([\"plotly\"], function(Plotly) {                    window.PLOTLYENV=window.PLOTLYENV || {};                                    if (document.getElementById(\"802eda28-10af-4df2-9bdb-15f880c9cd33\")) {                    Plotly.newPlot(                        \"802eda28-10af-4df2-9bdb-15f880c9cd33\",                        [{\"customdata\":[[1.4],[1.4],[1.3],[1.5],[1.4],[1.7],[1.4],[1.5],[1.4],[1.5],[1.5],[1.6],[1.4],[1.1],[1.2],[1.5],[1.3],[1.4],[1.7],[1.5],[1.7],[1.5],[1.0],[1.7],[1.9],[1.6],[1.6],[1.5],[1.4],[1.6],[1.6],[1.5],[1.5],[1.4],[1.5],[1.2],[1.3],[1.4],[1.3],[1.5],[1.3],[1.3],[1.3],[1.6],[1.9],[1.4],[1.6],[1.4],[1.5],[1.4]],\"hovertemplate\":\"target=%{marker.color}\\u003cbr\\u003esepal width (cm)=%{x}\\u003cbr\\u003esepal length (cm)=%{y}\\u003cbr\\u003epetal width (cm)=%{marker.size}\\u003cbr\\u003epetal length (cm)=%{customdata[0]}\\u003cextra\\u003e\\u003c\\u002fextra\\u003e\",\"legendgroup\":\"\",\"marker\":{\"color\":[0,0,0,0,0,0,0,0,0,0,0,0,0,0,0,0,0,0,0,0,0,0,0,0,0,0,0,0,0,0,0,0,0,0,0,0,0,0,0,0,0,0,0,0,0,0,0,0,0,0],\"coloraxis\":\"coloraxis\",\"size\":[0.2,0.2,0.2,0.2,0.2,0.4,0.3,0.2,0.2,0.1,0.2,0.2,0.1,0.1,0.2,0.4,0.4,0.3,0.3,0.3,0.2,0.4,0.2,0.5,0.2,0.2,0.4,0.2,0.2,0.2,0.2,0.4,0.1,0.2,0.2,0.2,0.2,0.1,0.2,0.2,0.3,0.3,0.2,0.6,0.4,0.3,0.2,0.2,0.2,0.2],\"sizemode\":\"area\",\"sizeref\":0.00625,\"symbol\":\"circle\"},\"mode\":\"markers\",\"name\":\"\",\"orientation\":\"v\",\"showlegend\":false,\"x\":[3.5,3.0,3.2,3.1,3.6,3.9,3.4,3.4,2.9,3.1,3.7,3.4,3.0,3.0,4.0,4.4,3.9,3.5,3.8,3.8,3.4,3.7,3.6,3.3,3.4,3.0,3.4,3.5,3.4,3.2,3.1,3.4,4.1,4.2,3.1,3.2,3.5,3.6,3.0,3.4,3.5,2.3,3.2,3.5,3.8,3.0,3.8,3.2,3.7,3.3],\"xaxis\":\"x\",\"y\":[5.1,4.9,4.7,4.6,5.0,5.4,4.6,5.0,4.4,4.9,5.4,4.8,4.8,4.3,5.8,5.7,5.4,5.1,5.7,5.1,5.4,5.1,4.6,5.1,4.8,5.0,5.0,5.2,5.2,4.7,4.8,5.4,5.2,5.5,4.9,5.0,5.5,4.9,4.4,5.1,5.0,4.5,4.4,5.0,5.1,4.8,5.1,4.6,5.3,5.0],\"yaxis\":\"y\",\"type\":\"scatter\"},{\"customdata\":[[4.7],[4.5],[4.9],[4.0],[4.6],[4.5],[4.7],[3.3],[4.6],[3.9],[3.5],[4.2],[4.0],[4.7],[3.6],[4.4],[4.5],[4.1],[4.5],[3.9],[4.8],[4.0],[4.9],[4.7],[4.3],[4.4],[4.8],[5.0],[4.5],[3.5],[3.8],[3.7],[3.9],[5.1],[4.5],[4.5],[4.7],[4.4],[4.1],[4.0],[4.4],[4.6],[4.0],[3.3],[4.2],[4.2],[4.2],[4.3],[3.0],[4.1]],\"hovertemplate\":\"target=%{marker.color}\\u003cbr\\u003esepal width (cm)=%{x}\\u003cbr\\u003esepal length (cm)=%{y}\\u003cbr\\u003epetal width (cm)=%{marker.size}\\u003cbr\\u003epetal length (cm)=%{customdata[0]}\\u003cextra\\u003e\\u003c\\u002fextra\\u003e\",\"legendgroup\":\"\",\"marker\":{\"color\":[1,1,1,1,1,1,1,1,1,1,1,1,1,1,1,1,1,1,1,1,1,1,1,1,1,1,1,1,1,1,1,1,1,1,1,1,1,1,1,1,1,1,1,1,1,1,1,1,1,1],\"coloraxis\":\"coloraxis\",\"size\":[1.4,1.5,1.5,1.3,1.5,1.3,1.6,1.0,1.3,1.4,1.0,1.5,1.0,1.4,1.3,1.4,1.5,1.0,1.5,1.1,1.8,1.3,1.5,1.2,1.3,1.4,1.4,1.7,1.5,1.0,1.1,1.0,1.2,1.6,1.5,1.6,1.5,1.3,1.3,1.3,1.2,1.4,1.2,1.0,1.3,1.2,1.3,1.3,1.1,1.3],\"sizemode\":\"area\",\"sizeref\":0.00625,\"symbol\":\"circle\"},\"mode\":\"markers\",\"name\":\"\",\"orientation\":\"v\",\"showlegend\":false,\"x\":[3.2,3.2,3.1,2.3,2.8,2.8,3.3,2.4,2.9,2.7,2.0,3.0,2.2,2.9,2.9,3.1,3.0,2.7,2.2,2.5,3.2,2.8,2.5,2.8,2.9,3.0,2.8,3.0,2.9,2.6,2.4,2.4,2.7,2.7,3.0,3.4,3.1,2.3,3.0,2.5,2.6,3.0,2.6,2.3,2.7,3.0,2.9,2.9,2.5,2.8],\"xaxis\":\"x2\",\"y\":[7.0,6.4,6.9,5.5,6.5,5.7,6.3,4.9,6.6,5.2,5.0,5.9,6.0,6.1,5.6,6.7,5.6,5.8,6.2,5.6,5.9,6.1,6.3,6.1,6.4,6.6,6.8,6.7,6.0,5.7,5.5,5.5,5.8,6.0,5.4,6.0,6.7,6.3,5.6,5.5,5.5,6.1,5.8,5.0,5.6,5.7,5.7,6.2,5.1,5.7],\"yaxis\":\"y2\",\"type\":\"scatter\"},{\"customdata\":[[6.0],[5.1],[5.9],[5.6],[5.8],[6.6],[4.5],[6.3],[5.8],[6.1],[5.1],[5.3],[5.5],[5.0],[5.1],[5.3],[5.5],[6.7],[6.9],[5.0],[5.7],[4.9],[6.7],[4.9],[5.7],[6.0],[4.8],[4.9],[5.6],[5.8],[6.1],[6.4],[5.6],[5.1],[5.6],[6.1],[5.6],[5.5],[4.8],[5.4],[5.6],[5.1],[5.1],[5.9],[5.7],[5.2],[5.0],[5.2],[5.4],[5.1]],\"hovertemplate\":\"target=%{marker.color}\\u003cbr\\u003esepal width (cm)=%{x}\\u003cbr\\u003esepal length (cm)=%{y}\\u003cbr\\u003epetal width (cm)=%{marker.size}\\u003cbr\\u003epetal length (cm)=%{customdata[0]}\\u003cextra\\u003e\\u003c\\u002fextra\\u003e\",\"legendgroup\":\"\",\"marker\":{\"color\":[2,2,2,2,2,2,2,2,2,2,2,2,2,2,2,2,2,2,2,2,2,2,2,2,2,2,2,2,2,2,2,2,2,2,2,2,2,2,2,2,2,2,2,2,2,2,2,2,2,2],\"coloraxis\":\"coloraxis\",\"size\":[2.5,1.9,2.1,1.8,2.2,2.1,1.7,1.8,1.8,2.5,2.0,1.9,2.1,2.0,2.4,2.3,1.8,2.2,2.3,1.5,2.3,2.0,2.0,1.8,2.1,1.8,1.8,1.8,2.1,1.6,1.9,2.0,2.2,1.5,1.4,2.3,2.4,1.8,1.8,2.1,2.4,2.3,1.9,2.3,2.5,2.3,1.9,2.0,2.3,1.8],\"sizemode\":\"area\",\"sizeref\":0.00625,\"symbol\":\"circle\"},\"mode\":\"markers\",\"name\":\"\",\"orientation\":\"v\",\"showlegend\":false,\"x\":[3.3,2.7,3.0,2.9,3.0,3.0,2.5,2.9,2.5,3.6,3.2,2.7,3.0,2.5,2.8,3.2,3.0,3.8,2.6,2.2,3.2,2.8,2.8,2.7,3.3,3.2,2.8,3.0,2.8,3.0,2.8,3.8,2.8,2.8,2.6,3.0,3.4,3.1,3.0,3.1,3.1,3.1,2.7,3.2,3.3,3.0,2.5,3.0,3.4,3.0],\"xaxis\":\"x3\",\"y\":[6.3,5.8,7.1,6.3,6.5,7.6,4.9,7.3,6.7,7.2,6.5,6.4,6.8,5.7,5.8,6.4,6.5,7.7,7.7,6.0,6.9,5.6,7.7,6.3,6.7,7.2,6.2,6.1,6.4,7.2,7.4,7.9,6.4,6.3,6.1,7.7,6.3,6.4,6.0,6.9,6.7,6.9,5.8,6.8,6.7,6.7,6.3,6.5,6.2,5.9],\"yaxis\":\"y3\",\"type\":\"scatter\"}],                        {\"template\":{\"data\":{\"histogram2dcontour\":[{\"type\":\"histogram2dcontour\",\"colorbar\":{\"outlinewidth\":0,\"ticks\":\"\"},\"colorscale\":[[0.0,\"#0d0887\"],[0.1111111111111111,\"#46039f\"],[0.2222222222222222,\"#7201a8\"],[0.3333333333333333,\"#9c179e\"],[0.4444444444444444,\"#bd3786\"],[0.5555555555555556,\"#d8576b\"],[0.6666666666666666,\"#ed7953\"],[0.7777777777777778,\"#fb9f3a\"],[0.8888888888888888,\"#fdca26\"],[1.0,\"#f0f921\"]]}],\"choropleth\":[{\"type\":\"choropleth\",\"colorbar\":{\"outlinewidth\":0,\"ticks\":\"\"}}],\"histogram2d\":[{\"type\":\"histogram2d\",\"colorbar\":{\"outlinewidth\":0,\"ticks\":\"\"},\"colorscale\":[[0.0,\"#0d0887\"],[0.1111111111111111,\"#46039f\"],[0.2222222222222222,\"#7201a8\"],[0.3333333333333333,\"#9c179e\"],[0.4444444444444444,\"#bd3786\"],[0.5555555555555556,\"#d8576b\"],[0.6666666666666666,\"#ed7953\"],[0.7777777777777778,\"#fb9f3a\"],[0.8888888888888888,\"#fdca26\"],[1.0,\"#f0f921\"]]}],\"heatmap\":[{\"type\":\"heatmap\",\"colorbar\":{\"outlinewidth\":0,\"ticks\":\"\"},\"colorscale\":[[0.0,\"#0d0887\"],[0.1111111111111111,\"#46039f\"],[0.2222222222222222,\"#7201a8\"],[0.3333333333333333,\"#9c179e\"],[0.4444444444444444,\"#bd3786\"],[0.5555555555555556,\"#d8576b\"],[0.6666666666666666,\"#ed7953\"],[0.7777777777777778,\"#fb9f3a\"],[0.8888888888888888,\"#fdca26\"],[1.0,\"#f0f921\"]]}],\"heatmapgl\":[{\"type\":\"heatmapgl\",\"colorbar\":{\"outlinewidth\":0,\"ticks\":\"\"},\"colorscale\":[[0.0,\"#0d0887\"],[0.1111111111111111,\"#46039f\"],[0.2222222222222222,\"#7201a8\"],[0.3333333333333333,\"#9c179e\"],[0.4444444444444444,\"#bd3786\"],[0.5555555555555556,\"#d8576b\"],[0.6666666666666666,\"#ed7953\"],[0.7777777777777778,\"#fb9f3a\"],[0.8888888888888888,\"#fdca26\"],[1.0,\"#f0f921\"]]}],\"contourcarpet\":[{\"type\":\"contourcarpet\",\"colorbar\":{\"outlinewidth\":0,\"ticks\":\"\"}}],\"contour\":[{\"type\":\"contour\",\"colorbar\":{\"outlinewidth\":0,\"ticks\":\"\"},\"colorscale\":[[0.0,\"#0d0887\"],[0.1111111111111111,\"#46039f\"],[0.2222222222222222,\"#7201a8\"],[0.3333333333333333,\"#9c179e\"],[0.4444444444444444,\"#bd3786\"],[0.5555555555555556,\"#d8576b\"],[0.6666666666666666,\"#ed7953\"],[0.7777777777777778,\"#fb9f3a\"],[0.8888888888888888,\"#fdca26\"],[1.0,\"#f0f921\"]]}],\"surface\":[{\"type\":\"surface\",\"colorbar\":{\"outlinewidth\":0,\"ticks\":\"\"},\"colorscale\":[[0.0,\"#0d0887\"],[0.1111111111111111,\"#46039f\"],[0.2222222222222222,\"#7201a8\"],[0.3333333333333333,\"#9c179e\"],[0.4444444444444444,\"#bd3786\"],[0.5555555555555556,\"#d8576b\"],[0.6666666666666666,\"#ed7953\"],[0.7777777777777778,\"#fb9f3a\"],[0.8888888888888888,\"#fdca26\"],[1.0,\"#f0f921\"]]}],\"mesh3d\":[{\"type\":\"mesh3d\",\"colorbar\":{\"outlinewidth\":0,\"ticks\":\"\"}}],\"scatter\":[{\"fillpattern\":{\"fillmode\":\"overlay\",\"size\":10,\"solidity\":0.2},\"type\":\"scatter\"}],\"parcoords\":[{\"type\":\"parcoords\",\"line\":{\"colorbar\":{\"outlinewidth\":0,\"ticks\":\"\"}}}],\"scatterpolargl\":[{\"type\":\"scatterpolargl\",\"marker\":{\"colorbar\":{\"outlinewidth\":0,\"ticks\":\"\"}}}],\"bar\":[{\"error_x\":{\"color\":\"#2a3f5f\"},\"error_y\":{\"color\":\"#2a3f5f\"},\"marker\":{\"line\":{\"color\":\"#E5ECF6\",\"width\":0.5},\"pattern\":{\"fillmode\":\"overlay\",\"size\":10,\"solidity\":0.2}},\"type\":\"bar\"}],\"scattergeo\":[{\"type\":\"scattergeo\",\"marker\":{\"colorbar\":{\"outlinewidth\":0,\"ticks\":\"\"}}}],\"scatterpolar\":[{\"type\":\"scatterpolar\",\"marker\":{\"colorbar\":{\"outlinewidth\":0,\"ticks\":\"\"}}}],\"histogram\":[{\"marker\":{\"pattern\":{\"fillmode\":\"overlay\",\"size\":10,\"solidity\":0.2}},\"type\":\"histogram\"}],\"scattergl\":[{\"type\":\"scattergl\",\"marker\":{\"colorbar\":{\"outlinewidth\":0,\"ticks\":\"\"}}}],\"scatter3d\":[{\"type\":\"scatter3d\",\"line\":{\"colorbar\":{\"outlinewidth\":0,\"ticks\":\"\"}},\"marker\":{\"colorbar\":{\"outlinewidth\":0,\"ticks\":\"\"}}}],\"scattermapbox\":[{\"type\":\"scattermapbox\",\"marker\":{\"colorbar\":{\"outlinewidth\":0,\"ticks\":\"\"}}}],\"scatterternary\":[{\"type\":\"scatterternary\",\"marker\":{\"colorbar\":{\"outlinewidth\":0,\"ticks\":\"\"}}}],\"scattercarpet\":[{\"type\":\"scattercarpet\",\"marker\":{\"colorbar\":{\"outlinewidth\":0,\"ticks\":\"\"}}}],\"carpet\":[{\"aaxis\":{\"endlinecolor\":\"#2a3f5f\",\"gridcolor\":\"white\",\"linecolor\":\"white\",\"minorgridcolor\":\"white\",\"startlinecolor\":\"#2a3f5f\"},\"baxis\":{\"endlinecolor\":\"#2a3f5f\",\"gridcolor\":\"white\",\"linecolor\":\"white\",\"minorgridcolor\":\"white\",\"startlinecolor\":\"#2a3f5f\"},\"type\":\"carpet\"}],\"table\":[{\"cells\":{\"fill\":{\"color\":\"#EBF0F8\"},\"line\":{\"color\":\"white\"}},\"header\":{\"fill\":{\"color\":\"#C8D4E3\"},\"line\":{\"color\":\"white\"}},\"type\":\"table\"}],\"barpolar\":[{\"marker\":{\"line\":{\"color\":\"#E5ECF6\",\"width\":0.5},\"pattern\":{\"fillmode\":\"overlay\",\"size\":10,\"solidity\":0.2}},\"type\":\"barpolar\"}],\"pie\":[{\"automargin\":true,\"type\":\"pie\"}]},\"layout\":{\"autotypenumbers\":\"strict\",\"colorway\":[\"#636efa\",\"#EF553B\",\"#00cc96\",\"#ab63fa\",\"#FFA15A\",\"#19d3f3\",\"#FF6692\",\"#B6E880\",\"#FF97FF\",\"#FECB52\"],\"font\":{\"color\":\"#2a3f5f\"},\"hovermode\":\"closest\",\"hoverlabel\":{\"align\":\"left\"},\"paper_bgcolor\":\"white\",\"plot_bgcolor\":\"#E5ECF6\",\"polar\":{\"bgcolor\":\"#E5ECF6\",\"angularaxis\":{\"gridcolor\":\"white\",\"linecolor\":\"white\",\"ticks\":\"\"},\"radialaxis\":{\"gridcolor\":\"white\",\"linecolor\":\"white\",\"ticks\":\"\"}},\"ternary\":{\"bgcolor\":\"#E5ECF6\",\"aaxis\":{\"gridcolor\":\"white\",\"linecolor\":\"white\",\"ticks\":\"\"},\"baxis\":{\"gridcolor\":\"white\",\"linecolor\":\"white\",\"ticks\":\"\"},\"caxis\":{\"gridcolor\":\"white\",\"linecolor\":\"white\",\"ticks\":\"\"}},\"coloraxis\":{\"colorbar\":{\"outlinewidth\":0,\"ticks\":\"\"}},\"colorscale\":{\"sequential\":[[0.0,\"#0d0887\"],[0.1111111111111111,\"#46039f\"],[0.2222222222222222,\"#7201a8\"],[0.3333333333333333,\"#9c179e\"],[0.4444444444444444,\"#bd3786\"],[0.5555555555555556,\"#d8576b\"],[0.6666666666666666,\"#ed7953\"],[0.7777777777777778,\"#fb9f3a\"],[0.8888888888888888,\"#fdca26\"],[1.0,\"#f0f921\"]],\"sequentialminus\":[[0.0,\"#0d0887\"],[0.1111111111111111,\"#46039f\"],[0.2222222222222222,\"#7201a8\"],[0.3333333333333333,\"#9c179e\"],[0.4444444444444444,\"#bd3786\"],[0.5555555555555556,\"#d8576b\"],[0.6666666666666666,\"#ed7953\"],[0.7777777777777778,\"#fb9f3a\"],[0.8888888888888888,\"#fdca26\"],[1.0,\"#f0f921\"]],\"diverging\":[[0,\"#8e0152\"],[0.1,\"#c51b7d\"],[0.2,\"#de77ae\"],[0.3,\"#f1b6da\"],[0.4,\"#fde0ef\"],[0.5,\"#f7f7f7\"],[0.6,\"#e6f5d0\"],[0.7,\"#b8e186\"],[0.8,\"#7fbc41\"],[0.9,\"#4d9221\"],[1,\"#276419\"]]},\"xaxis\":{\"gridcolor\":\"white\",\"linecolor\":\"white\",\"ticks\":\"\",\"title\":{\"standoff\":15},\"zerolinecolor\":\"white\",\"automargin\":true,\"zerolinewidth\":2},\"yaxis\":{\"gridcolor\":\"white\",\"linecolor\":\"white\",\"ticks\":\"\",\"title\":{\"standoff\":15},\"zerolinecolor\":\"white\",\"automargin\":true,\"zerolinewidth\":2},\"scene\":{\"xaxis\":{\"backgroundcolor\":\"#E5ECF6\",\"gridcolor\":\"white\",\"linecolor\":\"white\",\"showbackground\":true,\"ticks\":\"\",\"zerolinecolor\":\"white\",\"gridwidth\":2},\"yaxis\":{\"backgroundcolor\":\"#E5ECF6\",\"gridcolor\":\"white\",\"linecolor\":\"white\",\"showbackground\":true,\"ticks\":\"\",\"zerolinecolor\":\"white\",\"gridwidth\":2},\"zaxis\":{\"backgroundcolor\":\"#E5ECF6\",\"gridcolor\":\"white\",\"linecolor\":\"white\",\"showbackground\":true,\"ticks\":\"\",\"zerolinecolor\":\"white\",\"gridwidth\":2}},\"shapedefaults\":{\"line\":{\"color\":\"#2a3f5f\"}},\"annotationdefaults\":{\"arrowcolor\":\"#2a3f5f\",\"arrowhead\":0,\"arrowwidth\":1},\"geo\":{\"bgcolor\":\"white\",\"landcolor\":\"#E5ECF6\",\"subunitcolor\":\"white\",\"showland\":true,\"showlakes\":true,\"lakecolor\":\"white\"},\"title\":{\"x\":0.05},\"mapbox\":{\"style\":\"light\"}}},\"xaxis\":{\"anchor\":\"y\",\"domain\":[0.0,0.31999999999999995],\"title\":{\"text\":\"sepal width (cm)\"}},\"yaxis\":{\"anchor\":\"x\",\"domain\":[0.0,1.0],\"title\":{\"text\":\"sepal length (cm)\"}},\"xaxis2\":{\"anchor\":\"y2\",\"domain\":[0.33999999999999997,0.6599999999999999],\"matches\":\"x\",\"title\":{\"text\":\"sepal width (cm)\"}},\"yaxis2\":{\"anchor\":\"x2\",\"domain\":[0.0,1.0],\"matches\":\"y\",\"showticklabels\":false},\"xaxis3\":{\"anchor\":\"y3\",\"domain\":[0.6799999999999999,0.9999999999999999],\"matches\":\"x\",\"title\":{\"text\":\"sepal width (cm)\"}},\"yaxis3\":{\"anchor\":\"x3\",\"domain\":[0.0,1.0],\"matches\":\"y\",\"showticklabels\":false},\"annotations\":[{\"font\":{},\"showarrow\":false,\"text\":\"target=0\",\"x\":0.15999999999999998,\"xanchor\":\"center\",\"xref\":\"paper\",\"y\":1.0,\"yanchor\":\"bottom\",\"yref\":\"paper\"},{\"font\":{},\"showarrow\":false,\"text\":\"target=1\",\"x\":0.49999999999999994,\"xanchor\":\"center\",\"xref\":\"paper\",\"y\":1.0,\"yanchor\":\"bottom\",\"yref\":\"paper\"},{\"font\":{},\"showarrow\":false,\"text\":\"target=2\",\"x\":0.8399999999999999,\"xanchor\":\"center\",\"xref\":\"paper\",\"y\":1.0,\"yanchor\":\"bottom\",\"yref\":\"paper\"}],\"coloraxis\":{\"colorbar\":{\"title\":{\"text\":\"target\"}},\"colorscale\":[[0.0,\"#0d0887\"],[0.1111111111111111,\"#46039f\"],[0.2222222222222222,\"#7201a8\"],[0.3333333333333333,\"#9c179e\"],[0.4444444444444444,\"#bd3786\"],[0.5555555555555556,\"#d8576b\"],[0.6666666666666666,\"#ed7953\"],[0.7777777777777778,\"#fb9f3a\"],[0.8888888888888888,\"#fdca26\"],[1.0,\"#f0f921\"]]},\"legend\":{\"tracegroupgap\":0,\"itemsizing\":\"constant\"},\"margin\":{\"t\":60}},                        {\"responsive\": true}                    ).then(function(){\n",
       "                            \n",
       "var gd = document.getElementById('802eda28-10af-4df2-9bdb-15f880c9cd33');\n",
       "var x = new MutationObserver(function (mutations, observer) {{\n",
       "        var display = window.getComputedStyle(gd).display;\n",
       "        if (!display || display === 'none') {{\n",
       "            console.log([gd, 'removed!']);\n",
       "            Plotly.purge(gd);\n",
       "            observer.disconnect();\n",
       "        }}\n",
       "}});\n",
       "\n",
       "// Listen for the removal of the full notebook cells\n",
       "var notebookContainer = gd.closest('#notebook-container');\n",
       "if (notebookContainer) {{\n",
       "    x.observe(notebookContainer, {childList: true});\n",
       "}}\n",
       "\n",
       "// Listen for the clearing of the current output cell\n",
       "var outputEl = gd.closest('.output');\n",
       "if (outputEl) {{\n",
       "    x.observe(outputEl, {childList: true});\n",
       "}}\n",
       "\n",
       "                        })                };                });            </script>        </div>"
      ]
     },
     "metadata": {},
     "output_type": "display_data"
    }
   ],
   "source": [
    "fig = px.scatter(df, x=\"sepal width (cm)\", y=\"sepal length (cm)\", color=\"target\",\n",
    "                 size='petal width (cm)', hover_data=['petal length (cm)'], facet_col=\"target\")\n",
    "fig.show()"
   ]
  },
  {
   "cell_type": "code",
   "execution_count": 335,
   "id": "d0ef8cf7-af65-4afd-af25-6c56224e2fc2",
   "metadata": {},
   "outputs": [
    {
     "data": {
      "image/png": "[encoded data removed]",
      "text/plain": [
       "<Figure size 1058.88x1000 with 20 Axes>"
      ]
     },
     "metadata": {},
     "output_type": "display_data"
    }
   ],
   "source": [
    "warnings.filterwarnings('ignore')\n",
    "\n",
    "# нормальное распределение\n",
    "sns.pairplot(data=df, hue='target')\n",
    "plt.show()"
   ]
  },
  {
   "cell_type": "code",
   "execution_count": 336,
   "id": "a4c01c28-d873-44b6-8560-950f55c4b9be",
   "metadata": {},
   "outputs": [
    {
     "data": {
      "image/png": "[encoded data removed]",
      "text/plain": [
       "<Figure size 640x480 with 2 Axes>"
      ]
     },
     "metadata": {},
     "output_type": "display_data"
    }
   ],
   "source": [
    "sns.heatmap(df.corr())\n",
    "plt.show()"
   ]
  },
  {
   "cell_type": "code",
   "execution_count": 337,
   "id": "d42dcf96-055a-4e66-9f1b-8839696f3ddc",
   "metadata": {},
   "outputs": [
    {
     "data": {
      "image/png": "[encoded data removed]",
      "text/plain": [
       "<Figure size 2000x800 with 4 Axes>"
      ]
     },
     "metadata": {},
     "output_type": "display_data"
    }
   ],
   "source": [
    "plt.figure(figsize=(20 , 8))\n",
    "\n",
    "for i, col in enumerate(X.columns):\n",
    "    plt.subplot(1, len(X.columns), i + 1)\n",
    "    sns.boxplot(y=col, x='target', data=df)\n",
    "    plt.grid()\n",
    "    \n",
    "plt.show()"
   ]
  },
  {
   "cell_type": "markdown",
   "id": "f908feca-b3a6-4f71-874f-f97086b24a37",
   "metadata": {},
   "source": [
    "## Возьмем два признака, которые наименее скоррелированы и два класса, которые хорошо разделимы"
   ]
  },
  {
   "cell_type": "code",
   "execution_count": 338,
   "id": "b8243db4-f799-4f39-a63f-885645c7d204",
   "metadata": {},
   "outputs": [
    {
     "data": {
      "text/html": [
       "<div>\n",
       "<style scoped>\n",
       "    .dataframe tbody tr th:only-of-type {\n",
       "        vertical-align: middle;\n",
       "    }\n",
       "\n",
       "    .dataframe tbody tr th {\n",
       "        vertical-align: top;\n",
       "    }\n",
       "\n",
       "    .dataframe thead th {\n",
       "        text-align: right;\n",
       "    }\n",
       "</style>\n",
       "<table border=\"1\" class=\"dataframe\">\n",
       "  <thead>\n",
       "    <tr style=\"text-align: right;\">\n",
       "      <th></th>\n",
       "      <th>sepal width (cm)</th>\n",
       "      <th>petal length (cm)</th>\n",
       "      <th>target</th>\n",
       "    </tr>\n",
       "  </thead>\n",
       "  <tbody>\n",
       "    <tr>\n",
       "      <th>50</th>\n",
       "      <td>3.2</td>\n",
       "      <td>4.7</td>\n",
       "      <td>1</td>\n",
       "    </tr>\n",
       "    <tr>\n",
       "      <th>51</th>\n",
       "      <td>3.2</td>\n",
       "      <td>4.5</td>\n",
       "      <td>1</td>\n",
       "    </tr>\n",
       "    <tr>\n",
       "      <th>52</th>\n",
       "      <td>3.1</td>\n",
       "      <td>4.9</td>\n",
       "      <td>1</td>\n",
       "    </tr>\n",
       "    <tr>\n",
       "      <th>53</th>\n",
       "      <td>2.3</td>\n",
       "      <td>4.0</td>\n",
       "      <td>1</td>\n",
       "    </tr>\n",
       "    <tr>\n",
       "      <th>54</th>\n",
       "      <td>2.8</td>\n",
       "      <td>4.6</td>\n",
       "      <td>1</td>\n",
       "    </tr>\n",
       "    <tr>\n",
       "      <th>...</th>\n",
       "      <td>...</td>\n",
       "      <td>...</td>\n",
       "      <td>...</td>\n",
       "    </tr>\n",
       "    <tr>\n",
       "      <th>145</th>\n",
       "      <td>3.0</td>\n",
       "      <td>5.2</td>\n",
       "      <td>2</td>\n",
       "    </tr>\n",
       "    <tr>\n",
       "      <th>146</th>\n",
       "      <td>2.5</td>\n",
       "      <td>5.0</td>\n",
       "      <td>2</td>\n",
       "    </tr>\n",
       "    <tr>\n",
       "      <th>147</th>\n",
       "      <td>3.0</td>\n",
       "      <td>5.2</td>\n",
       "      <td>2</td>\n",
       "    </tr>\n",
       "    <tr>\n",
       "      <th>148</th>\n",
       "      <td>3.4</td>\n",
       "      <td>5.4</td>\n",
       "      <td>2</td>\n",
       "    </tr>\n",
       "    <tr>\n",
       "      <th>149</th>\n",
       "      <td>3.0</td>\n",
       "      <td>5.1</td>\n",
       "      <td>2</td>\n",
       "    </tr>\n",
       "  </tbody>\n",
       "</table>\n",
       "<p>100 rows × 3 columns</p>\n",
       "</div>"
      ],
      "text/plain": [
       "     sepal width (cm)  petal length (cm)  target\n",
       "50                3.2                4.7       1\n",
       "51                3.2                4.5       1\n",
       "52                3.1                4.9       1\n",
       "53                2.3                4.0       1\n",
       "54                2.8                4.6       1\n",
       "..                ...                ...     ...\n",
       "145               3.0                5.2       2\n",
       "146               2.5                5.0       2\n",
       "147               3.0                5.2       2\n",
       "148               3.4                5.4       2\n",
       "149               3.0                5.1       2\n",
       "\n",
       "[100 rows x 3 columns]"
      ]
     },
     "execution_count": 338,
     "metadata": {},
     "output_type": "execute_result"
    }
   ],
   "source": [
    "df_small = df[['sepal width (cm)', 'petal length (cm)', 'target']]\n",
    "df_small = df_small[(df_small.target == 1) | (df_small.target == 2)]\n",
    "target_names_small = ['sepal width (cm)', 'petal length (cm)']\n",
    "df_small"
   ]
  },
  {
   "cell_type": "code",
   "execution_count": 339,
   "id": "8cca2840-dda8-423e-a931-ed89eaa4a5c8",
   "metadata": {},
   "outputs": [
    {
     "data": {
      "image/png": "[encoded data removed]",
      "text/plain": [
       "<Figure size 558.875x500 with 6 Axes>"
      ]
     },
     "metadata": {},
     "output_type": "display_data"
    }
   ],
   "source": [
    "sns.pairplot(data=df_small, hue='target')\n",
    "plt.show()"
   ]
  },
  {
   "cell_type": "code",
   "execution_count": 340,
   "id": "72930d91-67a9-4543-aa48-88e78f5622ff",
   "metadata": {},
   "outputs": [],
   "source": [
    "X = df_small[['sepal width (cm)', 'petal length (cm)']]\n",
    "y = df_small['target']\n",
    "X_train, X_test, y_train, y_test = train_test_split(X, y, test_size=0.2, shuffle=True)\n",
    "X_train = X_train.to_numpy()\n",
    "X_test = X_test.to_numpy()\n",
    "y_train = y_train.to_numpy()\n",
    "y_test = y_test.to_numpy()"
   ]
  },
  {
   "cell_type": "markdown",
   "id": "ed85cfad-08a5-492b-8b3d-53dc21b7eaba",
   "metadata": {},
   "source": [
    "### SVC"
   ]
  },
  {
   "cell_type": "code",
   "execution_count": 341,
   "id": "aac2d562-0924-4d1f-8c26-26f8f732136f",
   "metadata": {},
   "outputs": [
    {
     "data": {
      "text/html": [
       "<style>#sk-container-id-10 {\n",
       "  /* Definition of color scheme common for light and dark mode */\n",
       "  --sklearn-color-text: black;\n",
       "  --sklearn-color-line: gray;\n",
       "  /* Definition of color scheme for unfitted estimators */\n",
       "  --sklearn-color-unfitted-level-0: #fff5e6;\n",
       "  --sklearn-color-unfitted-level-1: #f6e4d2;\n",
       "  --sklearn-color-unfitted-level-2: #ffe0b3;\n",
       "  --sklearn-color-unfitted-level-3: chocolate;\n",
       "  /* Definition of color scheme for fitted estimators */\n",
       "  --sklearn-color-fitted-level-0: #f0f8ff;\n",
       "  --sklearn-color-fitted-level-1: #d4ebff;\n",
       "  --sklearn-color-fitted-level-2: #b3dbfd;\n",
       "  --sklearn-color-fitted-level-3: cornflowerblue;\n",
       "\n",
       "  /* Specific color for light theme */\n",
       "  --sklearn-color-text-on-default-background: var(--sg-text-color, var(--theme-code-foreground, var(--jp-content-font-color1, black)));\n",
       "  --sklearn-color-background: var(--sg-background-color, var(--theme-background, var(--jp-layout-color0, white)));\n",
       "  --sklearn-color-border-box: var(--sg-text-color, var(--theme-code-foreground, var(--jp-content-font-color1, black)));\n",
       "  --sklearn-color-icon: #696969;\n",
       "\n",
       "  @media (prefers-color-scheme: dark) {\n",
       "    /* Redefinition of color scheme for dark theme */\n",
       "    --sklearn-color-text-on-default-background: var(--sg-text-color, var(--theme-code-foreground, var(--jp-content-font-color1, white)));\n",
       "    --sklearn-color-background: var(--sg-background-color, var(--theme-background, var(--jp-layout-color0, #111)));\n",
       "    --sklearn-color-border-box: var(--sg-text-color, var(--theme-code-foreground, var(--jp-content-font-color1, white)));\n",
       "    --sklearn-color-icon: #878787;\n",
       "  }\n",
       "}\n",
       "\n",
       "#sk-container-id-10 {\n",
       "  color: var(--sklearn-color-text);\n",
       "}\n",
       "\n",
       "#sk-container-id-10 pre {\n",
       "  padding: 0;\n",
       "}\n",
       "\n",
       "#sk-container-id-10 input.sk-hidden--visually {\n",
       "  border: 0;\n",
       "  clip: rect(1px 1px 1px 1px);\n",
       "  clip: rect(1px, 1px, 1px, 1px);\n",
       "  height: 1px;\n",
       "  margin: -1px;\n",
       "  overflow: hidden;\n",
       "  padding: 0;\n",
       "  position: absolute;\n",
       "  width: 1px;\n",
       "}\n",
       "\n",
       "#sk-container-id-10 div.sk-dashed-wrapped {\n",
       "  border: 1px dashed var(--sklearn-color-line);\n",
       "  margin: 0 0.4em 0.5em 0.4em;\n",
       "  box-sizing: border-box;\n",
       "  padding-bottom: 0.4em;\n",
       "  background-color: var(--sklearn-color-background);\n",
       "}\n",
       "\n",
       "#sk-container-id-10 div.sk-container {\n",
       "  /* jupyter's `normalize.less` sets `[hidden] { display: none; }`\n",
       "     but bootstrap.min.css set `[hidden] { display: none !important; }`\n",
       "     so we also need the `!important` here to be able to override the\n",
       "     default hidden behavior on the sphinx rendered scikit-learn.org.\n",
       "     See: https://github.com/scikit-learn/scikit-learn/issues/21755 */\n",
       "  display: inline-block !important;\n",
       "  position: relative;\n",
       "}\n",
       "\n",
       "#sk-container-id-10 div.sk-text-repr-fallback {\n",
       "  display: none;\n",
       "}\n",
       "\n",
       "div.sk-parallel-item,\n",
       "div.sk-serial,\n",
       "div.sk-item {\n",
       "  /* draw centered vertical line to link estimators */\n",
       "  background-image: linear-gradient(var(--sklearn-color-text-on-default-background), var(--sklearn-color-text-on-default-background));\n",
       "  background-size: 2px 100%;\n",
       "  background-repeat: no-repeat;\n",
       "  background-position: center center;\n",
       "}\n",
       "\n",
       "/* Parallel-specific style estimator block */\n",
       "\n",
       "#sk-container-id-10 div.sk-parallel-item::after {\n",
       "  content: \"\";\n",
       "  width: 100%;\n",
       "  border-bottom: 2px solid var(--sklearn-color-text-on-default-background);\n",
       "  flex-grow: 1;\n",
       "}\n",
       "\n",
       "#sk-container-id-10 div.sk-parallel {\n",
       "  display: flex;\n",
       "  align-items: stretch;\n",
       "  justify-content: center;\n",
       "  background-color: var(--sklearn-color-background);\n",
       "  position: relative;\n",
       "}\n",
       "\n",
       "#sk-container-id-10 div.sk-parallel-item {\n",
       "  display: flex;\n",
       "  flex-direction: column;\n",
       "}\n",
       "\n",
       "#sk-container-id-10 div.sk-parallel-item:first-child::after {\n",
       "  align-self: flex-end;\n",
       "  width: 50%;\n",
       "}\n",
       "\n",
       "#sk-container-id-10 div.sk-parallel-item:last-child::after {\n",
       "  align-self: flex-start;\n",
       "  width: 50%;\n",
       "}\n",
       "\n",
       "#sk-container-id-10 div.sk-parallel-item:only-child::after {\n",
       "  width: 0;\n",
       "}\n",
       "\n",
       "/* Serial-specific style estimator block */\n",
       "\n",
       "#sk-container-id-10 div.sk-serial {\n",
       "  display: flex;\n",
       "  flex-direction: column;\n",
       "  align-items: center;\n",
       "  background-color: var(--sklearn-color-background);\n",
       "  padding-right: 1em;\n",
       "  padding-left: 1em;\n",
       "}\n",
       "\n",
       "\n",
       "/* Toggleable style: style used for estimator/Pipeline/ColumnTransformer box that is\n",
       "clickable and can be expanded/collapsed.\n",
       "- Pipeline and ColumnTransformer use this feature and define the default style\n",
       "- Estimators will overwrite some part of the style using the `sk-estimator` class\n",
       "*/\n",
       "\n",
       "/* Pipeline and ColumnTransformer style (default) */\n",
       "\n",
       "#sk-container-id-10 div.sk-toggleable {\n",
       "  /* Default theme specific background. It is overwritten whether we have a\n",
       "  specific estimator or a Pipeline/ColumnTransformer */\n",
       "  background-color: var(--sklearn-color-background);\n",
       "}\n",
       "\n",
       "/* Toggleable label */\n",
       "#sk-container-id-10 label.sk-toggleable__label {\n",
       "  cursor: pointer;\n",
       "  display: block;\n",
       "  width: 100%;\n",
       "  margin-bottom: 0;\n",
       "  padding: 0.5em;\n",
       "  box-sizing: border-box;\n",
       "  text-align: center;\n",
       "}\n",
       "\n",
       "#sk-container-id-10 label.sk-toggleable__label-arrow:before {\n",
       "  /* Arrow on the left of the label */\n",
       "  content: \"▸\";\n",
       "  float: left;\n",
       "  margin-right: 0.25em;\n",
       "  color: var(--sklearn-color-icon);\n",
       "}\n",
       "\n",
       "#sk-container-id-10 label.sk-toggleable__label-arrow:hover:before {\n",
       "  color: var(--sklearn-color-text);\n",
       "}\n",
       "\n",
       "/* Toggleable content - dropdown */\n",
       "\n",
       "#sk-container-id-10 div.sk-toggleable__content {\n",
       "  max-height: 0;\n",
       "  max-width: 0;\n",
       "  overflow: hidden;\n",
       "  text-align: left;\n",
       "  /* unfitted */\n",
       "  background-color: var(--sklearn-color-unfitted-level-0);\n",
       "}\n",
       "\n",
       "#sk-container-id-10 div.sk-toggleable__content.fitted {\n",
       "  /* fitted */\n",
       "  background-color: var(--sklearn-color-fitted-level-0);\n",
       "}\n",
       "\n",
       "#sk-container-id-10 div.sk-toggleable__content pre {\n",
       "  margin: 0.2em;\n",
       "  border-radius: 0.25em;\n",
       "  color: var(--sklearn-color-text);\n",
       "  /* unfitted */\n",
       "  background-color: var(--sklearn-color-unfitted-level-0);\n",
       "}\n",
       "\n",
       "#sk-container-id-10 div.sk-toggleable__content.fitted pre {\n",
       "  /* unfitted */\n",
       "  background-color: var(--sklearn-color-fitted-level-0);\n",
       "}\n",
       "\n",
       "#sk-container-id-10 input.sk-toggleable__control:checked~div.sk-toggleable__content {\n",
       "  /* Expand drop-down */\n",
       "  max-height: 200px;\n",
       "  max-width: 100%;\n",
       "  overflow: auto;\n",
       "}\n",
       "\n",
       "#sk-container-id-10 input.sk-toggleable__control:checked~label.sk-toggleable__label-arrow:before {\n",
       "  content: \"▾\";\n",
       "}\n",
       "\n",
       "/* Pipeline/ColumnTransformer-specific style */\n",
       "\n",
       "#sk-container-id-10 div.sk-label input.sk-toggleable__control:checked~label.sk-toggleable__label {\n",
       "  color: var(--sklearn-color-text);\n",
       "  background-color: var(--sklearn-color-unfitted-level-2);\n",
       "}\n",
       "\n",
       "#sk-container-id-10 div.sk-label.fitted input.sk-toggleable__control:checked~label.sk-toggleable__label {\n",
       "  background-color: var(--sklearn-color-fitted-level-2);\n",
       "}\n",
       "\n",
       "/* Estimator-specific style */\n",
       "\n",
       "/* Colorize estimator box */\n",
       "#sk-container-id-10 div.sk-estimator input.sk-toggleable__control:checked~label.sk-toggleable__label {\n",
       "  /* unfitted */\n",
       "  background-color: var(--sklearn-color-unfitted-level-2);\n",
       "}\n",
       "\n",
       "#sk-container-id-10 div.sk-estimator.fitted input.sk-toggleable__control:checked~label.sk-toggleable__label {\n",
       "  /* fitted */\n",
       "  background-color: var(--sklearn-color-fitted-level-2);\n",
       "}\n",
       "\n",
       "#sk-container-id-10 div.sk-label label.sk-toggleable__label,\n",
       "#sk-container-id-10 div.sk-label label {\n",
       "  /* The background is the default theme color */\n",
       "  color: var(--sklearn-color-text-on-default-background);\n",
       "}\n",
       "\n",
       "/* On hover, darken the color of the background */\n",
       "#sk-container-id-10 div.sk-label:hover label.sk-toggleable__label {\n",
       "  color: var(--sklearn-color-text);\n",
       "  background-color: var(--sklearn-color-unfitted-level-2);\n",
       "}\n",
       "\n",
       "/* Label box, darken color on hover, fitted */\n",
       "#sk-container-id-10 div.sk-label.fitted:hover label.sk-toggleable__label.fitted {\n",
       "  color: var(--sklearn-color-text);\n",
       "  background-color: var(--sklearn-color-fitted-level-2);\n",
       "}\n",
       "\n",
       "/* Estimator label */\n",
       "\n",
       "#sk-container-id-10 div.sk-label label {\n",
       "  font-family: monospace;\n",
       "  font-weight: bold;\n",
       "  display: inline-block;\n",
       "  line-height: 1.2em;\n",
       "}\n",
       "\n",
       "#sk-container-id-10 div.sk-label-container {\n",
       "  text-align: center;\n",
       "}\n",
       "\n",
       "/* Estimator-specific */\n",
       "#sk-container-id-10 div.sk-estimator {\n",
       "  font-family: monospace;\n",
       "  border: 1px dotted var(--sklearn-color-border-box);\n",
       "  border-radius: 0.25em;\n",
       "  box-sizing: border-box;\n",
       "  margin-bottom: 0.5em;\n",
       "  /* unfitted */\n",
       "  background-color: var(--sklearn-color-unfitted-level-0);\n",
       "}\n",
       "\n",
       "#sk-container-id-10 div.sk-estimator.fitted {\n",
       "  /* fitted */\n",
       "  background-color: var(--sklearn-color-fitted-level-0);\n",
       "}\n",
       "\n",
       "/* on hover */\n",
       "#sk-container-id-10 div.sk-estimator:hover {\n",
       "  /* unfitted */\n",
       "  background-color: var(--sklearn-color-unfitted-level-2);\n",
       "}\n",
       "\n",
       "#sk-container-id-10 div.sk-estimator.fitted:hover {\n",
       "  /* fitted */\n",
       "  background-color: var(--sklearn-color-fitted-level-2);\n",
       "}\n",
       "\n",
       "/* Specification for estimator info (e.g. \"i\" and \"?\") */\n",
       "\n",
       "/* Common style for \"i\" and \"?\" */\n",
       "\n",
       ".sk-estimator-doc-link,\n",
       "a:link.sk-estimator-doc-link,\n",
       "a:visited.sk-estimator-doc-link {\n",
       "  float: right;\n",
       "  font-size: smaller;\n",
       "  line-height: 1em;\n",
       "  font-family: monospace;\n",
       "  background-color: var(--sklearn-color-background);\n",
       "  border-radius: 1em;\n",
       "  height: 1em;\n",
       "  width: 1em;\n",
       "  text-decoration: none !important;\n",
       "  margin-left: 1ex;\n",
       "  /* unfitted */\n",
       "  border: var(--sklearn-color-unfitted-level-1) 1pt solid;\n",
       "  color: var(--sklearn-color-unfitted-level-1);\n",
       "}\n",
       "\n",
       ".sk-estimator-doc-link.fitted,\n",
       "a:link.sk-estimator-doc-link.fitted,\n",
       "a:visited.sk-estimator-doc-link.fitted {\n",
       "  /* fitted */\n",
       "  border: var(--sklearn-color-fitted-level-1) 1pt solid;\n",
       "  color: var(--sklearn-color-fitted-level-1);\n",
       "}\n",
       "\n",
       "/* On hover */\n",
       "div.sk-estimator:hover .sk-estimator-doc-link:hover,\n",
       ".sk-estimator-doc-link:hover,\n",
       "div.sk-label-container:hover .sk-estimator-doc-link:hover,\n",
       ".sk-estimator-doc-link:hover {\n",
       "  /* unfitted */\n",
       "  background-color: var(--sklearn-color-unfitted-level-3);\n",
       "  color: var(--sklearn-color-background);\n",
       "  text-decoration: none;\n",
       "}\n",
       "\n",
       "div.sk-estimator.fitted:hover .sk-estimator-doc-link.fitted:hover,\n",
       ".sk-estimator-doc-link.fitted:hover,\n",
       "div.sk-label-container:hover .sk-estimator-doc-link.fitted:hover,\n",
       ".sk-estimator-doc-link.fitted:hover {\n",
       "  /* fitted */\n",
       "  background-color: var(--sklearn-color-fitted-level-3);\n",
       "  color: var(--sklearn-color-background);\n",
       "  text-decoration: none;\n",
       "}\n",
       "\n",
       "/* Span, style for the box shown on hovering the info icon */\n",
       ".sk-estimator-doc-link span {\n",
       "  display: none;\n",
       "  z-index: 9999;\n",
       "  position: relative;\n",
       "  font-weight: normal;\n",
       "  right: .2ex;\n",
       "  padding: .5ex;\n",
       "  margin: .5ex;\n",
       "  width: min-content;\n",
       "  min-width: 20ex;\n",
       "  max-width: 50ex;\n",
       "  color: var(--sklearn-color-text);\n",
       "  box-shadow: 2pt 2pt 4pt #999;\n",
       "  /* unfitted */\n",
       "  background: var(--sklearn-color-unfitted-level-0);\n",
       "  border: .5pt solid var(--sklearn-color-unfitted-level-3);\n",
       "}\n",
       "\n",
       ".sk-estimator-doc-link.fitted span {\n",
       "  /* fitted */\n",
       "  background: var(--sklearn-color-fitted-level-0);\n",
       "  border: var(--sklearn-color-fitted-level-3);\n",
       "}\n",
       "\n",
       ".sk-estimator-doc-link:hover span {\n",
       "  display: block;\n",
       "}\n",
       "\n",
       "/* \"?\"-specific style due to the `<a>` HTML tag */\n",
       "\n",
       "#sk-container-id-10 a.estimator_doc_link {\n",
       "  float: right;\n",
       "  font-size: 1rem;\n",
       "  line-height: 1em;\n",
       "  font-family: monospace;\n",
       "  background-color: var(--sklearn-color-background);\n",
       "  border-radius: 1rem;\n",
       "  height: 1rem;\n",
       "  width: 1rem;\n",
       "  text-decoration: none;\n",
       "  /* unfitted */\n",
       "  color: var(--sklearn-color-unfitted-level-1);\n",
       "  border: var(--sklearn-color-unfitted-level-1) 1pt solid;\n",
       "}\n",
       "\n",
       "#sk-container-id-10 a.estimator_doc_link.fitted {\n",
       "  /* fitted */\n",
       "  border: var(--sklearn-color-fitted-level-1) 1pt solid;\n",
       "  color: var(--sklearn-color-fitted-level-1);\n",
       "}\n",
       "\n",
       "/* On hover */\n",
       "#sk-container-id-10 a.estimator_doc_link:hover {\n",
       "  /* unfitted */\n",
       "  background-color: var(--sklearn-color-unfitted-level-3);\n",
       "  color: var(--sklearn-color-background);\n",
       "  text-decoration: none;\n",
       "}\n",
       "\n",
       "#sk-container-id-10 a.estimator_doc_link.fitted:hover {\n",
       "  /* fitted */\n",
       "  background-color: var(--sklearn-color-fitted-level-3);\n",
       "}\n",
       "</style><div id=\"sk-container-id-10\" class=\"sk-top-container\"><div class=\"sk-text-repr-fallback\"><pre>GridSearchCV(estimator=SVC(),\n",
       "             param_grid=[{&#x27;C&#x27;: [1, 5, 10], &#x27;kernel&#x27;: [&#x27;linear&#x27;]},\n",
       "                         {&#x27;C&#x27;: [1, 5, 10], &#x27;gamma&#x27;: [&#x27;scale&#x27;],\n",
       "                          &#x27;kernel&#x27;: [&#x27;rbf&#x27;]}])</pre><b>In a Jupyter environment, please rerun this cell to show the HTML representation or trust the notebook. <br />On GitHub, the HTML representation is unable to render, please try loading this page with nbviewer.org.</b></div><div class=\"sk-container\" hidden><div class=\"sk-item sk-dashed-wrapped\"><div class=\"sk-label-container\"><div class=\"sk-label fitted sk-toggleable\"><input class=\"sk-toggleable__control sk-hidden--visually\" id=\"sk-estimator-id-28\" type=\"checkbox\" ><label for=\"sk-estimator-id-28\" class=\"sk-toggleable__label fitted sk-toggleable__label-arrow fitted\">&nbsp;&nbsp;GridSearchCV<a class=\"sk-estimator-doc-link fitted\" rel=\"noreferrer\" target=\"_blank\" href=\"https://scikit-learn.org/1.4/modules/generated/sklearn.model_selection.GridSearchCV.html\">?<span>Documentation for GridSearchCV</span></a><span class=\"sk-estimator-doc-link fitted\">i<span>Fitted</span></span></label><div class=\"sk-toggleable__content fitted\"><pre>GridSearchCV(estimator=SVC(),\n",
       "             param_grid=[{&#x27;C&#x27;: [1, 5, 10], &#x27;kernel&#x27;: [&#x27;linear&#x27;]},\n",
       "                         {&#x27;C&#x27;: [1, 5, 10], &#x27;gamma&#x27;: [&#x27;scale&#x27;],\n",
       "                          &#x27;kernel&#x27;: [&#x27;rbf&#x27;]}])</pre></div> </div></div><div class=\"sk-parallel\"><div class=\"sk-parallel-item\"><div class=\"sk-item\"><div class=\"sk-label-container\"><div class=\"sk-label fitted sk-toggleable\"><input class=\"sk-toggleable__control sk-hidden--visually\" id=\"sk-estimator-id-29\" type=\"checkbox\" ><label for=\"sk-estimator-id-29\" class=\"sk-toggleable__label fitted sk-toggleable__label-arrow fitted\">estimator: SVC</label><div class=\"sk-toggleable__content fitted\"><pre>SVC()</pre></div> </div></div><div class=\"sk-serial\"><div class=\"sk-item\"><div class=\"sk-estimator fitted sk-toggleable\"><input class=\"sk-toggleable__control sk-hidden--visually\" id=\"sk-estimator-id-30\" type=\"checkbox\" ><label for=\"sk-estimator-id-30\" class=\"sk-toggleable__label fitted sk-toggleable__label-arrow fitted\">&nbsp;SVC<a class=\"sk-estimator-doc-link fitted\" rel=\"noreferrer\" target=\"_blank\" href=\"https://scikit-learn.org/1.4/modules/generated/sklearn.svm.SVC.html\">?<span>Documentation for SVC</span></a></label><div class=\"sk-toggleable__content fitted\"><pre>SVC()</pre></div> </div></div></div></div></div></div></div></div></div>"
      ],
      "text/plain": [
       "GridSearchCV(estimator=SVC(),\n",
       "             param_grid=[{'C': [1, 5, 10], 'kernel': ['linear']},\n",
       "                         {'C': [1, 5, 10], 'gamma': ['scale'],\n",
       "                          'kernel': ['rbf']}])"
      ]
     },
     "execution_count": 341,
     "metadata": {},
     "output_type": "execute_result"
    }
   ],
   "source": [
    "param_grid = [\n",
    "  {'C': [1, 5, 10], 'kernel': ['linear']},\n",
    "  {'C': [1, 5, 10], 'gamma': ['scale'], 'kernel': ['rbf']},\n",
    "  #{'C': [1, 5, 10], 'degree': [1, 2, 3, 4, 5, 6, 7, 8, 9], 'gamma': ['scale'], 'kernel': ['poly']},\n",
    "  #{'C': [0.1, 1, 5, 10], 'kernel': ['sigmoid']}\n",
    "]\n",
    "svc = SVC()\n",
    "clf_svc = GridSearchCV(svc, param_grid)\n",
    "\n",
    "clf_svc.fit(X_train, y_train)"
   ]
  },
  {
   "cell_type": "code",
   "execution_count": 342,
   "id": "f9c8cdd2-c3a1-4ac5-9e0e-b9fb2e945f98",
   "metadata": {},
   "outputs": [
    {
     "name": "stdout",
     "output_type": "stream",
     "text": [
      "Наилучшие гиперпараметры:  {'C': 5, 'kernel': 'linear'}\n"
     ]
    }
   ],
   "source": [
    "print('Наилучшие гиперпараметры: ', clf_svc.best_params_)"
   ]
  },
  {
   "cell_type": "code",
   "execution_count": 343,
   "id": "4436c019-8158-4741-9e72-6d4c098e88d9",
   "metadata": {},
   "outputs": [
    {
     "data": {
      "text/html": [
       "<div>\n",
       "<style scoped>\n",
       "    .dataframe tbody tr th:only-of-type {\n",
       "        vertical-align: middle;\n",
       "    }\n",
       "\n",
       "    .dataframe tbody tr th {\n",
       "        vertical-align: top;\n",
       "    }\n",
       "\n",
       "    .dataframe thead th {\n",
       "        text-align: right;\n",
       "    }\n",
       "</style>\n",
       "<table border=\"1\" class=\"dataframe\">\n",
       "  <thead>\n",
       "    <tr style=\"text-align: right;\">\n",
       "      <th></th>\n",
       "      <th>mean_fit_time</th>\n",
       "      <th>params</th>\n",
       "      <th>mean_test_score</th>\n",
       "    </tr>\n",
       "  </thead>\n",
       "  <tbody>\n",
       "    <tr>\n",
       "      <th>0</th>\n",
       "      <td>0.000806</td>\n",
       "      <td>{'C': 1, 'kernel': 'linear'}</td>\n",
       "      <td>0.9125</td>\n",
       "    </tr>\n",
       "    <tr>\n",
       "      <th>1</th>\n",
       "      <td>0.000796</td>\n",
       "      <td>{'C': 5, 'kernel': 'linear'}</td>\n",
       "      <td>0.9375</td>\n",
       "    </tr>\n",
       "    <tr>\n",
       "      <th>2</th>\n",
       "      <td>0.000654</td>\n",
       "      <td>{'C': 10, 'kernel': 'linear'}</td>\n",
       "      <td>0.9375</td>\n",
       "    </tr>\n",
       "    <tr>\n",
       "      <th>3</th>\n",
       "      <td>0.000601</td>\n",
       "      <td>{'C': 1, 'gamma': 'scale', 'kernel': 'rbf'}</td>\n",
       "      <td>0.9125</td>\n",
       "    </tr>\n",
       "    <tr>\n",
       "      <th>4</th>\n",
       "      <td>0.000800</td>\n",
       "      <td>{'C': 5, 'gamma': 'scale', 'kernel': 'rbf'}</td>\n",
       "      <td>0.9250</td>\n",
       "    </tr>\n",
       "    <tr>\n",
       "      <th>5</th>\n",
       "      <td>0.000400</td>\n",
       "      <td>{'C': 10, 'gamma': 'scale', 'kernel': 'rbf'}</td>\n",
       "      <td>0.9375</td>\n",
       "    </tr>\n",
       "  </tbody>\n",
       "</table>\n",
       "</div>"
      ],
      "text/plain": [
       "   mean_fit_time                                        params  \\\n",
       "0       0.000806                  {'C': 1, 'kernel': 'linear'}   \n",
       "1       0.000796                  {'C': 5, 'kernel': 'linear'}   \n",
       "2       0.000654                 {'C': 10, 'kernel': 'linear'}   \n",
       "3       0.000601   {'C': 1, 'gamma': 'scale', 'kernel': 'rbf'}   \n",
       "4       0.000800   {'C': 5, 'gamma': 'scale', 'kernel': 'rbf'}   \n",
       "5       0.000400  {'C': 10, 'gamma': 'scale', 'kernel': 'rbf'}   \n",
       "\n",
       "   mean_test_score  \n",
       "0           0.9125  \n",
       "1           0.9375  \n",
       "2           0.9375  \n",
       "3           0.9125  \n",
       "4           0.9250  \n",
       "5           0.9375  "
      ]
     },
     "execution_count": 343,
     "metadata": {},
     "output_type": "execute_result"
    }
   ],
   "source": [
    "df_res = pd.DataFrame(clf_svc.cv_results_)[['mean_fit_time', 'params', 'mean_test_score']]\n",
    "df_res[df_res.mean_test_score > 0.85]"
   ]
  },
  {
   "cell_type": "code",
   "execution_count": 344,
   "id": "fd1670a0-4e44-48d7-8487-5385aa986b01",
   "metadata": {},
   "outputs": [],
   "source": [
    "y_pred = clf_svc.predict(X_test)"
   ]
  },
  {
   "cell_type": "code",
   "execution_count": 345,
   "id": "f9b510cb-62c7-4f03-a597-811933d0d265",
   "metadata": {},
   "outputs": [
    {
     "name": "stdout",
     "output_type": "stream",
     "text": [
      "Accuracy: 0.950000\n",
      "                   precision    recall  f1-score   support\n",
      "\n",
      " sepal width (cm)       0.88      1.00      0.93         7\n",
      "petal length (cm)       1.00      0.92      0.96        13\n",
      "\n",
      "         accuracy                           0.95        20\n",
      "        macro avg       0.94      0.96      0.95        20\n",
      "     weighted avg       0.96      0.95      0.95        20\n",
      "\n"
     ]
    },
    {
     "data": {
      "image/png": "[encoded data removed]",
      "text/plain": [
       "<Figure size 640x480 with 2 Axes>"
      ]
     },
     "metadata": {},
     "output_type": "display_data"
    }
   ],
   "source": [
    "print_metrics(y_test, y_pred, clf_svc, target_names_small)"
   ]
  },
  {
   "cell_type": "markdown",
   "id": "bfd10e77-537a-4245-bab9-e093556cfec4",
   "metadata": {},
   "source": [
    "### Logistic Regression"
   ]
  },
  {
   "cell_type": "code",
   "execution_count": 346,
   "id": "77bb688d-0195-4ff8-aaf1-a693f8b7e09d",
   "metadata": {},
   "outputs": [
    {
     "data": {
      "text/html": [
       "<style>#sk-container-id-11 {\n",
       "  /* Definition of color scheme common for light and dark mode */\n",
       "  --sklearn-color-text: black;\n",
       "  --sklearn-color-line: gray;\n",
       "  /* Definition of color scheme for unfitted estimators */\n",
       "  --sklearn-color-unfitted-level-0: #fff5e6;\n",
       "  --sklearn-color-unfitted-level-1: #f6e4d2;\n",
       "  --sklearn-color-unfitted-level-2: #ffe0b3;\n",
       "  --sklearn-color-unfitted-level-3: chocolate;\n",
       "  /* Definition of color scheme for fitted estimators */\n",
       "  --sklearn-color-fitted-level-0: #f0f8ff;\n",
       "  --sklearn-color-fitted-level-1: #d4ebff;\n",
       "  --sklearn-color-fitted-level-2: #b3dbfd;\n",
       "  --sklearn-color-fitted-level-3: cornflowerblue;\n",
       "\n",
       "  /* Specific color for light theme */\n",
       "  --sklearn-color-text-on-default-background: var(--sg-text-color, var(--theme-code-foreground, var(--jp-content-font-color1, black)));\n",
       "  --sklearn-color-background: var(--sg-background-color, var(--theme-background, var(--jp-layout-color0, white)));\n",
       "  --sklearn-color-border-box: var(--sg-text-color, var(--theme-code-foreground, var(--jp-content-font-color1, black)));\n",
       "  --sklearn-color-icon: #696969;\n",
       "\n",
       "  @media (prefers-color-scheme: dark) {\n",
       "    /* Redefinition of color scheme for dark theme */\n",
       "    --sklearn-color-text-on-default-background: var(--sg-text-color, var(--theme-code-foreground, var(--jp-content-font-color1, white)));\n",
       "    --sklearn-color-background: var(--sg-background-color, var(--theme-background, var(--jp-layout-color0, #111)));\n",
       "    --sklearn-color-border-box: var(--sg-text-color, var(--theme-code-foreground, var(--jp-content-font-color1, white)));\n",
       "    --sklearn-color-icon: #878787;\n",
       "  }\n",
       "}\n",
       "\n",
       "#sk-container-id-11 {\n",
       "  color: var(--sklearn-color-text);\n",
       "}\n",
       "\n",
       "#sk-container-id-11 pre {\n",
       "  padding: 0;\n",
       "}\n",
       "\n",
       "#sk-container-id-11 input.sk-hidden--visually {\n",
       "  border: 0;\n",
       "  clip: rect(1px 1px 1px 1px);\n",
       "  clip: rect(1px, 1px, 1px, 1px);\n",
       "  height: 1px;\n",
       "  margin: -1px;\n",
       "  overflow: hidden;\n",
       "  padding: 0;\n",
       "  position: absolute;\n",
       "  width: 1px;\n",
       "}\n",
       "\n",
       "#sk-container-id-11 div.sk-dashed-wrapped {\n",
       "  border: 1px dashed var(--sklearn-color-line);\n",
       "  margin: 0 0.4em 0.5em 0.4em;\n",
       "  box-sizing: border-box;\n",
       "  padding-bottom: 0.4em;\n",
       "  background-color: var(--sklearn-color-background);\n",
       "}\n",
       "\n",
       "#sk-container-id-11 div.sk-container {\n",
       "  /* jupyter's `normalize.less` sets `[hidden] { display: none; }`\n",
       "     but bootstrap.min.css set `[hidden] { display: none !important; }`\n",
       "     so we also need the `!important` here to be able to override the\n",
       "     default hidden behavior on the sphinx rendered scikit-learn.org.\n",
       "     See: https://github.com/scikit-learn/scikit-learn/issues/21755 */\n",
       "  display: inline-block !important;\n",
       "  position: relative;\n",
       "}\n",
       "\n",
       "#sk-container-id-11 div.sk-text-repr-fallback {\n",
       "  display: none;\n",
       "}\n",
       "\n",
       "div.sk-parallel-item,\n",
       "div.sk-serial,\n",
       "div.sk-item {\n",
       "  /* draw centered vertical line to link estimators */\n",
       "  background-image: linear-gradient(var(--sklearn-color-text-on-default-background), var(--sklearn-color-text-on-default-background));\n",
       "  background-size: 2px 100%;\n",
       "  background-repeat: no-repeat;\n",
       "  background-position: center center;\n",
       "}\n",
       "\n",
       "/* Parallel-specific style estimator block */\n",
       "\n",
       "#sk-container-id-11 div.sk-parallel-item::after {\n",
       "  content: \"\";\n",
       "  width: 100%;\n",
       "  border-bottom: 2px solid var(--sklearn-color-text-on-default-background);\n",
       "  flex-grow: 1;\n",
       "}\n",
       "\n",
       "#sk-container-id-11 div.sk-parallel {\n",
       "  display: flex;\n",
       "  align-items: stretch;\n",
       "  justify-content: center;\n",
       "  background-color: var(--sklearn-color-background);\n",
       "  position: relative;\n",
       "}\n",
       "\n",
       "#sk-container-id-11 div.sk-parallel-item {\n",
       "  display: flex;\n",
       "  flex-direction: column;\n",
       "}\n",
       "\n",
       "#sk-container-id-11 div.sk-parallel-item:first-child::after {\n",
       "  align-self: flex-end;\n",
       "  width: 50%;\n",
       "}\n",
       "\n",
       "#sk-container-id-11 div.sk-parallel-item:last-child::after {\n",
       "  align-self: flex-start;\n",
       "  width: 50%;\n",
       "}\n",
       "\n",
       "#sk-container-id-11 div.sk-parallel-item:only-child::after {\n",
       "  width: 0;\n",
       "}\n",
       "\n",
       "/* Serial-specific style estimator block */\n",
       "\n",
       "#sk-container-id-11 div.sk-serial {\n",
       "  display: flex;\n",
       "  flex-direction: column;\n",
       "  align-items: center;\n",
       "  background-color: var(--sklearn-color-background);\n",
       "  padding-right: 1em;\n",
       "  padding-left: 1em;\n",
       "}\n",
       "\n",
       "\n",
       "/* Toggleable style: style used for estimator/Pipeline/ColumnTransformer box that is\n",
       "clickable and can be expanded/collapsed.\n",
       "- Pipeline and ColumnTransformer use this feature and define the default style\n",
       "- Estimators will overwrite some part of the style using the `sk-estimator` class\n",
       "*/\n",
       "\n",
       "/* Pipeline and ColumnTransformer style (default) */\n",
       "\n",
       "#sk-container-id-11 div.sk-toggleable {\n",
       "  /* Default theme specific background. It is overwritten whether we have a\n",
       "  specific estimator or a Pipeline/ColumnTransformer */\n",
       "  background-color: var(--sklearn-color-background);\n",
       "}\n",
       "\n",
       "/* Toggleable label */\n",
       "#sk-container-id-11 label.sk-toggleable__label {\n",
       "  cursor: pointer;\n",
       "  display: block;\n",
       "  width: 100%;\n",
       "  margin-bottom: 0;\n",
       "  padding: 0.5em;\n",
       "  box-sizing: border-box;\n",
       "  text-align: center;\n",
       "}\n",
       "\n",
       "#sk-container-id-11 label.sk-toggleable__label-arrow:before {\n",
       "  /* Arrow on the left of the label */\n",
       "  content: \"▸\";\n",
       "  float: left;\n",
       "  margin-right: 0.25em;\n",
       "  color: var(--sklearn-color-icon);\n",
       "}\n",
       "\n",
       "#sk-container-id-11 label.sk-toggleable__label-arrow:hover:before {\n",
       "  color: var(--sklearn-color-text);\n",
       "}\n",
       "\n",
       "/* Toggleable content - dropdown */\n",
       "\n",
       "#sk-container-id-11 div.sk-toggleable__content {\n",
       "  max-height: 0;\n",
       "  max-width: 0;\n",
       "  overflow: hidden;\n",
       "  text-align: left;\n",
       "  /* unfitted */\n",
       "  background-color: var(--sklearn-color-unfitted-level-0);\n",
       "}\n",
       "\n",
       "#sk-container-id-11 div.sk-toggleable__content.fitted {\n",
       "  /* fitted */\n",
       "  background-color: var(--sklearn-color-fitted-level-0);\n",
       "}\n",
       "\n",
       "#sk-container-id-11 div.sk-toggleable__content pre {\n",
       "  margin: 0.2em;\n",
       "  border-radius: 0.25em;\n",
       "  color: var(--sklearn-color-text);\n",
       "  /* unfitted */\n",
       "  background-color: var(--sklearn-color-unfitted-level-0);\n",
       "}\n",
       "\n",
       "#sk-container-id-11 div.sk-toggleable__content.fitted pre {\n",
       "  /* unfitted */\n",
       "  background-color: var(--sklearn-color-fitted-level-0);\n",
       "}\n",
       "\n",
       "#sk-container-id-11 input.sk-toggleable__control:checked~div.sk-toggleable__content {\n",
       "  /* Expand drop-down */\n",
       "  max-height: 200px;\n",
       "  max-width: 100%;\n",
       "  overflow: auto;\n",
       "}\n",
       "\n",
       "#sk-container-id-11 input.sk-toggleable__control:checked~label.sk-toggleable__label-arrow:before {\n",
       "  content: \"▾\";\n",
       "}\n",
       "\n",
       "/* Pipeline/ColumnTransformer-specific style */\n",
       "\n",
       "#sk-container-id-11 div.sk-label input.sk-toggleable__control:checked~label.sk-toggleable__label {\n",
       "  color: var(--sklearn-color-text);\n",
       "  background-color: var(--sklearn-color-unfitted-level-2);\n",
       "}\n",
       "\n",
       "#sk-container-id-11 div.sk-label.fitted input.sk-toggleable__control:checked~label.sk-toggleable__label {\n",
       "  background-color: var(--sklearn-color-fitted-level-2);\n",
       "}\n",
       "\n",
       "/* Estimator-specific style */\n",
       "\n",
       "/* Colorize estimator box */\n",
       "#sk-container-id-11 div.sk-estimator input.sk-toggleable__control:checked~label.sk-toggleable__label {\n",
       "  /* unfitted */\n",
       "  background-color: var(--sklearn-color-unfitted-level-2);\n",
       "}\n",
       "\n",
       "#sk-container-id-11 div.sk-estimator.fitted input.sk-toggleable__control:checked~label.sk-toggleable__label {\n",
       "  /* fitted */\n",
       "  background-color: var(--sklearn-color-fitted-level-2);\n",
       "}\n",
       "\n",
       "#sk-container-id-11 div.sk-label label.sk-toggleable__label,\n",
       "#sk-container-id-11 div.sk-label label {\n",
       "  /* The background is the default theme color */\n",
       "  color: var(--sklearn-color-text-on-default-background);\n",
       "}\n",
       "\n",
       "/* On hover, darken the color of the background */\n",
       "#sk-container-id-11 div.sk-label:hover label.sk-toggleable__label {\n",
       "  color: var(--sklearn-color-text);\n",
       "  background-color: var(--sklearn-color-unfitted-level-2);\n",
       "}\n",
       "\n",
       "/* Label box, darken color on hover, fitted */\n",
       "#sk-container-id-11 div.sk-label.fitted:hover label.sk-toggleable__label.fitted {\n",
       "  color: var(--sklearn-color-text);\n",
       "  background-color: var(--sklearn-color-fitted-level-2);\n",
       "}\n",
       "\n",
       "/* Estimator label */\n",
       "\n",
       "#sk-container-id-11 div.sk-label label {\n",
       "  font-family: monospace;\n",
       "  font-weight: bold;\n",
       "  display: inline-block;\n",
       "  line-height: 1.2em;\n",
       "}\n",
       "\n",
       "#sk-container-id-11 div.sk-label-container {\n",
       "  text-align: center;\n",
       "}\n",
       "\n",
       "/* Estimator-specific */\n",
       "#sk-container-id-11 div.sk-estimator {\n",
       "  font-family: monospace;\n",
       "  border: 1px dotted var(--sklearn-color-border-box);\n",
       "  border-radius: 0.25em;\n",
       "  box-sizing: border-box;\n",
       "  margin-bottom: 0.5em;\n",
       "  /* unfitted */\n",
       "  background-color: var(--sklearn-color-unfitted-level-0);\n",
       "}\n",
       "\n",
       "#sk-container-id-11 div.sk-estimator.fitted {\n",
       "  /* fitted */\n",
       "  background-color: var(--sklearn-color-fitted-level-0);\n",
       "}\n",
       "\n",
       "/* on hover */\n",
       "#sk-container-id-11 div.sk-estimator:hover {\n",
       "  /* unfitted */\n",
       "  background-color: var(--sklearn-color-unfitted-level-2);\n",
       "}\n",
       "\n",
       "#sk-container-id-11 div.sk-estimator.fitted:hover {\n",
       "  /* fitted */\n",
       "  background-color: var(--sklearn-color-fitted-level-2);\n",
       "}\n",
       "\n",
       "/* Specification for estimator info (e.g. \"i\" and \"?\") */\n",
       "\n",
       "/* Common style for \"i\" and \"?\" */\n",
       "\n",
       ".sk-estimator-doc-link,\n",
       "a:link.sk-estimator-doc-link,\n",
       "a:visited.sk-estimator-doc-link {\n",
       "  float: right;\n",
       "  font-size: smaller;\n",
       "  line-height: 1em;\n",
       "  font-family: monospace;\n",
       "  background-color: var(--sklearn-color-background);\n",
       "  border-radius: 1em;\n",
       "  height: 1em;\n",
       "  width: 1em;\n",
       "  text-decoration: none !important;\n",
       "  margin-left: 1ex;\n",
       "  /* unfitted */\n",
       "  border: var(--sklearn-color-unfitted-level-1) 1pt solid;\n",
       "  color: var(--sklearn-color-unfitted-level-1);\n",
       "}\n",
       "\n",
       ".sk-estimator-doc-link.fitted,\n",
       "a:link.sk-estimator-doc-link.fitted,\n",
       "a:visited.sk-estimator-doc-link.fitted {\n",
       "  /* fitted */\n",
       "  border: var(--sklearn-color-fitted-level-1) 1pt solid;\n",
       "  color: var(--sklearn-color-fitted-level-1);\n",
       "}\n",
       "\n",
       "/* On hover */\n",
       "div.sk-estimator:hover .sk-estimator-doc-link:hover,\n",
       ".sk-estimator-doc-link:hover,\n",
       "div.sk-label-container:hover .sk-estimator-doc-link:hover,\n",
       ".sk-estimator-doc-link:hover {\n",
       "  /* unfitted */\n",
       "  background-color: var(--sklearn-color-unfitted-level-3);\n",
       "  color: var(--sklearn-color-background);\n",
       "  text-decoration: none;\n",
       "}\n",
       "\n",
       "div.sk-estimator.fitted:hover .sk-estimator-doc-link.fitted:hover,\n",
       ".sk-estimator-doc-link.fitted:hover,\n",
       "div.sk-label-container:hover .sk-estimator-doc-link.fitted:hover,\n",
       ".sk-estimator-doc-link.fitted:hover {\n",
       "  /* fitted */\n",
       "  background-color: var(--sklearn-color-fitted-level-3);\n",
       "  color: var(--sklearn-color-background);\n",
       "  text-decoration: none;\n",
       "}\n",
       "\n",
       "/* Span, style for the box shown on hovering the info icon */\n",
       ".sk-estimator-doc-link span {\n",
       "  display: none;\n",
       "  z-index: 9999;\n",
       "  position: relative;\n",
       "  font-weight: normal;\n",
       "  right: .2ex;\n",
       "  padding: .5ex;\n",
       "  margin: .5ex;\n",
       "  width: min-content;\n",
       "  min-width: 20ex;\n",
       "  max-width: 50ex;\n",
       "  color: var(--sklearn-color-text);\n",
       "  box-shadow: 2pt 2pt 4pt #999;\n",
       "  /* unfitted */\n",
       "  background: var(--sklearn-color-unfitted-level-0);\n",
       "  border: .5pt solid var(--sklearn-color-unfitted-level-3);\n",
       "}\n",
       "\n",
       ".sk-estimator-doc-link.fitted span {\n",
       "  /* fitted */\n",
       "  background: var(--sklearn-color-fitted-level-0);\n",
       "  border: var(--sklearn-color-fitted-level-3);\n",
       "}\n",
       "\n",
       ".sk-estimator-doc-link:hover span {\n",
       "  display: block;\n",
       "}\n",
       "\n",
       "/* \"?\"-specific style due to the `<a>` HTML tag */\n",
       "\n",
       "#sk-container-id-11 a.estimator_doc_link {\n",
       "  float: right;\n",
       "  font-size: 1rem;\n",
       "  line-height: 1em;\n",
       "  font-family: monospace;\n",
       "  background-color: var(--sklearn-color-background);\n",
       "  border-radius: 1rem;\n",
       "  height: 1rem;\n",
       "  width: 1rem;\n",
       "  text-decoration: none;\n",
       "  /* unfitted */\n",
       "  color: var(--sklearn-color-unfitted-level-1);\n",
       "  border: var(--sklearn-color-unfitted-level-1) 1pt solid;\n",
       "}\n",
       "\n",
       "#sk-container-id-11 a.estimator_doc_link.fitted {\n",
       "  /* fitted */\n",
       "  border: var(--sklearn-color-fitted-level-1) 1pt solid;\n",
       "  color: var(--sklearn-color-fitted-level-1);\n",
       "}\n",
       "\n",
       "/* On hover */\n",
       "#sk-container-id-11 a.estimator_doc_link:hover {\n",
       "  /* unfitted */\n",
       "  background-color: var(--sklearn-color-unfitted-level-3);\n",
       "  color: var(--sklearn-color-background);\n",
       "  text-decoration: none;\n",
       "}\n",
       "\n",
       "#sk-container-id-11 a.estimator_doc_link.fitted:hover {\n",
       "  /* fitted */\n",
       "  background-color: var(--sklearn-color-fitted-level-3);\n",
       "}\n",
       "</style><div id=\"sk-container-id-11\" class=\"sk-top-container\"><div class=\"sk-text-repr-fallback\"><pre>GridSearchCV(estimator=LogisticRegression(),\n",
       "             param_grid=[{&#x27;C&#x27;: [1, 5, 10], &#x27;multi_class&#x27;: [&#x27;ovr&#x27;],\n",
       "                          &#x27;penalty&#x27;: [&#x27;l1&#x27;, &#x27;l2&#x27;], &#x27;solver&#x27;: [&#x27;liblinear&#x27;]},\n",
       "                         {&#x27;C&#x27;: [1, 5, 10],\n",
       "                          &#x27;multi_class&#x27;: [&#x27;ovr&#x27;, &#x27;multinomial&#x27;],\n",
       "                          &#x27;penalty&#x27;: [&#x27;l1&#x27;, &#x27;none&#x27;], &#x27;solver&#x27;: [&#x27;lbfgs&#x27;]},\n",
       "                         {&#x27;C&#x27;: [1, 5, 10],\n",
       "                          &#x27;multi_class&#x27;: [&#x27;ovr&#x27;, &#x27;multinomial&#x27;],\n",
       "                          &#x27;penalty&#x27;: [&#x27;l1&#x27;, &#x27;none&#x27;], &#x27;solver&#x27;: [&#x27;newton-cg&#x27;]},\n",
       "                         {&#x27;C&#x27;: [1, 5, 10],\n",
       "                          &#x27;multi_class&#x27;: [&#x27;ovr&#x27;, &#x27;multinomial&#x27;],\n",
       "                          &#x27;penalty&#x27;: [&#x27;l1&#x27;, &#x27;none&#x27;], &#x27;solver&#x27;: [&#x27;sag&#x27;]},\n",
       "                         {&#x27;C&#x27;: [1, 5, 10],\n",
       "                          &#x27;multi_class&#x27;: [&#x27;ovr&#x27;, &#x27;multinomial&#x27;],\n",
       "                          &#x27;penalty&#x27;: [&#x27;l1&#x27;, &#x27;l2&#x27;, &#x27;none&#x27;],\n",
       "                          &#x27;solver&#x27;: [&#x27;saga&#x27;]}])</pre><b>In a Jupyter environment, please rerun this cell to show the HTML representation or trust the notebook. <br />On GitHub, the HTML representation is unable to render, please try loading this page with nbviewer.org.</b></div><div class=\"sk-container\" hidden><div class=\"sk-item sk-dashed-wrapped\"><div class=\"sk-label-container\"><div class=\"sk-label fitted sk-toggleable\"><input class=\"sk-toggleable__control sk-hidden--visually\" id=\"sk-estimator-id-31\" type=\"checkbox\" ><label for=\"sk-estimator-id-31\" class=\"sk-toggleable__label fitted sk-toggleable__label-arrow fitted\">&nbsp;&nbsp;GridSearchCV<a class=\"sk-estimator-doc-link fitted\" rel=\"noreferrer\" target=\"_blank\" href=\"https://scikit-learn.org/1.4/modules/generated/sklearn.model_selection.GridSearchCV.html\">?<span>Documentation for GridSearchCV</span></a><span class=\"sk-estimator-doc-link fitted\">i<span>Fitted</span></span></label><div class=\"sk-toggleable__content fitted\"><pre>GridSearchCV(estimator=LogisticRegression(),\n",
       "             param_grid=[{&#x27;C&#x27;: [1, 5, 10], &#x27;multi_class&#x27;: [&#x27;ovr&#x27;],\n",
       "                          &#x27;penalty&#x27;: [&#x27;l1&#x27;, &#x27;l2&#x27;], &#x27;solver&#x27;: [&#x27;liblinear&#x27;]},\n",
       "                         {&#x27;C&#x27;: [1, 5, 10],\n",
       "                          &#x27;multi_class&#x27;: [&#x27;ovr&#x27;, &#x27;multinomial&#x27;],\n",
       "                          &#x27;penalty&#x27;: [&#x27;l1&#x27;, &#x27;none&#x27;], &#x27;solver&#x27;: [&#x27;lbfgs&#x27;]},\n",
       "                         {&#x27;C&#x27;: [1, 5, 10],\n",
       "                          &#x27;multi_class&#x27;: [&#x27;ovr&#x27;, &#x27;multinomial&#x27;],\n",
       "                          &#x27;penalty&#x27;: [&#x27;l1&#x27;, &#x27;none&#x27;], &#x27;solver&#x27;: [&#x27;newton-cg&#x27;]},\n",
       "                         {&#x27;C&#x27;: [1, 5, 10],\n",
       "                          &#x27;multi_class&#x27;: [&#x27;ovr&#x27;, &#x27;multinomial&#x27;],\n",
       "                          &#x27;penalty&#x27;: [&#x27;l1&#x27;, &#x27;none&#x27;], &#x27;solver&#x27;: [&#x27;sag&#x27;]},\n",
       "                         {&#x27;C&#x27;: [1, 5, 10],\n",
       "                          &#x27;multi_class&#x27;: [&#x27;ovr&#x27;, &#x27;multinomial&#x27;],\n",
       "                          &#x27;penalty&#x27;: [&#x27;l1&#x27;, &#x27;l2&#x27;, &#x27;none&#x27;],\n",
       "                          &#x27;solver&#x27;: [&#x27;saga&#x27;]}])</pre></div> </div></div><div class=\"sk-parallel\"><div class=\"sk-parallel-item\"><div class=\"sk-item\"><div class=\"sk-label-container\"><div class=\"sk-label fitted sk-toggleable\"><input class=\"sk-toggleable__control sk-hidden--visually\" id=\"sk-estimator-id-32\" type=\"checkbox\" ><label for=\"sk-estimator-id-32\" class=\"sk-toggleable__label fitted sk-toggleable__label-arrow fitted\">estimator: LogisticRegression</label><div class=\"sk-toggleable__content fitted\"><pre>LogisticRegression()</pre></div> </div></div><div class=\"sk-serial\"><div class=\"sk-item\"><div class=\"sk-estimator fitted sk-toggleable\"><input class=\"sk-toggleable__control sk-hidden--visually\" id=\"sk-estimator-id-33\" type=\"checkbox\" ><label for=\"sk-estimator-id-33\" class=\"sk-toggleable__label fitted sk-toggleable__label-arrow fitted\">&nbsp;LogisticRegression<a class=\"sk-estimator-doc-link fitted\" rel=\"noreferrer\" target=\"_blank\" href=\"https://scikit-learn.org/1.4/modules/generated/sklearn.linear_model.LogisticRegression.html\">?<span>Documentation for LogisticRegression</span></a></label><div class=\"sk-toggleable__content fitted\"><pre>LogisticRegression()</pre></div> </div></div></div></div></div></div></div></div></div>"
      ],
      "text/plain": [
       "GridSearchCV(estimator=LogisticRegression(),\n",
       "             param_grid=[{'C': [1, 5, 10], 'multi_class': ['ovr'],\n",
       "                          'penalty': ['l1', 'l2'], 'solver': ['liblinear']},\n",
       "                         {'C': [1, 5, 10],\n",
       "                          'multi_class': ['ovr', 'multinomial'],\n",
       "                          'penalty': ['l1', 'none'], 'solver': ['lbfgs']},\n",
       "                         {'C': [1, 5, 10],\n",
       "                          'multi_class': ['ovr', 'multinomial'],\n",
       "                          'penalty': ['l1', 'none'], 'solver': ['newton-cg']},\n",
       "                         {'C': [1, 5, 10],\n",
       "                          'multi_class': ['ovr', 'multinomial'],\n",
       "                          'penalty': ['l1', 'none'], 'solver': ['sag']},\n",
       "                         {'C': [1, 5, 10],\n",
       "                          'multi_class': ['ovr', 'multinomial'],\n",
       "                          'penalty': ['l1', 'l2', 'none'],\n",
       "                          'solver': ['saga']}])"
      ]
     },
     "execution_count": 346,
     "metadata": {},
     "output_type": "execute_result"
    }
   ],
   "source": [
    "param_grid = [\n",
    "    {'C': [1, 5, 10], 'solver': ['liblinear'], 'multi_class': ['ovr'], 'penalty': ['l1', 'l2']},\n",
    "    {'C': [1, 5, 10], 'solver': ['lbfgs'], 'multi_class': ['ovr', 'multinomial'], 'penalty': ['l1', 'none']},\n",
    "    {'C': [1, 5, 10], 'solver': ['newton-cg'], 'multi_class': ['ovr', 'multinomial'], 'penalty': ['l1', 'none']},\n",
    "    {'C': [1, 5, 10], 'solver': ['sag'], 'multi_class': ['ovr', 'multinomial'], 'penalty': ['l1', 'none']},\n",
    "    {'C': [1, 5, 10], 'solver': ['saga'], 'multi_class': ['ovr', 'multinomial'], 'penalty': ['l1', 'l2', 'none']}\n",
    "]\n",
    "\n",
    "logistic_regression = LogisticRegression()\n",
    "clf_lr = GridSearchCV(logistic_regression, param_grid)\n",
    "\n",
    "clf_lr.fit(X_train, y_train)"
   ]
  },
  {
   "cell_type": "code",
   "execution_count": 347,
   "id": "99fbae81-3679-4a1b-9835-7c041a1b7df8",
   "metadata": {},
   "outputs": [
    {
     "name": "stdout",
     "output_type": "stream",
     "text": [
      "Наилучшие гиперпараметры:  {'C': 5, 'multi_class': 'ovr', 'penalty': 'l1', 'solver': 'liblinear'}\n"
     ]
    }
   ],
   "source": [
    "print('Наилучшие гиперпараметры: ', clf_lr.best_params_)"
   ]
  },
  {
   "cell_type": "code",
   "execution_count": 348,
   "id": "9b5d7579-54e5-4c8f-b741-d6822e470657",
   "metadata": {},
   "outputs": [
    {
     "data": {
      "text/html": [
       "<div>\n",
       "<style scoped>\n",
       "    .dataframe tbody tr th:only-of-type {\n",
       "        vertical-align: middle;\n",
       "    }\n",
       "\n",
       "    .dataframe tbody tr th {\n",
       "        vertical-align: top;\n",
       "    }\n",
       "\n",
       "    .dataframe thead th {\n",
       "        text-align: right;\n",
       "    }\n",
       "</style>\n",
       "<table border=\"1\" class=\"dataframe\">\n",
       "  <thead>\n",
       "    <tr style=\"text-align: right;\">\n",
       "      <th></th>\n",
       "      <th>mean_fit_time</th>\n",
       "      <th>params</th>\n",
       "      <th>mean_test_score</th>\n",
       "    </tr>\n",
       "  </thead>\n",
       "  <tbody>\n",
       "    <tr>\n",
       "      <th>0</th>\n",
       "      <td>0.002103</td>\n",
       "      <td>{'C': 1, 'multi_class': 'ovr', 'penalty': 'l1'...</td>\n",
       "      <td>0.8875</td>\n",
       "    </tr>\n",
       "    <tr>\n",
       "      <th>1</th>\n",
       "      <td>0.000999</td>\n",
       "      <td>{'C': 1, 'multi_class': 'ovr', 'penalty': 'l2'...</td>\n",
       "      <td>0.8750</td>\n",
       "    </tr>\n",
       "    <tr>\n",
       "      <th>2</th>\n",
       "      <td>0.001833</td>\n",
       "      <td>{'C': 5, 'multi_class': 'ovr', 'penalty': 'l1'...</td>\n",
       "      <td>0.9125</td>\n",
       "    </tr>\n",
       "    <tr>\n",
       "      <th>3</th>\n",
       "      <td>0.000864</td>\n",
       "      <td>{'C': 5, 'multi_class': 'ovr', 'penalty': 'l2'...</td>\n",
       "      <td>0.8875</td>\n",
       "    </tr>\n",
       "    <tr>\n",
       "      <th>4</th>\n",
       "      <td>0.001541</td>\n",
       "      <td>{'C': 10, 'multi_class': 'ovr', 'penalty': 'l1...</td>\n",
       "      <td>0.9125</td>\n",
       "    </tr>\n",
       "    <tr>\n",
       "      <th>5</th>\n",
       "      <td>0.000772</td>\n",
       "      <td>{'C': 10, 'multi_class': 'ovr', 'penalty': 'l2...</td>\n",
       "      <td>0.8875</td>\n",
       "    </tr>\n",
       "    <tr>\n",
       "      <th>42</th>\n",
       "      <td>0.001536</td>\n",
       "      <td>{'C': 1, 'multi_class': 'ovr', 'penalty': 'l1'...</td>\n",
       "      <td>0.8875</td>\n",
       "    </tr>\n",
       "    <tr>\n",
       "      <th>43</th>\n",
       "      <td>0.001040</td>\n",
       "      <td>{'C': 1, 'multi_class': 'ovr', 'penalty': 'l2'...</td>\n",
       "      <td>0.9125</td>\n",
       "    </tr>\n",
       "    <tr>\n",
       "      <th>45</th>\n",
       "      <td>0.001600</td>\n",
       "      <td>{'C': 1, 'multi_class': 'multinomial', 'penalt...</td>\n",
       "      <td>0.9125</td>\n",
       "    </tr>\n",
       "    <tr>\n",
       "      <th>46</th>\n",
       "      <td>0.001889</td>\n",
       "      <td>{'C': 1, 'multi_class': 'multinomial', 'penalt...</td>\n",
       "      <td>0.9125</td>\n",
       "    </tr>\n",
       "    <tr>\n",
       "      <th>48</th>\n",
       "      <td>0.001067</td>\n",
       "      <td>{'C': 5, 'multi_class': 'ovr', 'penalty': 'l1'...</td>\n",
       "      <td>0.8875</td>\n",
       "    </tr>\n",
       "    <tr>\n",
       "      <th>49</th>\n",
       "      <td>0.001002</td>\n",
       "      <td>{'C': 5, 'multi_class': 'ovr', 'penalty': 'l2'...</td>\n",
       "      <td>0.8875</td>\n",
       "    </tr>\n",
       "    <tr>\n",
       "      <th>51</th>\n",
       "      <td>0.001398</td>\n",
       "      <td>{'C': 5, 'multi_class': 'multinomial', 'penalt...</td>\n",
       "      <td>0.8875</td>\n",
       "    </tr>\n",
       "    <tr>\n",
       "      <th>52</th>\n",
       "      <td>0.000999</td>\n",
       "      <td>{'C': 5, 'multi_class': 'multinomial', 'penalt...</td>\n",
       "      <td>0.9000</td>\n",
       "    </tr>\n",
       "    <tr>\n",
       "      <th>54</th>\n",
       "      <td>0.001005</td>\n",
       "      <td>{'C': 10, 'multi_class': 'ovr', 'penalty': 'l1...</td>\n",
       "      <td>0.8875</td>\n",
       "    </tr>\n",
       "    <tr>\n",
       "      <th>55</th>\n",
       "      <td>0.001004</td>\n",
       "      <td>{'C': 10, 'multi_class': 'ovr', 'penalty': 'l2...</td>\n",
       "      <td>0.8875</td>\n",
       "    </tr>\n",
       "    <tr>\n",
       "      <th>57</th>\n",
       "      <td>0.001712</td>\n",
       "      <td>{'C': 10, 'multi_class': 'multinomial', 'penal...</td>\n",
       "      <td>0.8750</td>\n",
       "    </tr>\n",
       "    <tr>\n",
       "      <th>58</th>\n",
       "      <td>0.001862</td>\n",
       "      <td>{'C': 10, 'multi_class': 'multinomial', 'penal...</td>\n",
       "      <td>0.8875</td>\n",
       "    </tr>\n",
       "  </tbody>\n",
       "</table>\n",
       "</div>"
      ],
      "text/plain": [
       "    mean_fit_time                                             params  \\\n",
       "0        0.002103  {'C': 1, 'multi_class': 'ovr', 'penalty': 'l1'...   \n",
       "1        0.000999  {'C': 1, 'multi_class': 'ovr', 'penalty': 'l2'...   \n",
       "2        0.001833  {'C': 5, 'multi_class': 'ovr', 'penalty': 'l1'...   \n",
       "3        0.000864  {'C': 5, 'multi_class': 'ovr', 'penalty': 'l2'...   \n",
       "4        0.001541  {'C': 10, 'multi_class': 'ovr', 'penalty': 'l1...   \n",
       "5        0.000772  {'C': 10, 'multi_class': 'ovr', 'penalty': 'l2...   \n",
       "42       0.001536  {'C': 1, 'multi_class': 'ovr', 'penalty': 'l1'...   \n",
       "43       0.001040  {'C': 1, 'multi_class': 'ovr', 'penalty': 'l2'...   \n",
       "45       0.001600  {'C': 1, 'multi_class': 'multinomial', 'penalt...   \n",
       "46       0.001889  {'C': 1, 'multi_class': 'multinomial', 'penalt...   \n",
       "48       0.001067  {'C': 5, 'multi_class': 'ovr', 'penalty': 'l1'...   \n",
       "49       0.001002  {'C': 5, 'multi_class': 'ovr', 'penalty': 'l2'...   \n",
       "51       0.001398  {'C': 5, 'multi_class': 'multinomial', 'penalt...   \n",
       "52       0.000999  {'C': 5, 'multi_class': 'multinomial', 'penalt...   \n",
       "54       0.001005  {'C': 10, 'multi_class': 'ovr', 'penalty': 'l1...   \n",
       "55       0.001004  {'C': 10, 'multi_class': 'ovr', 'penalty': 'l2...   \n",
       "57       0.001712  {'C': 10, 'multi_class': 'multinomial', 'penal...   \n",
       "58       0.001862  {'C': 10, 'multi_class': 'multinomial', 'penal...   \n",
       "\n",
       "    mean_test_score  \n",
       "0            0.8875  \n",
       "1            0.8750  \n",
       "2            0.9125  \n",
       "3            0.8875  \n",
       "4            0.9125  \n",
       "5            0.8875  \n",
       "42           0.8875  \n",
       "43           0.9125  \n",
       "45           0.9125  \n",
       "46           0.9125  \n",
       "48           0.8875  \n",
       "49           0.8875  \n",
       "51           0.8875  \n",
       "52           0.9000  \n",
       "54           0.8875  \n",
       "55           0.8875  \n",
       "57           0.8750  \n",
       "58           0.8875  "
      ]
     },
     "execution_count": 348,
     "metadata": {},
     "output_type": "execute_result"
    }
   ],
   "source": [
    "df_res = pd.DataFrame(clf_lr.cv_results_)[['mean_fit_time', 'params', 'mean_test_score']]\n",
    "df_res[df_res.mean_test_score > 0.85]"
   ]
  },
  {
   "cell_type": "code",
   "execution_count": 349,
   "id": "3bfbe0d5-3e6d-4180-96b1-66ab589d8947",
   "metadata": {},
   "outputs": [],
   "source": [
    "y_pred = clf_svc.predict(X_test)"
   ]
  },
  {
   "cell_type": "code",
   "execution_count": 350,
   "id": "b9ae0e37-6a17-427a-9745-f752dec99393",
   "metadata": {},
   "outputs": [
    {
     "name": "stdout",
     "output_type": "stream",
     "text": [
      "Accuracy: 0.950000\n",
      "                   precision    recall  f1-score   support\n",
      "\n",
      " sepal width (cm)       0.88      1.00      0.93         7\n",
      "petal length (cm)       1.00      0.92      0.96        13\n",
      "\n",
      "         accuracy                           0.95        20\n",
      "        macro avg       0.94      0.96      0.95        20\n",
      "     weighted avg       0.96      0.95      0.95        20\n",
      "\n"
     ]
    },
    {
     "data": {
      "image/png": "[encoded data removed]",
      "text/plain": [
       "<Figure size 640x480 with 2 Axes>"
      ]
     },
     "metadata": {},
     "output_type": "display_data"
    }
   ],
   "source": [
    "print_metrics(y_test, y_pred, clf_svc, target_names_small)"
   ]
  },
  {
   "cell_type": "markdown",
   "id": "87446338-c144-4d7c-be87-8dfa201c01dc",
   "metadata": {},
   "source": [
    "### Perceptron"
   ]
  },
  {
   "cell_type": "code",
   "execution_count": 356,
   "id": "1919095a-dad5-45e1-a3eb-5057d9a92d02",
   "metadata": {},
   "outputs": [],
   "source": [
    "def sigmoid(x):\n",
    "    return 1 / (1 + np.exp(-x))\n",
    "\n",
    "def deriv_sigmoid(x):\n",
    "    fx = sigmoid(x)\n",
    "    return fx * (1 - fx)\n",
    "\n",
    "def mse_loss(y_true, y_pred):\n",
    "    return ((y_true - y_pred) ** 2).mean()\n",
    "\n",
    "class Perceptron:\n",
    "    def __init__(self):\n",
    "        a = 1 / np.sqrt(2)\n",
    "        self.w1 = a * np.random.normal()\n",
    "        self.w2 = a * np.random.normal()\n",
    "        self.b = a * np.random.normal()\n",
    "\n",
    "    def feedforward(self, input):\n",
    "        output = sigmoid(self.w1 * input[0] + self.w2 * input[1] + self.b)\n",
    "        return output\n",
    "\n",
    "    def train(self, X_train, y_train):\n",
    "        learning_rate = 1e-1\n",
    "        epochs = 1000\n",
    "\n",
    "        for epoch in range(epochs):\n",
    "            for x, y_true in zip(X_train, y_train):\n",
    "                # прямой проход\n",
    "                sum_output = self.w1 * x[0] + self.w2 * x[1] + self.b\n",
    "                output = sigmoid(sum_output)\n",
    "                y_pred = output\n",
    "\n",
    "                # считаем производные\n",
    "                d_L_d_ypred = -2 * (y_true - y_pred)\n",
    "                d_ypred_d_w1 = x[0] * deriv_sigmoid(sum_output)\n",
    "                d_ypred_d_w2 = x[1] * deriv_sigmoid(sum_output)\n",
    "                d_ypred_d_b = deriv_sigmoid(sum_output)\n",
    "\n",
    "                # обновляем веса\n",
    "                self.w1 -= learning_rate * d_L_d_ypred * d_ypred_d_w1\n",
    "                self.w2 -= learning_rate * d_L_d_ypred * d_ypred_d_w2\n",
    "                self.b -= learning_rate * d_L_d_ypred * d_ypred_d_b\n",
    "\n",
    "            if epoch % 100 == 0:\n",
    "                y_preds = np.apply_along_axis(self.feedforward, 1, X_train)\n",
    "                loss = mse_loss(y_train, y_preds)\n",
    "                print(\"Epoch %d loss: %.3f\" % (epoch, loss))\n",
    "\n",
    "    def predict(self, X_test):\n",
    "        y_preds = np.apply_along_axis(self.feedforward, 1, X_test)\n",
    "        y_preds = np.rint(y_preds).astype(np.int32)\n",
    "        return y_preds\n",
    "\n",
    "    def accuracy(self, y_true, y_pred):\n",
    "        return y_pred[y_pred == y_true].shape[0] / y_true.shape[0]"
   ]
  },
  {
   "cell_type": "code",
   "execution_count": 357,
   "id": "bd2920b4-eac0-4d39-9e11-0cde8c19b730",
   "metadata": {},
   "outputs": [],
   "source": [
    "y_train_modify = y_train.copy()\n",
    "y_train_modify[y_train_modify == 1] = 0\n",
    "y_train_modify[y_train_modify == 2] = 1\n",
    "\n",
    "y_test_modify = y_test.copy()\n",
    "y_test_modify[y_test_modify == 1] = 0\n",
    "y_test_modify[y_test_modify == 2] = 1"
   ]
  },
  {
   "cell_type": "code",
   "execution_count": 358,
   "id": "65562c99-9c8e-48ea-bb04-2c827e5fbd1b",
   "metadata": {},
   "outputs": [
    {
     "name": "stdout",
     "output_type": "stream",
     "text": [
      "Epoch 0 loss: 0.447\n",
      "Epoch 100 loss: 0.087\n",
      "Epoch 200 loss: 0.080\n",
      "Epoch 300 loss: 0.075\n",
      "Epoch 400 loss: 0.070\n",
      "Epoch 500 loss: 0.065\n",
      "Epoch 600 loss: 0.062\n",
      "Epoch 700 loss: 0.060\n",
      "Epoch 800 loss: 0.058\n",
      "Epoch 900 loss: 0.057\n"
     ]
    }
   ],
   "source": [
    "network = Perceptron()\n",
    "network.train(X_train, y_train_modify)"
   ]
  },
  {
   "cell_type": "code",
   "execution_count": 359,
   "id": "65ff4136-60c2-411c-9b73-9db174f9ba1c",
   "metadata": {},
   "outputs": [
    {
     "data": {
      "text/plain": [
       "(array([1, 1, 1, 0, 1, 1, 1, 1, 0, 1, 0, 1, 1, 0, 1, 1, 0, 0, 0, 0]),\n",
       " array([1, 1, 1, 0, 1, 1, 1, 1, 0, 1, 0, 1, 1, 0, 1, 1, 0, 0, 1, 0]))"
      ]
     },
     "execution_count": 359,
     "metadata": {},
     "output_type": "execute_result"
    }
   ],
   "source": [
    "y_pred = network.predict(X_test)\n",
    "y_pred, y_test_modify"
   ]
  },
  {
   "cell_type": "code",
   "execution_count": 360,
   "id": "cfa1624e-fc12-4553-8b7a-46da4ec92ca8",
   "metadata": {},
   "outputs": [
    {
     "data": {
      "text/plain": [
       "0.95"
      ]
     },
     "execution_count": 360,
     "metadata": {},
     "output_type": "execute_result"
    }
   ],
   "source": [
    "network.accuracy(y_test_modify, y_pred)"
   ]
  },
  {
   "cell_type": "markdown",
   "id": "ed996ef2-9063-40b9-8827-c3461a412f65",
   "metadata": {},
   "source": [
    "# 2. Простейший многослойный перцептрон с датасетом Iris"
   ]
  },
  {
   "cell_type": "code",
   "execution_count": 266,
   "id": "d205adb5-9ec2-4f0f-bbfc-78fcf4c20977",
   "metadata": {},
   "outputs": [],
   "source": [
    "X = df[['sepal length (cm)', 'sepal width (cm)', 'petal length (cm)', 'petal width (cm)']].to_numpy()\n",
    "y = df['target'].to_numpy()\n",
    "\n",
    "X_train, X_test, y_train, y_test = train_test_split(X, y, test_size=0.2, shuffle=True)"
   ]
  },
  {
   "cell_type": "code",
   "execution_count": 438,
   "id": "04850aad-a449-426c-8ffd-7a7df0035202",
   "metadata": {},
   "outputs": [],
   "source": [
    "class Linear:\n",
    "\n",
    "    def __init__(self, n_inputs, n_neurons):\n",
    "        self.weights = np.random.randn(n_inputs, n_neurons)\n",
    "        self.biases = np.zeros((1, n_neurons))\n",
    "\n",
    "    def forward(self, inputs):\n",
    "        self.inputs = inputs\n",
    "        self.output = np.dot(inputs, self.weights) + self.biases\n",
    "\n",
    "    def backward(self, dvalues):\n",
    "        self.dweights = np.dot(self.inputs.T, dvalues)\n",
    "        self.dbiases = np.sum(dvalues, axis=0, keepdims=True)\n",
    "        self.dinputs = np.dot(dvalues, self.weights.T)\n",
    "\n",
    "\n",
    "class Activation_Sigmoid:\n",
    "\n",
    "    def forward(self, inputs):\n",
    "        self.inputs = inputs\n",
    "        self.output = 1 / (1 + np.exp(-inputs))\n",
    "\n",
    "    def backward(self, dvalues):\n",
    "        self.dinputs = dvalues * (1 - self.output) * self.output\n",
    "\n",
    "    def predictions(self, outputs):\n",
    "        return (outputs > 0.5) * 1\n",
    "\n",
    "\n",
    "class Activation_ReLU:\n",
    "\n",
    "    def forward(self, inputs, training):\n",
    "        self.inputs = inputs\n",
    "        self.output = np.maximum(0, inputs)\n",
    "\n",
    "    def backward(self, dvalues):\n",
    "        self.dinputs = dvalues.copy()\n",
    "        self.dinputs[self.inputs <= 0] = 0\n",
    "\n",
    "    def predictions(self, outputs):\n",
    "        return outputs\n",
    "\n",
    "\n",
    "class Activation_Softmax:\n",
    "\n",
    "    def forward(self, inputs):\n",
    "        self.inputs = inputs\n",
    "        exp_values = np.exp(inputs - np.max(inputs, axis=1, keepdims=True))\n",
    "        probabilities = exp_values / np.sum(exp_values, axis=1, keepdims=True)\n",
    "        self.output = probabilities\n",
    "\n",
    "    def backward(self, dvalues):\n",
    "        self.dinputs = np.empty_like(dvalues)\n",
    "        for index, (single_output, single_dvalues) in enumerate(zip(self.output, dvalues)):\n",
    "            single_output = single_output.reshape(-1, 1)\n",
    "            jacobian_matrix = np.diagflat(single_output) - np.dot(single_output, single_output.T)\n",
    "            self.dinputs[index] = np.dot(jacobian_matrix, single_dvalues)\n",
    "\n",
    "\n",
    "class SGD:\n",
    "\n",
    "    def __init__(self, learning_rate=1., decay=0.):\n",
    "        self.learning_rate = learning_rate\n",
    "        self.current_learning_rate = learning_rate\n",
    "        self.decay = decay\n",
    "        self.iterations = 0\n",
    "\n",
    "    def update_params(self, layer):\n",
    "        self.current_learning_rate = self.learning_rate * (1. / (1. + self.decay * self.iterations))\n",
    "        weight_updates = - self.current_learning_rate * layer.dweights\n",
    "        bias_updates = - self.current_learning_rate * layer.dbiases\n",
    "\n",
    "        layer.weights += weight_updates\n",
    "        layer.biases += bias_updates\n",
    "\n",
    "        self.iterations += 1\n",
    "\n",
    "\n",
    "class Loss:\n",
    "\n",
    "    def calculate(self, output, y):\n",
    "        sample_losses = self.forward(output, y)\n",
    "        data_loss = np.mean(sample_losses)\n",
    "\n",
    "        return data_loss\n",
    "\n",
    "\n",
    "class Loss_CategoricalCrossentropy(Loss):\n",
    "\n",
    "    def forward(self, y_pred, y_true):\n",
    "        samples = len(y_pred)\n",
    "        y_pred_clipped = np.clip(y_pred, 1e-7, 1 - 1e-7)\n",
    "\n",
    "\n",
    "        if len(y_true.shape) == 1:\n",
    "            correct_confidences = y_pred_clipped[\n",
    "                range(samples),\n",
    "                y_true\n",
    "            ]\n",
    "\n",
    "        negative_log_likelihoods = -np.log(correct_confidences)\n",
    "        return negative_log_likelihoods\n",
    "\n",
    "    def backward(self, dvalues, y_true):\n",
    "        samples = len(dvalues)\n",
    "\n",
    "        self.dinputs = -y_true / dvalues # Calculate gradient\n",
    "        self.dinputs = self.dinputs / samples # Normalize gradient\n",
    "\n",
    "\n",
    "class Activation_Softmax_Loss_CategoricalCrossentropy():\n",
    "\n",
    "    def __init__(self):\n",
    "        self.activation = Activation_Softmax()\n",
    "        self.loss = Loss_CategoricalCrossentropy()\n",
    "\n",
    "    def forward(self, inputs, y_true):\n",
    "        self.activation.forward(inputs)\n",
    "        self.output = self.activation.output\n",
    "        \n",
    "        return self.loss.calculate(self.output, y_true)\n",
    "\n",
    "    def backward(self, dvalues, y_true):\n",
    "\n",
    "        samples = len(dvalues)\n",
    "\n",
    "        self.dinputs = dvalues.copy()\n",
    "        self.dinputs[range(samples), y_true] -= 1\n",
    "        self.dinputs = self.dinputs / samples\n",
    "\n",
    "\n",
    "class Model:\n",
    "\n",
    "    def __init__(self):\n",
    "        self.layers = []\n",
    "\n",
    "    def add(self, layer):\n",
    "        self.layers.append(layer)\n",
    "\n",
    "    def set(self, loss, optimizer):\n",
    "        self.loss = loss\n",
    "        self.optimizer = optimizer\n",
    "\n",
    "    def train(self, X, y, epochs=1):\n",
    "        for epoch in range(epochs + 1):\n",
    "            output_cur = X\n",
    "            for layer in self.layers:\n",
    "                layer.forward(output_cur)\n",
    "                output_cur = layer.output\n",
    "\n",
    "            loss_score = self.loss.forward(output_cur, y)\n",
    "            predictions = np.argmax(self.loss.output, axis=1)\n",
    "            accuracy = np.mean(predictions==y)\n",
    "        \n",
    "            if not epoch % 25:\n",
    "                print(f'epoch: {epoch}, ' +\n",
    "                      f'accuracy: {accuracy:.3f}, ' +\n",
    "                      f'loss_score: {loss_score:.3f}, ' +\n",
    "                      f'lr: {self.optimizer.current_learning_rate}')\n",
    "\n",
    "            self.loss.backward(self.loss.output, y)\n",
    "            gradIn = self.loss.dinputs\n",
    "            \n",
    "            for layer in self.layers[::-1]:\n",
    "                layer.backward(gradIn)\n",
    "                gradIn = layer.dinputs\n",
    "        \n",
    "            for layer in self.layers:\n",
    "                if type(layer) == type(Linear(1, 1)):\n",
    "                    self.optimizer.update_params(layer)\n",
    "\n",
    "    def predict(self, X_test):\n",
    "        output_cur = X_test\n",
    "        for layer in self.layers:\n",
    "            layer.forward(output_cur)\n",
    "            output_cur = layer.output\n",
    "\n",
    "        self.loss.activation.forward(output_cur)\n",
    "        predictions = np.argmax(self.loss.activation.output, axis=1)\n",
    "        \n",
    "        return predictions\n",
    "\n",
    "\n",
    "    def accuracy(self, y_true, y_pred):\n",
    "        return y_pred[y_pred == y_true].shape[0] / y_true.shape[0]"
   ]
  },
  {
   "cell_type": "code",
   "execution_count": 271,
   "id": "e12d2cef-5061-41ca-ac47-19ae3bf55fa6",
   "metadata": {},
   "outputs": [
    {
     "name": "stdout",
     "output_type": "stream",
     "text": [
      "epoch: 0, accuracy: 0.333, loss_score: 1.267, lr: 0.05\n",
      "epoch: 25, accuracy: 0.333, loss_score: 1.007, lr: 0.049975511999120426\n",
      "epoch: 50, accuracy: 0.667, loss_score: 0.917, lr: 0.04995054895653303\n",
      "epoch: 75, accuracy: 0.667, loss_score: 0.869, lr: 0.04992561083984863\n",
      "epoch: 100, accuracy: 0.667, loss_score: 0.832, lr: 0.049900697611752615\n",
      "epoch: 125, accuracy: 0.667, loss_score: 0.801, lr: 0.049875809235004835\n",
      "epoch: 150, accuracy: 0.675, loss_score: 0.773, lr: 0.04985094567243941\n",
      "epoch: 175, accuracy: 0.683, loss_score: 0.749, lr: 0.0498261068869645\n",
      "epoch: 200, accuracy: 0.692, loss_score: 0.726, lr: 0.04980129284156218\n",
      "epoch: 225, accuracy: 0.692, loss_score: 0.707, lr: 0.049776503499288194\n",
      "epoch: 250, accuracy: 0.692, loss_score: 0.689, lr: 0.04975173882327187\n",
      "epoch: 275, accuracy: 0.692, loss_score: 0.672, lr: 0.04972699877671583\n",
      "epoch: 300, accuracy: 0.692, loss_score: 0.656, lr: 0.04970228332289586\n",
      "epoch: 325, accuracy: 0.692, loss_score: 0.641, lr: 0.049677592425160705\n",
      "epoch: 350, accuracy: 0.692, loss_score: 0.623, lr: 0.049652926046931944\n",
      "epoch: 375, accuracy: 0.692, loss_score: 0.597, lr: 0.04962828415170374\n",
      "epoch: 400, accuracy: 0.725, loss_score: 0.568, lr: 0.0496036667030427\n",
      "epoch: 425, accuracy: 0.808, loss_score: 0.549, lr: 0.04957907366458765\n",
      "epoch: 450, accuracy: 0.875, loss_score: 0.537, lr: 0.049554505000049556\n",
      "epoch: 475, accuracy: 0.900, loss_score: 0.528, lr: 0.04952996067321123\n",
      "epoch: 500, accuracy: 0.958, loss_score: 0.521, lr: 0.04950544064792722\n",
      "epoch: 525, accuracy: 0.958, loss_score: 0.515, lr: 0.04948094488812358\n",
      "epoch: 550, accuracy: 0.967, loss_score: 0.509, lr: 0.0494564733577978\n",
      "epoch: 575, accuracy: 0.967, loss_score: 0.503, lr: 0.0494320260210185\n",
      "epoch: 600, accuracy: 0.967, loss_score: 0.497, lr: 0.04940760284192532\n",
      "epoch: 625, accuracy: 0.967, loss_score: 0.491, lr: 0.04938320378472874\n",
      "epoch: 650, accuracy: 0.967, loss_score: 0.485, lr: 0.049358828813709905\n",
      "epoch: 675, accuracy: 0.967, loss_score: 0.480, lr: 0.04933447789322046\n",
      "epoch: 700, accuracy: 0.967, loss_score: 0.473, lr: 0.04931015098768233\n",
      "epoch: 725, accuracy: 0.967, loss_score: 0.467, lr: 0.0492858480615876\n",
      "epoch: 750, accuracy: 0.967, loss_score: 0.461, lr: 0.04926156907949832\n",
      "epoch: 775, accuracy: 0.975, loss_score: 0.454, lr: 0.04923731400604634\n",
      "epoch: 800, accuracy: 0.975, loss_score: 0.448, lr: 0.04921308280593314\n",
      "epoch: 825, accuracy: 0.975, loss_score: 0.441, lr: 0.04918887544392961\n",
      "epoch: 850, accuracy: 0.975, loss_score: 0.434, lr: 0.04916469188487596\n",
      "epoch: 875, accuracy: 0.975, loss_score: 0.426, lr: 0.049140532093681515\n",
      "epoch: 900, accuracy: 0.975, loss_score: 0.419, lr: 0.04911639603532452\n",
      "epoch: 925, accuracy: 0.975, loss_score: 0.411, lr: 0.049092283674851994\n",
      "epoch: 950, accuracy: 0.975, loss_score: 0.404, lr: 0.04906819497737956\n",
      "epoch: 975, accuracy: 0.975, loss_score: 0.395, lr: 0.0490441299080913\n",
      "epoch: 1000, accuracy: 0.975, loss_score: 0.387, lr: 0.04902008843223954\n",
      "epoch: 1025, accuracy: 0.975, loss_score: 0.379, lr: 0.04899607051514469\n",
      "epoch: 1050, accuracy: 0.975, loss_score: 0.370, lr: 0.048972076122195125\n",
      "epoch: 1075, accuracy: 0.967, loss_score: 0.361, lr: 0.04894810521884698\n",
      "epoch: 1100, accuracy: 0.967, loss_score: 0.352, lr: 0.048924157770623984\n",
      "epoch: 1125, accuracy: 0.975, loss_score: 0.343, lr: 0.048900233743117305\n",
      "epoch: 1150, accuracy: 0.975, loss_score: 0.335, lr: 0.04887633310198536\n",
      "epoch: 1175, accuracy: 0.975, loss_score: 0.326, lr: 0.04885245581295372\n",
      "epoch: 1200, accuracy: 0.975, loss_score: 0.318, lr: 0.04882860184181487\n",
      "epoch: 1225, accuracy: 0.983, loss_score: 0.310, lr: 0.048804771154428064\n",
      "epoch: 1250, accuracy: 0.983, loss_score: 0.302, lr: 0.04878096371671919\n",
      "epoch: 1275, accuracy: 0.983, loss_score: 0.295, lr: 0.04875717949468059\n",
      "epoch: 1300, accuracy: 0.983, loss_score: 0.287, lr: 0.0487334184543709\n",
      "epoch: 1325, accuracy: 0.983, loss_score: 0.280, lr: 0.04870968056191488\n",
      "epoch: 1350, accuracy: 0.983, loss_score: 0.274, lr: 0.048685965783503246\n",
      "epoch: 1375, accuracy: 0.983, loss_score: 0.267, lr: 0.04866227408539256\n",
      "epoch: 1400, accuracy: 0.983, loss_score: 0.261, lr: 0.048638605433905004\n",
      "epoch: 1425, accuracy: 0.983, loss_score: 0.255, lr: 0.04861495979542826\n",
      "epoch: 1450, accuracy: 0.983, loss_score: 0.249, lr: 0.04859133713641532\n",
      "epoch: 1475, accuracy: 0.983, loss_score: 0.243, lr: 0.0485677374233844\n",
      "epoch: 1500, accuracy: 0.983, loss_score: 0.238, lr: 0.04854416062291867\n",
      "epoch: 1525, accuracy: 0.983, loss_score: 0.233, lr: 0.048520606701666205\n",
      "epoch: 1550, accuracy: 0.983, loss_score: 0.228, lr: 0.04849707562633973\n",
      "epoch: 1575, accuracy: 0.983, loss_score: 0.223, lr: 0.048473567363716566\n",
      "epoch: 1600, accuracy: 0.983, loss_score: 0.218, lr: 0.04845008188063838\n",
      "epoch: 1625, accuracy: 0.983, loss_score: 0.214, lr: 0.048426619144011085\n",
      "epoch: 1650, accuracy: 0.983, loss_score: 0.210, lr: 0.048403179120804656\n",
      "epoch: 1675, accuracy: 0.983, loss_score: 0.206, lr: 0.048379761778053004\n",
      "epoch: 1700, accuracy: 0.983, loss_score: 0.202, lr: 0.048356367082853804\n",
      "epoch: 1725, accuracy: 0.983, loss_score: 0.198, lr: 0.048332995002368324\n",
      "epoch: 1750, accuracy: 0.983, loss_score: 0.194, lr: 0.048309645503821295\n",
      "epoch: 1775, accuracy: 0.983, loss_score: 0.190, lr: 0.04828631855450077\n",
      "epoch: 1800, accuracy: 0.983, loss_score: 0.187, lr: 0.04826301412175794\n",
      "epoch: 1825, accuracy: 0.983, loss_score: 0.184, lr: 0.04823973217300698\n",
      "epoch: 1850, accuracy: 0.983, loss_score: 0.180, lr: 0.04821647267572493\n",
      "epoch: 1875, accuracy: 0.983, loss_score: 0.177, lr: 0.04819323559745154\n",
      "epoch: 1900, accuracy: 0.983, loss_score: 0.174, lr: 0.04817002090578908\n",
      "epoch: 1925, accuracy: 0.983, loss_score: 0.171, lr: 0.04814682856840221\n",
      "epoch: 1950, accuracy: 0.983, loss_score: 0.168, lr: 0.04812365855301783\n",
      "epoch: 1975, accuracy: 0.983, loss_score: 0.166, lr: 0.04810051082742499\n",
      "epoch: 2000, accuracy: 0.983, loss_score: 0.163, lr: 0.04807738535947462\n",
      "epoch: 2025, accuracy: 0.983, loss_score: 0.161, lr: 0.04805428211707946\n",
      "epoch: 2050, accuracy: 0.983, loss_score: 0.158, lr: 0.04803120106821391\n",
      "epoch: 2075, accuracy: 0.983, loss_score: 0.156, lr: 0.048008142180913885\n",
      "epoch: 2100, accuracy: 0.983, loss_score: 0.153, lr: 0.047985105423276615\n",
      "epoch: 2125, accuracy: 0.983, loss_score: 0.151, lr: 0.047962090763460564\n",
      "epoch: 2150, accuracy: 0.983, loss_score: 0.149, lr: 0.04793909816968523\n",
      "epoch: 2175, accuracy: 0.983, loss_score: 0.147, lr: 0.047916127610231056\n",
      "epoch: 2200, accuracy: 0.983, loss_score: 0.145, lr: 0.04789317905343921\n",
      "epoch: 2225, accuracy: 0.983, loss_score: 0.143, lr: 0.04787025246771152\n",
      "epoch: 2250, accuracy: 0.983, loss_score: 0.141, lr: 0.047847347821510254\n",
      "epoch: 2275, accuracy: 0.983, loss_score: 0.139, lr: 0.047824465083358046\n",
      "epoch: 2300, accuracy: 0.983, loss_score: 0.137, lr: 0.047801604221837685\n",
      "epoch: 2325, accuracy: 0.983, loss_score: 0.135, lr: 0.04777876520559203\n",
      "epoch: 2350, accuracy: 0.983, loss_score: 0.134, lr: 0.04775594800332381\n",
      "epoch: 2375, accuracy: 0.983, loss_score: 0.132, lr: 0.04773315258379555\n",
      "epoch: 2400, accuracy: 0.983, loss_score: 0.130, lr: 0.047710378915829355\n",
      "epoch: 2425, accuracy: 0.983, loss_score: 0.129, lr: 0.04768762696830681\n",
      "epoch: 2450, accuracy: 0.983, loss_score: 0.127, lr: 0.047664896710168825\n",
      "epoch: 2475, accuracy: 0.983, loss_score: 0.126, lr: 0.04764218811041554\n",
      "epoch: 2500, accuracy: 0.983, loss_score: 0.124, lr: 0.047619501138106084\n",
      "epoch: 2525, accuracy: 0.983, loss_score: 0.123, lr: 0.04759683576235852\n",
      "epoch: 2550, accuracy: 0.983, loss_score: 0.122, lr: 0.04757419195234969\n",
      "epoch: 2575, accuracy: 0.983, loss_score: 0.120, lr: 0.04755156967731505\n",
      "epoch: 2600, accuracy: 0.983, loss_score: 0.119, lr: 0.04752896890654854\n",
      "epoch: 2625, accuracy: 0.983, loss_score: 0.118, lr: 0.04750638960940247\n",
      "epoch: 2650, accuracy: 0.983, loss_score: 0.116, lr: 0.04748383175528732\n",
      "epoch: 2675, accuracy: 0.983, loss_score: 0.115, lr: 0.0474612953136717\n",
      "epoch: 2700, accuracy: 0.983, loss_score: 0.114, lr: 0.04743878025408211\n",
      "epoch: 2725, accuracy: 0.983, loss_score: 0.113, lr: 0.04741628654610286\n",
      "epoch: 2750, accuracy: 0.983, loss_score: 0.112, lr: 0.047393814159375915\n",
      "epoch: 2775, accuracy: 0.983, loss_score: 0.111, lr: 0.04737136306360079\n",
      "epoch: 2800, accuracy: 0.983, loss_score: 0.109, lr: 0.04734893322853437\n",
      "epoch: 2825, accuracy: 0.983, loss_score: 0.108, lr: 0.04732652462399077\n",
      "epoch: 2850, accuracy: 0.983, loss_score: 0.107, lr: 0.047304137219841245\n",
      "epoch: 2875, accuracy: 0.983, loss_score: 0.106, lr: 0.04728177098601405\n",
      "epoch: 2900, accuracy: 0.983, loss_score: 0.105, lr: 0.04725942589249427\n",
      "epoch: 2925, accuracy: 0.983, loss_score: 0.104, lr: 0.04723710190932367\n",
      "epoch: 2950, accuracy: 0.983, loss_score: 0.104, lr: 0.047214799006600625\n",
      "epoch: 2975, accuracy: 0.983, loss_score: 0.103, lr: 0.04719251715447999\n",
      "epoch: 3000, accuracy: 0.983, loss_score: 0.102, lr: 0.047170256323172864\n",
      "epoch: 3025, accuracy: 0.983, loss_score: 0.101, lr: 0.047148016482946566\n",
      "epoch: 3050, accuracy: 0.983, loss_score: 0.100, lr: 0.04712579760412445\n",
      "epoch: 3075, accuracy: 0.983, loss_score: 0.099, lr: 0.0471035996570858\n",
      "epoch: 3100, accuracy: 0.983, loss_score: 0.098, lr: 0.04708142261226566\n",
      "epoch: 3125, accuracy: 0.983, loss_score: 0.098, lr: 0.047059266440154734\n",
      "epoch: 3150, accuracy: 0.983, loss_score: 0.097, lr: 0.04703713111129926\n",
      "epoch: 3175, accuracy: 0.983, loss_score: 0.096, lr: 0.04701501659630086\n",
      "epoch: 3200, accuracy: 0.983, loss_score: 0.095, lr: 0.04699292286581641\n",
      "epoch: 3225, accuracy: 0.983, loss_score: 0.094, lr: 0.04697084989055793\n",
      "epoch: 3250, accuracy: 0.983, loss_score: 0.094, lr: 0.0469487976412924\n",
      "epoch: 3275, accuracy: 0.983, loss_score: 0.093, lr: 0.046926766088841755\n",
      "epoch: 3300, accuracy: 0.983, loss_score: 0.092, lr: 0.04690475520408259\n",
      "epoch: 3325, accuracy: 0.983, loss_score: 0.092, lr: 0.04688276495794616\n",
      "epoch: 3350, accuracy: 0.983, loss_score: 0.091, lr: 0.046860795321418194\n",
      "epoch: 3375, accuracy: 0.983, loss_score: 0.090, lr: 0.04683884626553879\n",
      "epoch: 3400, accuracy: 0.983, loss_score: 0.090, lr: 0.04681691776140226\n",
      "epoch: 3425, accuracy: 0.983, loss_score: 0.089, lr: 0.04679500978015705\n",
      "epoch: 3450, accuracy: 0.983, loss_score: 0.088, lr: 0.046773122293005544\n",
      "epoch: 3475, accuracy: 0.983, loss_score: 0.088, lr: 0.04675125527120403\n",
      "epoch: 3500, accuracy: 0.983, loss_score: 0.087, lr: 0.046729408686062485\n",
      "epoch: 3525, accuracy: 0.983, loss_score: 0.087, lr: 0.04670758250894451\n",
      "epoch: 3550, accuracy: 0.983, loss_score: 0.086, lr: 0.04668577671126714\n",
      "epoch: 3575, accuracy: 0.983, loss_score: 0.085, lr: 0.04666399126450083\n",
      "epoch: 3600, accuracy: 0.983, loss_score: 0.085, lr: 0.04664222614016922\n",
      "epoch: 3625, accuracy: 0.983, loss_score: 0.084, lr: 0.04662048130984905\n",
      "epoch: 3650, accuracy: 0.983, loss_score: 0.084, lr: 0.04659875674517005\n",
      "epoch: 3675, accuracy: 0.983, loss_score: 0.083, lr: 0.04657705241781479\n",
      "epoch: 3700, accuracy: 0.983, loss_score: 0.083, lr: 0.04655536829951862\n",
      "epoch: 3725, accuracy: 0.983, loss_score: 0.082, lr: 0.04653370436206945\n",
      "epoch: 3750, accuracy: 0.983, loss_score: 0.082, lr: 0.046512060577307696\n",
      "epoch: 3775, accuracy: 0.983, loss_score: 0.081, lr: 0.04649043691712615\n",
      "epoch: 3800, accuracy: 0.983, loss_score: 0.081, lr: 0.04646883335346983\n",
      "epoch: 3825, accuracy: 0.983, loss_score: 0.080, lr: 0.0464472498583359\n",
      "epoch: 3850, accuracy: 0.983, loss_score: 0.080, lr: 0.04642568640377349\n",
      "epoch: 3875, accuracy: 0.983, loss_score: 0.079, lr: 0.04640414296188364\n",
      "epoch: 3900, accuracy: 0.983, loss_score: 0.079, lr: 0.04638261950481916\n",
      "epoch: 3925, accuracy: 0.983, loss_score: 0.078, lr: 0.04636111600478447\n",
      "epoch: 3950, accuracy: 0.983, loss_score: 0.078, lr: 0.04633963243403553\n",
      "epoch: 3975, accuracy: 0.983, loss_score: 0.078, lr: 0.04631816876487971\n",
      "epoch: 4000, accuracy: 0.983, loss_score: 0.077, lr: 0.04629672496967565\n",
      "epoch: 4025, accuracy: 0.983, loss_score: 0.077, lr: 0.046275301020833146\n",
      "epoch: 4050, accuracy: 0.983, loss_score: 0.076, lr: 0.04625389689081306\n",
      "epoch: 4075, accuracy: 0.983, loss_score: 0.076, lr: 0.04623251255212715\n",
      "epoch: 4100, accuracy: 0.983, loss_score: 0.075, lr: 0.04621114797733805\n",
      "epoch: 4125, accuracy: 0.983, loss_score: 0.075, lr: 0.04618980313905902\n",
      "epoch: 4150, accuracy: 0.983, loss_score: 0.075, lr: 0.04616847800995392\n",
      "epoch: 4175, accuracy: 0.983, loss_score: 0.074, lr: 0.04614717256273708\n",
      "epoch: 4200, accuracy: 0.983, loss_score: 0.074, lr: 0.04612588677017316\n",
      "epoch: 4225, accuracy: 0.983, loss_score: 0.074, lr: 0.04610462060507704\n",
      "epoch: 4250, accuracy: 0.983, loss_score: 0.073, lr: 0.04608337404031374\n",
      "epoch: 4275, accuracy: 0.983, loss_score: 0.073, lr: 0.04606214704879824\n",
      "epoch: 4300, accuracy: 0.983, loss_score: 0.072, lr: 0.04604093960349543\n",
      "epoch: 4325, accuracy: 0.983, loss_score: 0.072, lr: 0.04601975167741995\n",
      "epoch: 4350, accuracy: 0.983, loss_score: 0.072, lr: 0.04599858324363609\n",
      "epoch: 4375, accuracy: 0.983, loss_score: 0.071, lr: 0.0459774342752577\n",
      "epoch: 4400, accuracy: 0.983, loss_score: 0.071, lr: 0.04595630474544803\n",
      "epoch: 4425, accuracy: 0.983, loss_score: 0.071, lr: 0.04593519462741964\n",
      "epoch: 4450, accuracy: 0.983, loss_score: 0.070, lr: 0.045914103894434295\n",
      "epoch: 4475, accuracy: 0.983, loss_score: 0.070, lr: 0.04589303251980284\n",
      "epoch: 4500, accuracy: 0.983, loss_score: 0.070, lr: 0.045871980476885114\n",
      "epoch: 4525, accuracy: 0.983, loss_score: 0.069, lr: 0.04585094773908977\n",
      "epoch: 4550, accuracy: 0.983, loss_score: 0.069, lr: 0.04582993427987425\n",
      "epoch: 4575, accuracy: 0.983, loss_score: 0.069, lr: 0.045808940072744594\n",
      "epoch: 4600, accuracy: 0.983, loss_score: 0.068, lr: 0.04578796509125541\n",
      "epoch: 4625, accuracy: 0.983, loss_score: 0.068, lr: 0.0457670093090097\n",
      "epoch: 4650, accuracy: 0.983, loss_score: 0.068, lr: 0.045746072699658746\n",
      "epoch: 4675, accuracy: 0.983, loss_score: 0.068, lr: 0.04572515523690203\n",
      "epoch: 4700, accuracy: 0.983, loss_score: 0.067, lr: 0.04570425689448715\n",
      "epoch: 4725, accuracy: 0.983, loss_score: 0.067, lr: 0.04568337764620965\n",
      "epoch: 4750, accuracy: 0.983, loss_score: 0.067, lr: 0.04566251746591293\n",
      "epoch: 4775, accuracy: 0.983, loss_score: 0.066, lr: 0.045641676327488154\n",
      "epoch: 4800, accuracy: 0.983, loss_score: 0.066, lr: 0.045620854204874134\n",
      "epoch: 4825, accuracy: 0.983, loss_score: 0.066, lr: 0.0456000510720572\n",
      "epoch: 4850, accuracy: 0.983, loss_score: 0.066, lr: 0.04557926690307114\n",
      "epoch: 4875, accuracy: 0.983, loss_score: 0.065, lr: 0.045558501671997015\n",
      "epoch: 4900, accuracy: 0.983, loss_score: 0.065, lr: 0.045537755352963144\n",
      "epoch: 4925, accuracy: 0.983, loss_score: 0.065, lr: 0.04551702792014493\n",
      "epoch: 4950, accuracy: 0.983, loss_score: 0.065, lr: 0.04549631934776477\n",
      "epoch: 4975, accuracy: 0.983, loss_score: 0.064, lr: 0.04547562961009195\n",
      "epoch: 5000, accuracy: 0.983, loss_score: 0.064, lr: 0.04545495868144256\n"
     ]
    }
   ],
   "source": [
    "model = Model()\n",
    "\n",
    "model.add(Linear(4, 4))\n",
    "model.add(Activation_Sigmoid())\n",
    "model.add(Linear(4, 3))\n",
    "\n",
    "model.set(\n",
    "    loss=Activation_Softmax_Loss_CategoricalCrossentropy(),\n",
    "    optimizer=SGD(learning_rate=0.05, decay=1e-5),\n",
    ")\n",
    "\n",
    "model.train(X_train, y_train, epochs=5000)"
   ]
  },
  {
   "cell_type": "code",
   "execution_count": 272,
   "id": "d1cb0341-3035-453c-ad45-13f4aef24ba8",
   "metadata": {},
   "outputs": [],
   "source": [
    "y_pred = model.predict(X_test)"
   ]
  },
  {
   "cell_type": "code",
   "execution_count": 273,
   "id": "47b6884b-5f97-4f91-b145-d3660c33b54e",
   "metadata": {},
   "outputs": [
    {
     "data": {
      "text/plain": [
       "0.9333333333333333"
      ]
     },
     "execution_count": 273,
     "metadata": {},
     "output_type": "execute_result"
    }
   ],
   "source": [
    "model.accuracy(y_test, y_pred)"
   ]
  },
  {
   "cell_type": "markdown",
   "id": "7a4ff753-9b81-4ac6-b46d-6eead9649364",
   "metadata": {},
   "source": [
    "# 3. Простейший многослойный перцептрон с датасетом MNIST"
   ]
  },
  {
   "cell_type": "code",
   "execution_count": 423,
   "id": "7513c803-ba0b-43ff-b492-8f1fce79b9ad",
   "metadata": {},
   "outputs": [],
   "source": [
    "import struct\n",
    "def load_idx(filename):\n",
    "    with open(filename, 'rb') as f:\n",
    "        zero, data_type, dims = struct.unpack('>HBB', f.read(4))\n",
    "        shape = tuple(struct.unpack('>I', f.read(4))[0] for d in range(dims))\n",
    "        return np.frombuffer(f.read(), dtype=np.uint8).reshape(shape)"
   ]
  },
  {
   "cell_type": "code",
   "execution_count": 424,
   "id": "9a0c8893-3ad3-4b19-89fa-2a4016787da0",
   "metadata": {},
   "outputs": [],
   "source": [
    "train_images_path = 'datasets/train-images.idx3-ubyte'\n",
    "train_labels_path = 'datasets/train-labels.idx1-ubyte'\n",
    "test_images_path = 'datasets/t10k-images.idx3-ubyte'\n",
    "test_labels_path = 'datasets/t10k-labels.idx1-ubyte'\n",
    "\n",
    "X_train = load_idx(train_images_path)\n",
    "y_train = load_idx(train_labels_path)\n",
    "X_test = load_idx(test_images_path)\n",
    "y_test = load_idx(test_labels_path)"
   ]
  },
  {
   "cell_type": "code",
   "execution_count": 425,
   "id": "0aa9491d-c253-4825-bac6-c44cbb97d398",
   "metadata": {},
   "outputs": [
    {
     "data": {
      "text/plain": [
       "((60000, 28, 28), (60000,), (10000, 28, 28), (10000,))"
      ]
     },
     "execution_count": 425,
     "metadata": {},
     "output_type": "execute_result"
    }
   ],
   "source": [
    "X_train.shape, y_train.shape, X_test.shape, y_test.shape"
   ]
  },
  {
   "cell_type": "code",
   "execution_count": 426,
   "id": "d7af27df-f4f6-4f50-90bc-f7d97baab7f2",
   "metadata": {},
   "outputs": [
    {
     "data": {
      "image/png": "[encoded data removed]",
      "text/plain": [
       "<Figure size 1500x1000 with 32 Axes>"
      ]
     },
     "metadata": {},
     "output_type": "display_data"
    }
   ],
   "source": [
    "# Смотрим датасет\n",
    "\n",
    "rows = 4\n",
    "cols = 8\n",
    "fig, ax = plt.subplots(rows, cols, figsize=(15, 10))\n",
    "\n",
    "num = 0\n",
    "for i in range(rows):\n",
    "    for j in range(cols):\n",
    "        ax[i][j].imshow(X_train[1000 * num], cmap = 'gray')\n",
    "        ax[i][j].set_title(y_train[1000 * num])\n",
    "        ax[i][j].set_xticks([])\n",
    "        ax[i][j].set_yticks([])\n",
    "        num += 1"
   ]
  },
  {
   "cell_type": "code",
   "execution_count": 427,
   "id": "5ab01843-0d83-4e5d-8f82-4533b92a9eb7",
   "metadata": {},
   "outputs": [
    {
     "data": {
      "text/plain": [
       "((60000, 784), array([5, 0, 4, ..., 5, 6, 8], dtype=uint8))"
      ]
     },
     "execution_count": 427,
     "metadata": {},
     "output_type": "execute_result"
    }
   ],
   "source": [
    "# Распрямляем массивы \n",
    "\n",
    "X_train = [image.flatten() for image in X_train]\n",
    "X_test = [image.flatten() for image in X_test]\n",
    "\n",
    "X_train = np.array(X_train)\n",
    "y_train = np.array(y_train)\n",
    "X_test = np.array(X_test)\n",
    "y_test = np.array(y_test)\n",
    "target_names=list(map(str, np.unique(y_test)))\n",
    "X_train.shape, y_train"
   ]
  },
  {
   "cell_type": "code",
   "execution_count": 428,
   "id": "342e24be-45bb-44b7-8af1-a707c8ced12c",
   "metadata": {},
   "outputs": [],
   "source": [
    "pca = PCA(n_components=100).fit(X_train)"
   ]
  },
  {
   "cell_type": "code",
   "execution_count": 429,
   "id": "98e11d03-9dab-4d78-9d24-eeaec0fadbfe",
   "metadata": {},
   "outputs": [],
   "source": [
    "X_train_pca = pca.transform(X_train)\n",
    "X_test_pca = pca.transform(X_test)"
   ]
  },
  {
   "cell_type": "code",
   "execution_count": 430,
   "id": "5cef7bad-f4f0-455a-99b2-04fd85bea924",
   "metadata": {},
   "outputs": [
    {
     "data": {
      "text/plain": [
       "((60000, 100), (60000,), (10000, 100))"
      ]
     },
     "execution_count": 430,
     "metadata": {},
     "output_type": "execute_result"
    }
   ],
   "source": [
    "X_train_pca.shape, y_train.shape, X_test_pca.shape"
   ]
  },
  {
   "cell_type": "code",
   "execution_count": 431,
   "id": "cdfe029e-a729-4c62-8445-b48210d69d13",
   "metadata": {},
   "outputs": [],
   "source": [
    "D_out = len(np.unique(y_train))\n",
    "D_in = X_train_pca.shape[1]"
   ]
  },
  {
   "cell_type": "code",
   "execution_count": 442,
   "id": "b24042ca-b9e7-4861-9686-a3ed6bec5e3c",
   "metadata": {},
   "outputs": [
    {
     "name": "stdout",
     "output_type": "stream",
     "text": [
      "epoch: 0, accuracy: 0.070, loss_score: 8.062, lr: 100.0\n",
      "epoch: 25, accuracy: 0.811, loss_score: 2.140, lr: 16.94915254237288\n",
      "epoch: 50, accuracy: 0.832, loss_score: 1.818, lr: 9.174311926605503\n",
      "epoch: 75, accuracy: 0.839, loss_score: 1.685, lr: 6.289308176100629\n",
      "epoch: 100, accuracy: 0.842, loss_score: 1.619, lr: 4.78468899521531\n",
      "CPU times: total: 2min 19s\n",
      "Wall time: 38 s\n"
     ]
    }
   ],
   "source": [
    "%%time\n",
    "model_mnist = Model()\n",
    "\n",
    "model_mnist.add(Linear(D_in, 50))\n",
    "model_mnist.add(Activation_Sigmoid())\n",
    "model_mnist.add(Linear(50, D_out))\n",
    "\n",
    "model_mnist.set(\n",
    "    loss=Activation_Softmax_Loss_CategoricalCrossentropy(),\n",
    "    optimizer=SGD(learning_rate=1e2, decay=1e-1),\n",
    ")\n",
    "\n",
    "model_mnist.train(X_train_pca, y_train, epochs=100)"
   ]
  },
  {
   "cell_type": "code",
   "execution_count": 443,
   "id": "a1dece56-8e9d-42a8-9bba-91826c3649dd",
   "metadata": {},
   "outputs": [],
   "source": [
    "y_pred = model_mnist.predict(X_test_pca)"
   ]
  },
  {
   "cell_type": "code",
   "execution_count": 444,
   "id": "e4e5730d-6982-4e90-890d-ecc2115ea2ed",
   "metadata": {},
   "outputs": [
    {
     "data": {
      "text/plain": [
       "0.8397"
      ]
     },
     "execution_count": 444,
     "metadata": {},
     "output_type": "execute_result"
    }
   ],
   "source": [
    "model_mnist.accuracy(y_test, y_pred)"
   ]
  },
  {
   "cell_type": "markdown",
   "id": "006cdcf5-f3f2-4959-91e3-967a9bb6e6c9",
   "metadata": {},
   "source": [
    "# 4. Pytorch"
   ]
  },
  {
   "cell_type": "code",
   "execution_count": 383,
   "id": "98e3ba73-0c75-46bd-af32-3fa71d2bfd02",
   "metadata": {},
   "outputs": [],
   "source": [
    "mean = X_train_pca.mean()\n",
    "std = X_train_pca.std()\n",
    "\n",
    "x_train_norm = ((X_train_pca - mean) / std)\n",
    "x_test_norm = ((X_test_pca - mean) / std)"
   ]
  },
  {
   "cell_type": "code",
   "execution_count": 384,
   "id": "0daa7c74-8e95-447a-bc9b-82274eb089af",
   "metadata": {},
   "outputs": [
    {
     "data": {
      "text/plain": [
       "((60000, 100), (10000, 100))"
      ]
     },
     "execution_count": 384,
     "metadata": {},
     "output_type": "execute_result"
    }
   ],
   "source": [
    "x_train_norm.shape, x_test_norm.shape"
   ]
  },
  {
   "cell_type": "code",
   "execution_count": 389,
   "id": "a52fd836-533e-4e0f-83dc-effd8a553fa5",
   "metadata": {},
   "outputs": [
    {
     "data": {
      "text/plain": [
       "(60000, 100)"
      ]
     },
     "execution_count": 389,
     "metadata": {},
     "output_type": "execute_result"
    }
   ],
   "source": [
    "x_train_norm.shape"
   ]
  },
  {
   "cell_type": "code",
   "execution_count": 390,
   "id": "4a5a8fb1-b831-4a83-9c84-10785dd266f9",
   "metadata": {},
   "outputs": [],
   "source": [
    "def batch_train(model, optimizer, x, y):\n",
    "    y_pred = model(x)\n",
    "    loss = loss_fn(y_pred, y)\n",
    "    model.zero_grad()\n",
    "    loss.backward()\n",
    "    optimizer.step()\n",
    "    return (loss.item())"
   ]
  },
  {
   "cell_type": "code",
   "execution_count": 391,
   "id": "5b337d65-6911-44fa-b058-e649ef31be22",
   "metadata": {},
   "outputs": [],
   "source": [
    "def init_weights(m):\n",
    "    if type(m) == torch.nn.Linear:\n",
    "        torch.nn.init.kaiming_normal_(m.weight)\n",
    "        m.bias.data.fill_(0.01)"
   ]
  },
  {
   "cell_type": "code",
   "execution_count": 392,
   "id": "f13ab0ce-6315-4ebf-b028-cb524b02f57f",
   "metadata": {},
   "outputs": [],
   "source": [
    "model = torch.nn.Sequential(\n",
    "    torch.nn.Linear(D_in, 20),\n",
    "    torch.nn.Sigmoid(),\n",
    "    torch.nn.Linear(20, D_out),\n",
    "    torch.nn.Softmax(dim=1)\n",
    ")"
   ]
  },
  {
   "cell_type": "code",
   "execution_count": 393,
   "id": "0bb2cb2b-889f-4c55-acdb-de6ec229eccf",
   "metadata": {},
   "outputs": [],
   "source": [
    "model_he_SGD = model.apply(init_weights)"
   ]
  },
  {
   "cell_type": "code",
   "execution_count": 394,
   "id": "f2ab61c0-5dc4-4bb5-a1ba-71ecc8bb6903",
   "metadata": {},
   "outputs": [],
   "source": [
    "optimizerSGD = torch.optim.SGD(model_he_SGD.parameters(), lr=0.01, momentum=0.0)"
   ]
  },
  {
   "cell_type": "code",
   "execution_count": 400,
   "id": "09eb51ff-fcd3-4906-ac10-2767fde854c7",
   "metadata": {},
   "outputs": [
    {
     "name": "stderr",
     "output_type": "stream",
     "text": [
      "  0%|                                                                                            | 0/1 [00:00<?, ?it/s]\n"
     ]
    },
    {
     "ename": "IndexError",
     "evalue": "index 82 is out of bounds for axis 0 with size 80",
     "output_type": "error",
     "traceback": [
      "\u001b[1;31m---------------------------------------------------------------------------\u001b[0m",
      "\u001b[1;31mIndexError\u001b[0m                                Traceback (most recent call last)",
      "Cell \u001b[1;32mIn[400], line 15\u001b[0m\n\u001b[0;32m     13\u001b[0m \u001b[38;5;28;01mfor\u001b[39;00m i \u001b[38;5;129;01min\u001b[39;00m tqdm(\u001b[38;5;28mrange\u001b[39m(\u001b[38;5;241m0\u001b[39m,x_train_norm\u001b[38;5;241m.\u001b[39mshape[\u001b[38;5;241m1\u001b[39m], batch_size)):\n\u001b[0;32m     14\u001b[0m     indices \u001b[38;5;241m=\u001b[39m permutation[i:i\u001b[38;5;241m+\u001b[39mbatch_size]\n\u001b[1;32m---> 15\u001b[0m     batch_x, batch_y \u001b[38;5;241m=\u001b[39m x_train_norm[indices], y_train[indices]\n\u001b[0;32m     16\u001b[0m     batch_train(model_he_SGD, optimizerSGD, batch_x, batch_y)\n\u001b[0;32m     17\u001b[0m     batch_train(model_he_Momentum, optimizerMomentum, batch_x, batch_y)\n",
      "\u001b[1;31mIndexError\u001b[0m: index 82 is out of bounds for axis 0 with size 80"
     ]
    }
   ],
   "source": [
    "n_epochs = 10\n",
    "batch_size = 1000\n",
    "\n",
    "\n",
    "loss_test_sgd = []\n",
    "\n",
    "for epoch in range(n_epochs):\n",
    "\n",
    "    permutation = torch.randperm(x_train_norm.shape[1])\n",
    "\n",
    "    for i in tqdm(range(0,x_train_norm.shape[1], batch_size)):\n",
    "        indices = permutation[i:i+batch_size]\n",
    "        batch_x, batch_y = x_train_norm[indices], y_train[indices]\n",
    "        batch_train(model_he_SGD, optimizerSGD, batch_x, batch_y)\n",
    "        batch_train(model_he_Momentum, optimizerMomentum, batch_x, batch_y)\n",
    "        batch_train(model_he_Adam, optimizerAdam, batch_x, batch_y)\n",
    "\n",
    "    y_test_pred = model_he_SGD(x_test_norm)\n",
    "    loss_train = loss_fn(y_test_pred, y_test).detach().numpy()\n",
    "    print(f' SGD Epoch: {epoch} loss {loss_train}')\n",
    "    loss_test_sgd.append(loss_train)"
   ]
  },
  {
   "cell_type": "code",
   "execution_count": null,
   "id": "82e90caa-bdf6-41e9-97f7-3b420818be2d",
   "metadata": {},
   "outputs": [],
   "source": [
    "fig = plt.figure(figsize=(16, 4))\n",
    "\n",
    "plt.plot(loss_test_sgd, label='SGD')\n",
    "plt.plot(loss_test_sgd_moment, label='SGD with momentum')\n",
    "plt.plot(loss_test_adam, label='Adam')\n",
    "\n",
    "plt.legend()\n",
    "plt.show()"
   ]
  },
  {
   "cell_type": "code",
   "execution_count": 418,
   "id": "2d0b331f-b5fd-4210-9108-3863a312f5e9",
   "metadata": {},
   "outputs": [],
   "source": [
    "model = torch.nn.Sequential()\n",
    "model.add_module(\"first\", torch.nn.Linear(D_in, 20))\n",
    "model.add_module(\"second\", torch.nn.Sigmoid())\n",
    "model.add_module(\"third\", torch.nn.Linear(20, D_out))\n",
    "\n",
    "opt = torch.optim.SGD(model.parameters(), lr=1e-3)"
   ]
  },
  {
   "cell_type": "code",
   "execution_count": 420,
   "id": "8d20699d-d6e9-442e-8a95-5e4433c5d5d3",
   "metadata": {},
   "outputs": [
    {
     "name": "stdout",
     "output_type": "stream",
     "text": [
      "step #0 | mean loss = 133649.188\n",
      "step #10 | mean loss = 395206.469\n",
      "step #20 | mean loss = 541582.000\n",
      "step #30 | mean loss = 536236.000\n",
      "step #40 | mean loss = 530669.312\n",
      "step #50 | mean loss = 510453.250\n",
      "step #60 | mean loss = 526343.375\n",
      "step #70 | mean loss = 512227.062\n",
      "step #80 | mean loss = 525175.938\n",
      "step #90 | mean loss = 579296.312\n",
      "step #100 | mean loss = 537343.625\n",
      "step #110 | mean loss = 515835.344\n",
      "step #120 | mean loss = 533937.000\n",
      "step #130 | mean loss = 510289.906\n",
      "step #140 | mean loss = 571067.438\n",
      "step #150 | mean loss = 517432.406\n",
      "step #160 | mean loss = 500114.812\n",
      "step #170 | mean loss = 528222.375\n",
      "step #180 | mean loss = 553065.750\n",
      "step #190 | mean loss = 507920.656\n",
      "step #200 | mean loss = 489506.812\n",
      "step #210 | mean loss = 464917.562\n",
      "step #220 | mean loss = 519886.406\n",
      "step #230 | mean loss = 475799.938\n",
      "step #240 | mean loss = 492875.344\n",
      "step #250 | mean loss = 541615.312\n",
      "step #260 | mean loss = 505025.344\n",
      "step #270 | mean loss = 525178.125\n",
      "step #280 | mean loss = 542968.625\n",
      "step #290 | mean loss = 510095.656\n",
      "step #300 | mean loss = 527429.125\n",
      "step #310 | mean loss = 547124.188\n",
      "step #320 | mean loss = 489430.406\n",
      "step #330 | mean loss = 568346.812\n",
      "step #340 | mean loss = 469165.750\n",
      "step #350 | mean loss = 525478.625\n",
      "step #360 | mean loss = 527569.250\n",
      "step #370 | mean loss = 509525.250\n",
      "step #380 | mean loss = 540674.500\n",
      "step #390 | mean loss = 531893.875\n",
      "step #400 | mean loss = 478325.438\n",
      "step #410 | mean loss = 493152.406\n",
      "step #420 | mean loss = 483872.156\n",
      "step #430 | mean loss = 533184.500\n",
      "step #440 | mean loss = 526046.000\n",
      "step #450 | mean loss = 502449.812\n",
      "step #460 | mean loss = 521487.906\n",
      "step #470 | mean loss = 536257.625\n",
      "step #480 | mean loss = 475500.938\n",
      "step #490 | mean loss = 494895.906\n",
      "step #500 | mean loss = 527854.375\n",
      "step #510 | mean loss = 543838.875\n",
      "step #520 | mean loss = 531027.250\n",
      "step #530 | mean loss = 524905.500\n",
      "step #540 | mean loss = 566461.688\n",
      "step #550 | mean loss = 532724.000\n",
      "step #560 | mean loss = 543205.500\n",
      "step #570 | mean loss = 563143.875\n",
      "step #580 | mean loss = 515536.344\n",
      "step #590 | mean loss = 515697.562\n",
      "step #600 | mean loss = 550279.062\n",
      "step #610 | mean loss = 543881.188\n",
      "step #620 | mean loss = 475723.438\n",
      "step #630 | mean loss = 530081.875\n",
      "step #640 | mean loss = 508346.188\n",
      "step #650 | mean loss = 538684.562\n",
      "step #660 | mean loss = 479462.844\n",
      "step #670 | mean loss = 517128.594\n",
      "step #680 | mean loss = 543394.562\n",
      "step #690 | mean loss = 509208.500\n",
      "step #700 | mean loss = 537996.562\n",
      "step #710 | mean loss = 548515.875\n",
      "step #720 | mean loss = 491273.438\n",
      "step #730 | mean loss = 565460.312\n",
      "step #740 | mean loss = 511449.938\n",
      "step #750 | mean loss = 519255.562\n",
      "step #760 | mean loss = 514508.312\n",
      "step #770 | mean loss = 531837.375\n",
      "step #780 | mean loss = 527449.875\n",
      "step #790 | mean loss = 468249.500\n",
      "step #800 | mean loss = 463711.062\n",
      "step #810 | mean loss = 541889.000\n",
      "step #820 | mean loss = 524780.875\n",
      "step #830 | mean loss = 502742.312\n",
      "step #840 | mean loss = 541154.375\n",
      "step #850 | mean loss = 520590.312\n",
      "step #860 | mean loss = 529786.688\n",
      "step #870 | mean loss = 582904.688\n",
      "step #880 | mean loss = 559404.125\n",
      "step #890 | mean loss = 504771.688\n",
      "step #900 | mean loss = 540760.000\n",
      "step #910 | mean loss = 529013.625\n",
      "step #920 | mean loss = 535606.438\n",
      "step #930 | mean loss = 529731.188\n",
      "step #940 | mean loss = 572142.875\n",
      "step #950 | mean loss = 485553.562\n",
      "step #960 | mean loss = 536158.312\n",
      "step #970 | mean loss = 543255.500\n",
      "step #980 | mean loss = 514303.188\n",
      "step #990 | mean loss = 496386.594\n"
     ]
    }
   ],
   "source": [
    "history = []\n",
    "epochs = 1000\n",
    "\n",
    "for i in range(epochs):\n",
    "    ix = np.random.randint(0, len(X_train), 10000)\n",
    "    x_batch = torch.tensor(X_train_pca[ix], dtype=torch.float32)\n",
    "    y_batch = torch.tensor(y_train[ix], dtype=torch.float32)\n",
    "\n",
    "    y_predicted = model(x_batch)[:, 0]\n",
    "    CE = torch.nn.CrossEntropyLoss()\n",
    "    loss = CE(y_predicted, y_batch)\n",
    "    \n",
    "    loss.backward()\n",
    "    opt.step()\n",
    "    opt.zero_grad()\n",
    "\n",
    "    history.append(loss.data.numpy())\n",
    "\n",
    "    if i % 10 == 0:\n",
    "        print(\"step #%i | mean loss = %.3f\" % (i, np.mean(history[-10:])))"
   ]
  },
  {
   "cell_type": "code",
   "execution_count": null,
   "id": "2c4ca7cb-d25c-4c9b-9e63-c60fee79093f",
   "metadata": {},
   "outputs": [],
   "source": []
  },
  {
   "cell_type": "code",
   "execution_count": null,
   "id": "2bfffa8f-dba2-43d6-9c7a-3c33095cdc73",
   "metadata": {},
   "outputs": [],
   "source": []
  }
 ],
 "metadata": {
  "kernelspec": {
   "display_name": "Python 3 (ipykernel)",
   "language": "python",
   "name": "python3"
  },
  "language_info": {
   "codemirror_mode": {
    "name": "ipython",
    "version": 3
   },
   "file_extension": ".py",
   "mimetype": "text/x-python",
   "name": "python",
   "nbconvert_exporter": "python",
   "pygments_lexer": "ipython3",
   "version": "3.12.4"
  }
 },
 "nbformat": 4,
 "nbformat_minor": 5
}
