{
 "cells": [
  {
   "cell_type": "code",
   "execution_count": 1,
   "metadata": {
    "id": "EGA_4Asn-ZQW"
   },
   "outputs": [],
   "source": [
    "import torch\n",
    "from torch import nn\n",
    "from torch.utils.data import DataLoader\n",
    "from torchvision import datasets\n",
    "from torchvision.transforms import ToTensor, transforms\n",
    "from torchvision.datasets import ImageFolder\n",
    "import numpy as np\n",
    "import matplotlib.pyplot as plt\n",
    "import torch, gc"
   ]
  },
  {
   "cell_type": "code",
   "execution_count": 2,
   "metadata": {
    "colab": {
     "base_uri": "https://localhost:8080/"
    },
    "id": "dgFv2RMqBaJ4",
    "outputId": "93bcbc71-cade-414b-c52c-89de85a28bbc"
   },
   "outputs": [
    {
     "name": "stdout",
     "output_type": "stream",
     "text": [
      "Using cuda device\n"
     ]
    }
   ],
   "source": [
    "device = (\n",
    "    \"cuda\"\n",
    "    if torch.cuda.is_available()\n",
    "    else \"mps\"\n",
    "    if torch.backends.mps.is_available()\n",
    "    else \"cpu\"\n",
    ")\n",
    "print(f\"Using {device} device\")"
   ]
  },
  {
   "cell_type": "code",
   "execution_count": 3,
   "metadata": {
    "id": "-B9TP_6bBcBE"
   },
   "outputs": [],
   "source": [
    "batch_size = 30"
   ]
  },
  {
   "cell_type": "code",
   "execution_count": 4,
   "metadata": {
    "id": "MU-xYqlsBdo9"
   },
   "outputs": [],
   "source": [
    "train_dataset = datasets.GTSRB(root='./data',\n",
    "                                split=\"train\",\n",
    "                                transform = transforms.Compose([\n",
    "                                    transforms.Resize((227, 227)),\n",
    "                                    transforms.ToTensor(),\n",
    "                                    transforms.Normalize(mean=(1.,), std = (0.5 ))]),\n",
    "                                download = True)\n",
    "test_dataset = datasets.GTSRB(root='./data',\n",
    "                                split=\"test\",\n",
    "                                transform = transforms.Compose([\n",
    "                                    transforms.Resize((227, 227)),\n",
    "                                    transforms.ToTensor(),\n",
    "                                    transforms.Normalize(mean=(1.,), std = (0.5 ))]),\n",
    "                                download = True)\n",
    "\n",
    "train_loader = DataLoader(dataset = train_dataset,\n",
    "                          batch_size = batch_size,\n",
    "                          shuffle = True)\n",
    "\n",
    "test_loader = DataLoader(dataset = test_dataset,\n",
    "                          batch_size = batch_size,\n",
    "                          shuffle = True)"
   ]
  },
  {
   "cell_type": "code",
   "execution_count": 5,
   "metadata": {},
   "outputs": [
    {
     "data": {
      "text/plain": [
       "26640"
      ]
     },
     "execution_count": 5,
     "metadata": {},
     "output_type": "execute_result"
    }
   ],
   "source": [
    "len(train_dataset)"
   ]
  },
  {
   "cell_type": "code",
   "execution_count": 6,
   "metadata": {},
   "outputs": [
    {
     "data": {
      "text/plain": [
       "12630"
      ]
     },
     "execution_count": 6,
     "metadata": {},
     "output_type": "execute_result"
    }
   ],
   "source": [
    "len(test_dataset)"
   ]
  },
  {
   "cell_type": "code",
   "execution_count": 7,
   "metadata": {
    "id": "as_XlRtvBm4W"
   },
   "outputs": [],
   "source": [
    "class AlexNet(nn.Module):\n",
    "        def __init__(self, num_classes=10):\n",
    "            super(AlexNet, self).__init__()\n",
    "            self.layer1 = nn.Sequential(\n",
    "                nn.Conv2d(3, 96, kernel_size=11, stride=4, padding=0),\n",
    "                nn.BatchNorm2d(96),\n",
    "                nn.ReLU(),\n",
    "                nn.MaxPool2d(kernel_size = 3, stride = 2))\n",
    "            self.layer2 = nn.Sequential(\n",
    "                nn.Conv2d(96, 256, kernel_size=5, stride=1, padding=2),\n",
    "                nn.BatchNorm2d(256),\n",
    "                nn.ReLU(),\n",
    "                nn.MaxPool2d(kernel_size = 3, stride = 2))\n",
    "            self.layer3 = nn.Sequential(\n",
    "                nn.Conv2d(256, 384, kernel_size=3, stride=1, padding=1),\n",
    "                nn.BatchNorm2d(384),\n",
    "                nn.ReLU())\n",
    "            self.layer4 = nn.Sequential(\n",
    "                nn.Conv2d(384, 384, kernel_size=3, stride=1, padding=1),\n",
    "                nn.BatchNorm2d(384),\n",
    "                nn.ReLU())\n",
    "            self.layer5 = nn.Sequential(\n",
    "                nn.Conv2d(384, 256, kernel_size=3, stride=1, padding=1),\n",
    "                nn.BatchNorm2d(256),\n",
    "                nn.ReLU(),\n",
    "                nn.MaxPool2d(kernel_size = 3, stride = 2))\n",
    "            self.fc = nn.Sequential(\n",
    "                nn.Dropout(0.5),\n",
    "                nn.Linear(9216, 4096),\n",
    "                nn.ReLU())\n",
    "            self.fc1 = nn.Sequential(\n",
    "                nn.Dropout(0.5),\n",
    "                nn.Linear(4096, 4096),\n",
    "                nn.ReLU())\n",
    "            self.fc2= nn.Sequential(\n",
    "                nn.Linear(4096, num_classes))\n",
    "\n",
    "        def forward(self, x):\n",
    "            out = self.layer1(x)\n",
    "            out = self.layer2(out)\n",
    "            out = self.layer3(out)\n",
    "            out = self.layer4(out)\n",
    "            out = self.layer5(out)\n",
    "            out = out.reshape(out.size(0), -1)\n",
    "            out = self.fc(out)\n",
    "            out = self.fc1(out)\n",
    "            out = self.fc2(out)\n",
    "            return out"
   ]
  },
  {
   "cell_type": "code",
   "execution_count": 8,
   "metadata": {},
   "outputs": [],
   "source": [
    "gc.collect()\n",
    "torch.cuda.empty_cache()"
   ]
  },
  {
   "cell_type": "code",
   "execution_count": 19,
   "metadata": {
    "id": "2BP7FsHzBt4I"
   },
   "outputs": [],
   "source": [
    "num_classes = 43\n",
    "learning_rate = 0.001\n",
    "\n",
    "model = AlexNet(num_classes).to(device)\n",
    "\n",
    "cost = nn.CrossEntropyLoss()\n",
    "optimizer = torch.optim.SGD(model.parameters(), lr=learning_rate, weight_decay = 0.005, momentum = 0.9)\n",
    "#optimizer = torch.optim.Adam(model.parameters(), lr=learning_rate)\n",
    "\n",
    "total_step = len(train_loader)"
   ]
  },
  {
   "cell_type": "code",
   "execution_count": 20,
   "metadata": {
    "colab": {
     "base_uri": "https://localhost:8080/",
     "height": 1000
    },
    "id": "i-qXWMx8CB7l",
    "outputId": "80265901-b999-4340-a632-6dd77b9927b7"
   },
   "outputs": [
    {
     "name": "stdout",
     "output_type": "stream",
     "text": [
      "Epoch [1/25], Step [100/888], Loss: 3.2007\n",
      "Epoch [1/25], Step [200/888], Loss: 2.3182\n",
      "Epoch [1/25], Step [300/888], Loss: 1.8428\n",
      "Epoch [1/25], Step [400/888], Loss: 1.4605\n",
      "Epoch [1/25], Step [500/888], Loss: 0.9548\n",
      "Epoch [1/25], Step [600/888], Loss: 0.5810\n",
      "Epoch [1/25], Step [700/888], Loss: 0.5175\n",
      "Epoch [1/25], Step [800/888], Loss: 0.2754\n",
      "Epoch [2/25], Step [100/888], Loss: 0.2061\n",
      "Epoch [2/25], Step [200/888], Loss: 0.1662\n",
      "Epoch [2/25], Step [300/888], Loss: 0.0659\n",
      "Epoch [2/25], Step [400/888], Loss: 0.2619\n",
      "Epoch [2/25], Step [500/888], Loss: 0.0997\n",
      "Epoch [2/25], Step [600/888], Loss: 0.1392\n",
      "Epoch [2/25], Step [700/888], Loss: 0.0250\n",
      "Epoch [2/25], Step [800/888], Loss: 0.2114\n",
      "Epoch [3/25], Step [100/888], Loss: 0.0838\n",
      "Epoch [3/25], Step [200/888], Loss: 0.0726\n",
      "Epoch [3/25], Step [300/888], Loss: 0.0515\n",
      "Epoch [3/25], Step [400/888], Loss: 0.0718\n",
      "Epoch [3/25], Step [500/888], Loss: 0.0732\n",
      "Epoch [3/25], Step [600/888], Loss: 0.0264\n",
      "Epoch [3/25], Step [700/888], Loss: 0.0141\n",
      "Epoch [3/25], Step [800/888], Loss: 0.0072\n",
      "Epoch [4/25], Step [100/888], Loss: 0.0209\n",
      "Epoch [4/25], Step [200/888], Loss: 0.0101\n",
      "Epoch [4/25], Step [300/888], Loss: 0.0269\n",
      "Epoch [4/25], Step [400/888], Loss: 0.1291\n",
      "Epoch [4/25], Step [500/888], Loss: 0.0563\n",
      "Epoch [4/25], Step [600/888], Loss: 0.0275\n",
      "Epoch [4/25], Step [700/888], Loss: 0.0101\n",
      "Epoch [4/25], Step [800/888], Loss: 0.0349\n",
      "Epoch [5/25], Step [100/888], Loss: 0.0034\n",
      "Epoch [5/25], Step [200/888], Loss: 0.0075\n",
      "Epoch [5/25], Step [300/888], Loss: 0.0011\n",
      "Epoch [5/25], Step [400/888], Loss: 0.0440\n",
      "Epoch [5/25], Step [500/888], Loss: 0.0083\n",
      "Epoch [5/25], Step [600/888], Loss: 0.0016\n",
      "Epoch [5/25], Step [700/888], Loss: 0.0386\n",
      "Epoch [5/25], Step [800/888], Loss: 0.0076\n",
      "Epoch [6/25], Step [100/888], Loss: 0.0078\n",
      "Epoch [6/25], Step [200/888], Loss: 0.0164\n",
      "Epoch [6/25], Step [300/888], Loss: 0.0049\n",
      "Epoch [6/25], Step [400/888], Loss: 0.0091\n",
      "Epoch [6/25], Step [500/888], Loss: 0.0089\n",
      "Epoch [6/25], Step [600/888], Loss: 0.0016\n",
      "Epoch [6/25], Step [700/888], Loss: 0.0021\n",
      "Epoch [6/25], Step [800/888], Loss: 0.0028\n",
      "Epoch [7/25], Step [100/888], Loss: 0.0062\n",
      "Epoch [7/25], Step [200/888], Loss: 0.0380\n",
      "Epoch [7/25], Step [300/888], Loss: 0.0256\n",
      "Epoch [7/25], Step [400/888], Loss: 0.0086\n",
      "Epoch [7/25], Step [500/888], Loss: 0.0040\n",
      "Epoch [7/25], Step [600/888], Loss: 0.0096\n",
      "Epoch [7/25], Step [700/888], Loss: 0.0072\n",
      "Epoch [7/25], Step [800/888], Loss: 0.0014\n",
      "Epoch [8/25], Step [100/888], Loss: 0.0051\n",
      "Epoch [8/25], Step [200/888], Loss: 0.0080\n",
      "Epoch [8/25], Step [300/888], Loss: 0.0116\n",
      "Epoch [8/25], Step [400/888], Loss: 0.0092\n",
      "Epoch [8/25], Step [500/888], Loss: 0.0084\n",
      "Epoch [8/25], Step [600/888], Loss: 0.0082\n",
      "Epoch [8/25], Step [700/888], Loss: 0.0014\n",
      "Epoch [8/25], Step [800/888], Loss: 0.0055\n",
      "Epoch [9/25], Step [100/888], Loss: 0.0082\n",
      "Epoch [9/25], Step [200/888], Loss: 0.0361\n",
      "Epoch [9/25], Step [300/888], Loss: 0.0136\n",
      "Epoch [9/25], Step [400/888], Loss: 0.0540\n",
      "Epoch [9/25], Step [500/888], Loss: 0.0048\n",
      "Epoch [9/25], Step [600/888], Loss: 0.0326\n",
      "Epoch [9/25], Step [700/888], Loss: 0.0175\n",
      "Epoch [9/25], Step [800/888], Loss: 0.0090\n",
      "Epoch [10/25], Step [100/888], Loss: 0.0069\n",
      "Epoch [10/25], Step [200/888], Loss: 0.0077\n",
      "Epoch [10/25], Step [300/888], Loss: 0.0038\n",
      "Epoch [10/25], Step [400/888], Loss: 0.0029\n",
      "Epoch [10/25], Step [500/888], Loss: 0.0090\n",
      "Epoch [10/25], Step [600/888], Loss: 0.0032\n",
      "Epoch [10/25], Step [700/888], Loss: 0.0096\n",
      "Epoch [10/25], Step [800/888], Loss: 0.0066\n",
      "Epoch [11/25], Step [100/888], Loss: 0.0044\n",
      "Epoch [11/25], Step [200/888], Loss: 0.0066\n",
      "Epoch [11/25], Step [300/888], Loss: 0.0077\n",
      "Epoch [11/25], Step [400/888], Loss: 0.0130\n",
      "Epoch [11/25], Step [500/888], Loss: 0.0065\n",
      "Epoch [11/25], Step [600/888], Loss: 0.0061\n",
      "Epoch [11/25], Step [700/888], Loss: 0.0173\n",
      "Epoch [11/25], Step [800/888], Loss: 0.0071\n",
      "Epoch [12/25], Step [100/888], Loss: 0.0018\n",
      "Epoch [12/25], Step [200/888], Loss: 0.0136\n",
      "Epoch [12/25], Step [300/888], Loss: 0.0052\n",
      "Epoch [12/25], Step [400/888], Loss: 0.0114\n",
      "Epoch [12/25], Step [500/888], Loss: 0.0040\n",
      "Epoch [12/25], Step [600/888], Loss: 0.0068\n",
      "Epoch [12/25], Step [700/888], Loss: 0.0038\n",
      "Epoch [12/25], Step [800/888], Loss: 0.0047\n",
      "Epoch [13/25], Step [100/888], Loss: 0.0091\n",
      "Epoch [13/25], Step [200/888], Loss: 0.0086\n",
      "Epoch [13/25], Step [300/888], Loss: 0.0122\n",
      "Epoch [13/25], Step [400/888], Loss: 0.0114\n",
      "Epoch [13/25], Step [500/888], Loss: 0.0035\n",
      "Epoch [13/25], Step [600/888], Loss: 0.0204\n",
      "Epoch [13/25], Step [700/888], Loss: 0.0133\n",
      "Epoch [13/25], Step [800/888], Loss: 0.0048\n",
      "Epoch [14/25], Step [100/888], Loss: 0.0022\n",
      "Epoch [14/25], Step [200/888], Loss: 0.0029\n",
      "Epoch [14/25], Step [300/888], Loss: 0.0045\n",
      "Epoch [14/25], Step [400/888], Loss: 0.0055\n",
      "Epoch [14/25], Step [500/888], Loss: 0.0037\n",
      "Epoch [14/25], Step [600/888], Loss: 0.0040\n",
      "Epoch [14/25], Step [700/888], Loss: 0.0085\n",
      "Epoch [14/25], Step [800/888], Loss: 0.0208\n",
      "Epoch [15/25], Step [100/888], Loss: 0.0035\n",
      "Epoch [15/25], Step [200/888], Loss: 0.0072\n",
      "Epoch [15/25], Step [300/888], Loss: 0.0287\n",
      "Epoch [15/25], Step [400/888], Loss: 0.0068\n",
      "Epoch [15/25], Step [500/888], Loss: 0.0098\n",
      "Epoch [15/25], Step [600/888], Loss: 0.0039\n",
      "Epoch [15/25], Step [700/888], Loss: 0.0244\n",
      "Epoch [15/25], Step [800/888], Loss: 0.0125\n",
      "Epoch [16/25], Step [100/888], Loss: 0.0028\n",
      "Epoch [16/25], Step [200/888], Loss: 0.0057\n",
      "Epoch [16/25], Step [300/888], Loss: 0.0089\n",
      "Epoch [16/25], Step [400/888], Loss: 0.0075\n",
      "Epoch [16/25], Step [500/888], Loss: 0.0048\n",
      "Epoch [16/25], Step [600/888], Loss: 0.0091\n",
      "Epoch [16/25], Step [700/888], Loss: 0.0042\n",
      "Epoch [16/25], Step [800/888], Loss: 0.0061\n",
      "Epoch [17/25], Step [100/888], Loss: 0.0049\n",
      "Epoch [17/25], Step [200/888], Loss: 0.0044\n",
      "Epoch [17/25], Step [300/888], Loss: 0.0063\n",
      "Epoch [17/25], Step [400/888], Loss: 0.0170\n",
      "Epoch [17/25], Step [500/888], Loss: 0.0124\n",
      "Epoch [17/25], Step [600/888], Loss: 0.0334\n",
      "Epoch [17/25], Step [700/888], Loss: 0.0360\n",
      "Epoch [17/25], Step [800/888], Loss: 0.0605\n",
      "Epoch [18/25], Step [100/888], Loss: 0.0161\n",
      "Epoch [18/25], Step [200/888], Loss: 0.0047\n",
      "Epoch [18/25], Step [300/888], Loss: 0.0253\n",
      "Epoch [18/25], Step [400/888], Loss: 0.0261\n",
      "Epoch [18/25], Step [500/888], Loss: 0.0037\n",
      "Epoch [18/25], Step [600/888], Loss: 0.0057\n",
      "Epoch [18/25], Step [700/888], Loss: 0.0092\n",
      "Epoch [18/25], Step [800/888], Loss: 0.0048\n",
      "Epoch [19/25], Step [100/888], Loss: 0.0123\n",
      "Epoch [19/25], Step [200/888], Loss: 0.0062\n",
      "Epoch [19/25], Step [300/888], Loss: 0.0133\n",
      "Epoch [19/25], Step [400/888], Loss: 0.0067\n",
      "Epoch [19/25], Step [500/888], Loss: 0.0044\n",
      "Epoch [19/25], Step [600/888], Loss: 0.0065\n",
      "Epoch [19/25], Step [700/888], Loss: 0.0092\n",
      "Epoch [19/25], Step [800/888], Loss: 0.0043\n",
      "Epoch [20/25], Step [100/888], Loss: 0.0060\n",
      "Epoch [20/25], Step [200/888], Loss: 0.0067\n",
      "Epoch [20/25], Step [300/888], Loss: 0.0074\n",
      "Epoch [20/25], Step [400/888], Loss: 0.0065\n",
      "Epoch [20/25], Step [500/888], Loss: 0.0079\n",
      "Epoch [20/25], Step [600/888], Loss: 0.0242\n",
      "Epoch [20/25], Step [700/888], Loss: 0.0027\n",
      "Epoch [20/25], Step [800/888], Loss: 0.0050\n",
      "Epoch [21/25], Step [100/888], Loss: 0.0045\n",
      "Epoch [21/25], Step [200/888], Loss: 0.0128\n",
      "Epoch [21/25], Step [300/888], Loss: 0.0048\n",
      "Epoch [21/25], Step [400/888], Loss: 0.0044\n",
      "Epoch [21/25], Step [500/888], Loss: 0.0078\n",
      "Epoch [21/25], Step [600/888], Loss: 0.0179\n",
      "Epoch [21/25], Step [700/888], Loss: 0.0059\n",
      "Epoch [21/25], Step [800/888], Loss: 0.0058\n",
      "Epoch [22/25], Step [100/888], Loss: 0.0035\n",
      "Epoch [22/25], Step [200/888], Loss: 0.0033\n",
      "Epoch [22/25], Step [300/888], Loss: 0.0044\n",
      "Epoch [22/25], Step [400/888], Loss: 0.0288\n",
      "Epoch [22/25], Step [500/888], Loss: 0.0110\n",
      "Epoch [22/25], Step [600/888], Loss: 0.0221\n",
      "Epoch [22/25], Step [700/888], Loss: 0.0260\n",
      "Epoch [22/25], Step [800/888], Loss: 0.0059\n",
      "Epoch [23/25], Step [100/888], Loss: 0.0095\n",
      "Epoch [23/25], Step [200/888], Loss: 0.0058\n",
      "Epoch [23/25], Step [300/888], Loss: 0.0089\n",
      "Epoch [23/25], Step [400/888], Loss: 0.0061\n",
      "Epoch [23/25], Step [500/888], Loss: 0.0037\n",
      "Epoch [23/25], Step [600/888], Loss: 0.0040\n",
      "Epoch [23/25], Step [700/888], Loss: 0.0070\n",
      "Epoch [23/25], Step [800/888], Loss: 0.0039\n",
      "Epoch [24/25], Step [100/888], Loss: 0.0097\n",
      "Epoch [24/25], Step [200/888], Loss: 0.0026\n",
      "Epoch [24/25], Step [300/888], Loss: 0.0224\n",
      "Epoch [24/25], Step [400/888], Loss: 0.0083\n",
      "Epoch [24/25], Step [500/888], Loss: 0.0039\n",
      "Epoch [24/25], Step [600/888], Loss: 0.0105\n",
      "Epoch [24/25], Step [700/888], Loss: 0.0086\n",
      "Epoch [24/25], Step [800/888], Loss: 0.0053\n",
      "Epoch [25/25], Step [100/888], Loss: 0.0188\n",
      "Epoch [25/25], Step [200/888], Loss: 0.0043\n",
      "Epoch [25/25], Step [300/888], Loss: 0.0024\n",
      "Epoch [25/25], Step [400/888], Loss: 0.0097\n",
      "Epoch [25/25], Step [500/888], Loss: 0.1126\n",
      "Epoch [25/25], Step [600/888], Loss: 0.0629\n",
      "Epoch [25/25], Step [700/888], Loss: 0.0045\n",
      "Epoch [25/25], Step [800/888], Loss: 0.0033\n",
      "CPU times: user 3h 32min 17s, sys: 1min 41s, total: 3h 33min 58s\n",
      "Wall time: 13min 33s\n"
     ]
    }
   ],
   "source": [
    "%%time\n",
    "num_epochs = 25\n",
    "\n",
    "loss_train = []\n",
    "loss_test = []\n",
    "\n",
    "for epoch in range(num_epochs):\n",
    "    sum_loss = 0\n",
    "    n_batches = 0\n",
    "    for i, (images, labels) in enumerate(train_loader):\n",
    "        images = images.to(device)\n",
    "        labels = labels.to(device)\n",
    "\n",
    "        outputs = model(images)\n",
    "        loss = cost(outputs, labels)\n",
    "\n",
    "        optimizer.zero_grad()\n",
    "        loss.backward()\n",
    "        optimizer.step()\n",
    "\n",
    "        sum_loss += loss\n",
    "        n_batches += 1\n",
    "\n",
    "        if (i+1) % 100 == 0:\n",
    "            print ('Epoch [{}/{}], Step [{}/{}], Loss: {:.4f}'.format(epoch+1, num_epochs, i+1, total_step, loss.item()))\n",
    "\n",
    "    loss_train.append(sum_loss / n_batches)\n",
    "    \n",
    "    with torch.no_grad():\n",
    "        sum_loss = 0\n",
    "        n_batches = 0\n",
    "        for images, labels in test_loader:\n",
    "            images = images.to(device)\n",
    "            labels = labels.to(device)\n",
    "            outputs = model(images)\n",
    "            loss = cost(outputs, labels)\n",
    "            sum_loss += loss\n",
    "            n_batches += 1\n",
    "        loss_test.append(sum_loss / n_batches)"
   ]
  },
  {
   "cell_type": "code",
   "execution_count": 21,
   "metadata": {},
   "outputs": [
    {
     "name": "stdout",
     "output_type": "stream",
     "text": [
      "Accuracy of the network on the 26640 train images: 100.0 %\n",
      "CPU times: user 6min 14s, sys: 569 ms, total: 6min 14s\n",
      "Wall time: 24 s\n"
     ]
    }
   ],
   "source": [
    "%%time\n",
    "with torch.no_grad():\n",
    "    correct = 0\n",
    "    total = 0\n",
    "    for images, labels in train_loader:\n",
    "        images = images.to(device)\n",
    "        labels = labels.to(device)\n",
    "        outputs = model(images)\n",
    "        _, predicted = torch.max(outputs.data, 1)\n",
    "        total += labels.size(0)\n",
    "        correct += (predicted == labels).sum().item()\n",
    "    print('Accuracy of the network on the 26640 train images: {} %'.format(100 * correct / total))"
   ]
  },
  {
   "cell_type": "code",
   "execution_count": 22,
   "metadata": {
    "colab": {
     "base_uri": "https://localhost:8080/"
    },
    "id": "ZPDrJgsiDH9-",
    "outputId": "b666a317-d90d-46f6-f034-611719199701"
   },
   "outputs": [
    {
     "name": "stdout",
     "output_type": "stream",
     "text": [
      "Accuracy of the network on the 12630 test images: 98.13143309580364 %\n",
      "CPU times: user 2min 12s, sys: 140 ms, total: 2min 12s\n",
      "Wall time: 8.46 s\n"
     ]
    }
   ],
   "source": [
    "%%time\n",
    "with torch.no_grad():\n",
    "    correct = 0\n",
    "    total = 0\n",
    "    for images, labels in test_loader:\n",
    "        images = images.to(device)\n",
    "        labels = labels.to(device)\n",
    "        outputs = model(images)\n",
    "        _, predicted = torch.max(outputs.data, 1)\n",
    "        total += labels.size(0)\n",
    "        correct += (predicted == labels).sum().item()\n",
    "    print('Accuracy of the network on the 12630 test images: {} %'.format(100 * correct / total))"
   ]
  },
  {
   "cell_type": "code",
   "execution_count": 23,
   "metadata": {
    "id": "Epn18HlOCawb"
   },
   "outputs": [
    {
     "data": {
      "text/plain": [
       "[<matplotlib.lines.Line2D at 0x7348cc715f40>]"
      ]
     },
     "execution_count": 23,
     "metadata": {},
     "output_type": "execute_result"
    },
    {
     "data": {
      "image/png": "[encoded data removed]",
      "text/plain": [
       "<Figure size 640x480 with 1 Axes>"
      ]
     },
     "metadata": {},
     "output_type": "display_data"
    }
   ],
   "source": [
    "loss_train = np.array(torch.Tensor(loss_train))\n",
    "loss_test = np.array(torch.Tensor(loss_test))\n",
    "\n",
    "x = [i for i in range(num_epochs)]\n",
    "\n",
    "fig, ax = plt.subplots()\n",
    "\n",
    "ax.plot(x, loss_train, color='blue')\n",
    "ax.plot(x, loss_test, color='red')"
   ]
  },
  {
   "cell_type": "code",
   "execution_count": null,
   "metadata": {
    "id": "f5D4WmPKFJYy"
   },
   "outputs": [],
   "source": []
  },
  {
   "cell_type": "code",
   "execution_count": null,
   "metadata": {},
   "outputs": [],
   "source": []
  }
 ],
 "metadata": {
  "colab": {
   "provenance": []
  },
  "kernelspec": {
   "display_name": "Python 3 (ipykernel)",
   "language": "python",
   "name": "python3"
  },
  "language_info": {
   "codemirror_mode": {
    "name": "ipython",
    "version": 3
   },
   "file_extension": ".py",
   "mimetype": "text/x-python",
   "name": "python",
   "nbconvert_exporter": "python",
   "pygments_lexer": "ipython3",
   "version": "3.12.7"
  }
 },
 "nbformat": 4,
 "nbformat_minor": 4
}
