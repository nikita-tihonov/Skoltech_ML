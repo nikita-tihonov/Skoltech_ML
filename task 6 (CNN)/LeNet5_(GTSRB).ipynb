{
  "nbformat": 4,
  "nbformat_minor": 0,
  "metadata": {
    "colab": {
      "provenance": []
    },
    "kernelspec": {
      "name": "python3",
      "display_name": "Python 3"
    },
    "language_info": {
      "name": "python"
    }
  },
  "cells": [
    {
      "cell_type": "code",
      "execution_count": 98,
      "metadata": {
        "id": "6EViF6-Vz_o8"
      },
      "outputs": [],
      "source": [
        "import torch\n",
        "from torch import nn\n",
        "from torch.utils.data import DataLoader, random_split\n",
        "from torchvision import datasets\n",
        "from torchvision.transforms import ToTensor, transforms\n",
        "from torchvision.datasets import ImageFolder\n",
        "import numpy as np\n",
        "import matplotlib.pyplot as plt\n",
        "import pandas as pd"
      ]
    },
    {
      "cell_type": "code",
      "source": [
        "device = (\n",
        "    \"cuda\"\n",
        "    if torch.cuda.is_available()\n",
        "    else \"mps\"\n",
        "    if torch.backends.mps.is_available()\n",
        "    else \"cpu\"\n",
        ")\n",
        "print(f\"Using {device} device\")"
      ],
      "metadata": {
        "colab": {
          "base_uri": "https://localhost:8080/"
        },
        "id": "q1ibHO7k3pqk",
        "outputId": "06d75603-a008-469b-8595-89ae6e9e4802"
      },
      "execution_count": 99,
      "outputs": [
        {
          "output_type": "stream",
          "name": "stdout",
          "text": [
            "Using cpu device\n"
          ]
        }
      ]
    },
    {
      "cell_type": "code",
      "source": [
        "batch_size = 64\n",
        "num_classes = 43"
      ],
      "metadata": {
        "id": "GzR3hHjN2hCy"
      },
      "execution_count": 100,
      "outputs": []
    },
    {
      "cell_type": "code",
      "source": [
        "train_dataset = datasets.GTSRB(root='./data',\n",
        "                                split=\"train\",\n",
        "                                transform = transforms.Compose([\n",
        "                                    transforms.Resize((32, 32)),\n",
        "                                    transforms.ToTensor(),\n",
        "                                    transforms.Normalize(mean=(1.,), std = (0.5 ))]),\n",
        "                                download = True)\n",
        "test_dataset = datasets.GTSRB(root='./data',\n",
        "                                split=\"test\",\n",
        "                                transform = transforms.Compose([\n",
        "                                    transforms.Resize((32, 32)),\n",
        "                                    transforms.ToTensor(),\n",
        "                                    transforms.Normalize(mean=(1.,), std = (0.5 ))]),\n",
        "                                download = True)\n",
        "\n",
        "train_loader = DataLoader(dataset = train_dataset,\n",
        "                          batch_size = batch_size,\n",
        "                          shuffle = True)\n",
        "\n",
        "test_loader = DataLoader(dataset = test_dataset,\n",
        "                          batch_size = batch_size,\n",
        "                          shuffle = True)"
      ],
      "metadata": {
        "id": "G2kLDR690Aso"
      },
      "execution_count": 112,
      "outputs": []
    },
    {
      "cell_type": "code",
      "source": [
        "class LeNet5(nn.Module):\n",
        "    def __init__(self, num_classes):\n",
        "        super(LeNet5, self).__init__()\n",
        "        self.layer1 = nn.Sequential(\n",
        "            nn.Conv2d(3, 6, kernel_size=5, stride=1, padding=0),\n",
        "            nn.BatchNorm2d(6),\n",
        "            nn.ReLU(),\n",
        "            nn.MaxPool2d(kernel_size=2, stride=2)\n",
        "        )\n",
        "        self.layer2 = nn.Sequential(\n",
        "            nn.Conv2d(6, 16, kernel_size=5, stride=1, padding=0),\n",
        "            nn.BatchNorm2d(16),\n",
        "            nn.ReLU(),\n",
        "            nn.MaxPool2d(kernel_size = 2, stride = 2)\n",
        "        )\n",
        "        self.fc = nn.Linear(400, 120)\n",
        "        self.relu = nn.ReLU()\n",
        "        self.fc1 = nn.Linear(120, 84)\n",
        "        self.relu1 = nn.ReLU()\n",
        "        self.fc2 = nn.Linear(84, num_classes)\n",
        "\n",
        "    def forward(self, x):\n",
        "        out = self.layer1(x)\n",
        "        out = self.layer2(out)\n",
        "        out = out.reshape(out.size(0), -1)\n",
        "        out = self.fc(out)\n",
        "        out = self.relu(out)\n",
        "        out = self.fc1(out)\n",
        "        out = self.relu1(out)\n",
        "        out = self.fc2(out)\n",
        "        return out"
      ],
      "metadata": {
        "id": "tgjY3RaR2RXF"
      },
      "execution_count": 113,
      "outputs": []
    },
    {
      "cell_type": "code",
      "source": [
        "model = LeNet5(num_classes).to(device)\n",
        "\n",
        "cost = nn.CrossEntropyLoss()\n",
        "\n",
        "learning_rate = 0.001\n",
        "optimizer = torch.optim.Adam(model.parameters(), lr=learning_rate)"
      ],
      "metadata": {
        "id": "oP3C0zby2RaF"
      },
      "execution_count": 114,
      "outputs": []
    },
    {
      "cell_type": "code",
      "source": [
        "num_epochs = 4\n",
        "\n",
        "loss_train = []\n",
        "loss_test = []\n",
        "\n",
        "total_step = len(train_loader)\n",
        "for epoch in range(num_epochs):\n",
        "    sum_loss = 0\n",
        "    n_batches = 0\n",
        "    for i, (images, labels) in enumerate(train_loader):\n",
        "        images = images.to(device)\n",
        "        labels = labels.to(device)\n",
        "        outputs = model(images)\n",
        "        loss = cost(outputs, labels)\n",
        "        optimizer.zero_grad()\n",
        "        loss.backward()\n",
        "        optimizer.step()\n",
        "        sum_loss += loss\n",
        "        n_batches += 1\n",
        "        if (i+1) % 100 == 0:\n",
        "            print ('Epoch [{}/{}], Step [{}/{}], Loss: {:.4f}'.format(epoch+1, num_epochs, i+1, total_step, loss.item()))\n",
        "    loss_train.append(sum_loss / n_batches)\n",
        "\n",
        "    sum_loss = 0\n",
        "    n_batches = 0\n",
        "    for images, labels in test_loader:\n",
        "        images = images.to(device)\n",
        "        labels = labels.to(device)\n",
        "        outputs = model(images)\n",
        "        loss = cost(outputs, labels)\n",
        "        sum_loss += loss\n",
        "        n_batches += 1\n",
        "    loss_test.append(sum_loss / n_batches)"
      ],
      "metadata": {
        "colab": {
          "base_uri": "https://localhost:8080/"
        },
        "id": "-oIBaCGu2Rcr",
        "outputId": "e647813a-ba96-462d-92c9-613b114c1e9d"
      },
      "execution_count": 117,
      "outputs": [
        {
          "output_type": "stream",
          "name": "stdout",
          "text": [
            "Epoch [1/4], Step [100/417], Loss: 0.2808\n",
            "Epoch [1/4], Step [200/417], Loss: 0.3177\n",
            "Epoch [1/4], Step [300/417], Loss: 0.3208\n",
            "Epoch [1/4], Step [400/417], Loss: 0.2293\n",
            "Epoch [2/4], Step [100/417], Loss: 0.2637\n",
            "Epoch [2/4], Step [200/417], Loss: 0.2095\n",
            "Epoch [2/4], Step [300/417], Loss: 0.0371\n",
            "Epoch [2/4], Step [400/417], Loss: 0.2067\n",
            "Epoch [3/4], Step [100/417], Loss: 0.0741\n",
            "Epoch [3/4], Step [200/417], Loss: 0.0257\n",
            "Epoch [3/4], Step [300/417], Loss: 0.0934\n",
            "Epoch [3/4], Step [400/417], Loss: 0.0523\n",
            "Epoch [4/4], Step [100/417], Loss: 0.0247\n",
            "Epoch [4/4], Step [200/417], Loss: 0.0160\n",
            "Epoch [4/4], Step [300/417], Loss: 0.0696\n",
            "Epoch [4/4], Step [400/417], Loss: 0.0629\n"
          ]
        }
      ]
    },
    {
      "cell_type": "code",
      "source": [
        "loss_train = np.array(torch.Tensor(loss_train))\n",
        "loss_test = np.array(torch.Tensor(loss_test))\n",
        "\n",
        "x = [i for i in range(num_epochs)]\n",
        "\n",
        "fig, ax = plt.subplots()\n",
        "\n",
        "ax.plot(x, loss_train, color='blue')\n",
        "ax.plot(x, loss_test, color='red')"
      ],
      "metadata": {
        "colab": {
          "base_uri": "https://localhost:8080/",
          "height": 472
        },
        "id": "LdNw8UhE8eDg",
        "outputId": "262b296c-891c-446b-800e-47c8d310a766"
      },
      "execution_count": 118,
      "outputs": [
        {
          "output_type": "execute_result",
          "data": {
            "text/plain": [
              "[<matplotlib.lines.Line2D at 0x7ea37db2bee0>]"
            ]
          },
          "metadata": {},
          "execution_count": 118
        },
        {
          "output_type": "display_data",
          "data": {
            "text/plain": [
              "<Figure size 640x480 with 1 Axes>"
            ],
            "image/png": "[encoded data removed]"
          },
          "metadata": {}
        }
      ]
    },
    {
      "cell_type": "code",
      "source": [
        "with torch.no_grad():\n",
        "    correct = 0\n",
        "    total = 0\n",
        "    for images, labels in test_loader:\n",
        "        images = images.to(device)\n",
        "        labels = labels.to(device)\n",
        "        outputs = model(images)\n",
        "        _, predicted = torch.max(outputs.data, 1)\n",
        "        total += labels.size(0)\n",
        "        correct += (predicted == labels).sum().item()\n",
        "    print('Accuracy of the network on the 12630 test images: {} %'.format(100 * correct / total))"
      ],
      "metadata": {
        "colab": {
          "base_uri": "https://localhost:8080/"
        },
        "id": "Qemu9TdP0mRx",
        "outputId": "776e37df-a580-46a3-e172-2b96dc8f3392"
      },
      "execution_count": 119,
      "outputs": [
        {
          "output_type": "stream",
          "name": "stdout",
          "text": [
            "Accuracy of the network on the 12630 test images: 89.73871733966746 %\n"
          ]
        }
      ]
    },
    {
      "cell_type": "code",
      "source": [],
      "metadata": {
        "id": "KMlwZkjq0mWc"
      },
      "execution_count": 24,
      "outputs": []
    }
  ]
}