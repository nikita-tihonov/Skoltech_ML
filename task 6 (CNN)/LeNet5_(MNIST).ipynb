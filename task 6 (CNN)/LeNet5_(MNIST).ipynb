{
  "cells": [
    {
      "cell_type": "code",
      "execution_count": 25,
      "id": "01057951-3121-4f3e-b831-114d92df85f2",
      "metadata": {
        "id": "01057951-3121-4f3e-b831-114d92df85f2"
      },
      "outputs": [],
      "source": [
        "import torch\n",
        "from torch import nn\n",
        "from torch.utils.data import DataLoader\n",
        "from torchvision import datasets\n",
        "from torchvision.transforms import ToTensor, transforms\n",
        "from torchvision.datasets import ImageFolder\n",
        "import numpy as np\n",
        "import matplotlib.pyplot as plt\n",
        "import pandas as pd"
      ]
    },
    {
      "cell_type": "code",
      "execution_count": 26,
      "id": "cbebda19-11bc-47cc-86c1-d0a2cc877846",
      "metadata": {
        "colab": {
          "base_uri": "https://localhost:8080/"
        },
        "id": "cbebda19-11bc-47cc-86c1-d0a2cc877846",
        "outputId": "4210e2ee-be69-40c4-c42d-7a74ff5127a2"
      },
      "outputs": [
        {
          "output_type": "stream",
          "name": "stdout",
          "text": [
            "Using cpu device\n"
          ]
        }
      ],
      "source": [
        "device = (\n",
        "    \"cuda\"\n",
        "    if torch.cuda.is_available()\n",
        "    else \"mps\"\n",
        "    if torch.backends.mps.is_available()\n",
        "    else \"cpu\"\n",
        ")\n",
        "print(f\"Using {device} device\")"
      ]
    },
    {
      "cell_type": "code",
      "execution_count": 27,
      "id": "ae9079f2-eee8-4988-85ea-1562d6635ca3",
      "metadata": {
        "id": "ae9079f2-eee8-4988-85ea-1562d6635ca3"
      },
      "outputs": [],
      "source": [
        "batch_size = 64\n",
        "num_classes = 10"
      ]
    },
    {
      "cell_type": "code",
      "execution_count": 28,
      "id": "0eb30f01-e308-4290-886f-0e6780f6f889",
      "metadata": {
        "id": "0eb30f01-e308-4290-886f-0e6780f6f889"
      },
      "outputs": [],
      "source": [
        "train_dataset = datasets.MNIST(root='./data',\n",
        "                                          train = True,\n",
        "                                          transform = transforms.Compose([\n",
        "                                              transforms.Resize((32, 32)),\n",
        "                                              transforms.ToTensor(),\n",
        "                                              transforms.Normalize(mean=(1.,), std = (0.5 ))]),\n",
        "                                           download = True)\n",
        "\n",
        "test_dataset = datasets.MNIST(root='./data',\n",
        "                                          train = False,\n",
        "                                          transform = transforms.Compose([\n",
        "                                              transforms.Resize((32, 32)),\n",
        "                                              transforms.ToTensor(),\n",
        "                                              transforms.Normalize(mean=(1.,), std = (0.5, ))]),\n",
        "                                           download = True)\n",
        "\n",
        "train_loader = DataLoader(dataset = train_dataset,\n",
        "                          batch_size = batch_size,\n",
        "                          shuffle = True)\n",
        "\n",
        "test_loader = DataLoader(dataset = test_dataset,\n",
        "                          batch_size = batch_size,\n",
        "                          shuffle = True)"
      ]
    },
    {
      "cell_type": "code",
      "execution_count": 29,
      "id": "2679ff60-0669-44fd-81d5-45a2980cf5e2",
      "metadata": {
        "id": "2679ff60-0669-44fd-81d5-45a2980cf5e2"
      },
      "outputs": [],
      "source": [
        "class LeNet5(nn.Module):\n",
        "    def __init__(self, num_classes):\n",
        "        super(LeNet5, self).__init__()\n",
        "        self.layer1 = nn.Sequential(\n",
        "            nn.Conv2d(1, 6, kernel_size=5, stride=1, padding=0),\n",
        "            nn.BatchNorm2d(6),\n",
        "            nn.ReLU(),\n",
        "            nn.MaxPool2d(kernel_size=2, stride=2)\n",
        "        )\n",
        "        self.layer2 = nn.Sequential(\n",
        "            nn.Conv2d(6, 16, kernel_size=5, stride=1, padding=0),\n",
        "            nn.BatchNorm2d(16),\n",
        "            nn.ReLU(),\n",
        "            nn.MaxPool2d(kernel_size = 2, stride = 2)\n",
        "        )\n",
        "        self.fc = nn.Linear(400, 120)\n",
        "        self.relu = nn.ReLU()\n",
        "        self.fc1 = nn.Linear(120, 84)\n",
        "        self.relu1 = nn.ReLU()\n",
        "        self.fc2 = nn.Linear(84, num_classes)\n",
        "\n",
        "    def forward(self, x):\n",
        "        out = self.layer1(x)\n",
        "        out = self.layer2(out)\n",
        "        out = out.reshape(out.size(0), -1)\n",
        "        out = self.fc(out)\n",
        "        out = self.relu(out)\n",
        "        out = self.fc1(out)\n",
        "        out = self.relu1(out)\n",
        "        out = self.fc2(out)\n",
        "        return out"
      ]
    },
    {
      "cell_type": "code",
      "execution_count": 34,
      "id": "1420855f-de78-4ed3-a139-6fcf25a054b7",
      "metadata": {
        "id": "1420855f-de78-4ed3-a139-6fcf25a054b7"
      },
      "outputs": [],
      "source": [
        "model = LeNet5(num_classes).to(device)\n",
        "\n",
        "cost = nn.CrossEntropyLoss()\n",
        "\n",
        "learning_rate = 0.001\n",
        "optimizer = torch.optim.Adam(model.parameters(), lr=learning_rate)"
      ]
    },
    {
      "cell_type": "code",
      "execution_count": 35,
      "id": "091ea81c-0f47-48fb-afd3-9ccbcdbd1543",
      "metadata": {
        "colab": {
          "base_uri": "https://localhost:8080/"
        },
        "id": "091ea81c-0f47-48fb-afd3-9ccbcdbd1543",
        "outputId": "28ac89af-4e65-4abe-e5db-a8afe8909c48"
      },
      "outputs": [
        {
          "output_type": "stream",
          "name": "stdout",
          "text": [
            "Epoch [1/3], Step [100/938], Loss: 0.1704\n",
            "Epoch [1/3], Step [200/938], Loss: 0.1699\n",
            "Epoch [1/3], Step [300/938], Loss: 0.1281\n",
            "Epoch [1/3], Step [400/938], Loss: 0.0635\n",
            "Epoch [1/3], Step [500/938], Loss: 0.0859\n",
            "Epoch [1/3], Step [600/938], Loss: 0.1108\n",
            "Epoch [1/3], Step [700/938], Loss: 0.0371\n",
            "Epoch [1/3], Step [800/938], Loss: 0.0372\n",
            "Epoch [1/3], Step [900/938], Loss: 0.0856\n",
            "Epoch [2/3], Step [100/938], Loss: 0.1844\n",
            "Epoch [2/3], Step [200/938], Loss: 0.0086\n",
            "Epoch [2/3], Step [300/938], Loss: 0.0068\n",
            "Epoch [2/3], Step [400/938], Loss: 0.0228\n",
            "Epoch [2/3], Step [500/938], Loss: 0.0131\n",
            "Epoch [2/3], Step [600/938], Loss: 0.0742\n",
            "Epoch [2/3], Step [700/938], Loss: 0.0351\n",
            "Epoch [2/3], Step [800/938], Loss: 0.0453\n",
            "Epoch [2/3], Step [900/938], Loss: 0.0223\n",
            "Epoch [3/3], Step [100/938], Loss: 0.0061\n",
            "Epoch [3/3], Step [200/938], Loss: 0.0151\n",
            "Epoch [3/3], Step [300/938], Loss: 0.0553\n",
            "Epoch [3/3], Step [400/938], Loss: 0.1043\n",
            "Epoch [3/3], Step [500/938], Loss: 0.0041\n",
            "Epoch [3/3], Step [600/938], Loss: 0.0088\n",
            "Epoch [3/3], Step [700/938], Loss: 0.0222\n",
            "Epoch [3/3], Step [800/938], Loss: 0.0693\n",
            "Epoch [3/3], Step [900/938], Loss: 0.0199\n"
          ]
        }
      ],
      "source": [
        "num_epochs = 3\n",
        "\n",
        "loss_train = []\n",
        "loss_test = []\n",
        "\n",
        "total_step = len(train_loader)\n",
        "for epoch in range(num_epochs):\n",
        "    sum_loss = 0\n",
        "    n_batches = 0\n",
        "    for i, (images, labels) in enumerate(train_loader):\n",
        "        images = images.to(device)\n",
        "        labels = labels.to(device)\n",
        "        outputs = model(images)\n",
        "        loss = cost(outputs, labels)\n",
        "        optimizer.zero_grad()\n",
        "        loss.backward()\n",
        "        optimizer.step()\n",
        "        sum_loss += loss\n",
        "        n_batches += 1\n",
        "        if (i+1) % 100 == 0:\n",
        "            print ('Epoch [{}/{}], Step [{}/{}], Loss: {:.4f}'.format(epoch+1, num_epochs, i+1, total_step, loss.item()))\n",
        "    loss_train.append(sum_loss / n_batches)\n",
        "\n",
        "    sum_loss = 0\n",
        "    n_batches = 0\n",
        "    for images, labels in test_loader:\n",
        "        images = images.to(device)\n",
        "        labels = labels.to(device)\n",
        "        outputs = model(images)\n",
        "        loss = cost(outputs, labels)\n",
        "        sum_loss += loss\n",
        "        n_batches += 1\n",
        "    loss_test.append(sum_loss / n_batches)"
      ]
    },
    {
      "cell_type": "code",
      "execution_count": 36,
      "id": "1138a5c3-e277-4b8e-9e5e-96fa74fc772c",
      "metadata": {
        "colab": {
          "base_uri": "https://localhost:8080/",
          "height": 467
        },
        "id": "1138a5c3-e277-4b8e-9e5e-96fa74fc772c",
        "outputId": "b8e510ba-01fe-4f82-b6eb-1a8d16d02066"
      },
      "outputs": [
        {
          "output_type": "execute_result",
          "data": {
            "text/plain": [
              "[<matplotlib.lines.Line2D at 0x7eb02667bfa0>]"
            ]
          },
          "metadata": {},
          "execution_count": 36
        },
        {
          "output_type": "display_data",
          "data": {
            "text/plain": [
              "<Figure size 640x480 with 1 Axes>"
            ],
            "image/png": "[encoded data removed]"
          },
          "metadata": {}
        }
      ],
      "source": [
        "loss_train = np.array(torch.Tensor(loss_train))\n",
        "loss_test = np.array(torch.Tensor(loss_test))\n",
        "\n",
        "x = [i for i in range(num_epochs)]\n",
        "\n",
        "fig, ax = plt.subplots()\n",
        "\n",
        "ax.plot(x, loss_train, color='blue')\n",
        "ax.plot(x, loss_test, color='red')"
      ]
    },
    {
      "cell_type": "code",
      "execution_count": 37,
      "id": "85128a63-a469-4a42-b9e4-23a58f62dde9",
      "metadata": {
        "colab": {
          "base_uri": "https://localhost:8080/"
        },
        "id": "85128a63-a469-4a42-b9e4-23a58f62dde9",
        "outputId": "ddf0213f-3b24-461f-8089-a8c1f7fdcbd5"
      },
      "outputs": [
        {
          "output_type": "stream",
          "name": "stdout",
          "text": [
            "Accuracy of the network on the 10000 test images: 98.87 %\n"
          ]
        }
      ],
      "source": [
        "with torch.no_grad():\n",
        "    correct = 0\n",
        "    total = 0\n",
        "    for images, labels in test_loader:\n",
        "        images = images.to(device)\n",
        "        labels = labels.to(device)\n",
        "        outputs = model(images)\n",
        "        _, predicted = torch.max(outputs.data, 1)\n",
        "        total += labels.size(0)\n",
        "        correct += (predicted == labels).sum().item()\n",
        "    print('Accuracy of the network on the 10000 test images: {} %'.format(100 * correct / total))"
      ]
    },
    {
      "cell_type": "code",
      "source": [],
      "metadata": {
        "id": "oZwze9Yr9H70"
      },
      "id": "oZwze9Yr9H70",
      "execution_count": null,
      "outputs": []
    }
  ],
  "metadata": {
    "kernelspec": {
      "display_name": "Python 3 (ipykernel)",
      "language": "python",
      "name": "python3"
    },
    "language_info": {
      "codemirror_mode": {
        "name": "ipython",
        "version": 3
      },
      "file_extension": ".py",
      "mimetype": "text/x-python",
      "name": "python",
      "nbconvert_exporter": "python",
      "pygments_lexer": "ipython3",
      "version": "3.12.4"
    },
    "colab": {
      "provenance": []
    }
  },
  "nbformat": 4,
  "nbformat_minor": 5
}